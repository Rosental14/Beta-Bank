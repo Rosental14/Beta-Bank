{
 "cells": [
  {
   "cell_type": "markdown",
   "metadata": {},
   "source": [
    "<center>\n",
    "    \n",
    "# Beta Bank"
   ]
  },
  {
   "cell_type": "markdown",
   "metadata": {},
   "source": [
    "**O objetivo deste projeto é prever se um cliente irá deixar o banco em breve.** \n",
    "\n",
    "**Iremos analisar os dados sobre o comportamento passado dos clientes e as rescisões de contratos com o banco e, com isso, construiremos um modelo com o valor máximo possível de F1. Nosso alvo é um F1-score de pelo menos 0.59 para o conjunto de dados de teste e, além disso, compararemos a métrica AUC-ROC com o F1-score.**\n",
    "\n",
    "**Vamos lidar com um objetivo categórico (se o cliente irá deixar o banco ou não), portanto, focaremos nos modelos de classificação.**"
   ]
  },
  {
   "cell_type": "markdown",
   "metadata": {},
   "source": [
    "## Importação das bibliotecas e módulos necessários"
   ]
  },
  {
   "cell_type": "code",
   "execution_count": 151,
   "metadata": {},
   "outputs": [],
   "source": [
    "# bibliotecas:\n",
    "import pandas as pd\n",
    "import numpy as np\n",
    "import matplotlib.pyplot as plt\n",
    "import re\n",
    "import time\n",
    "\n",
    "# módulos:\n",
    "\n",
    "    # treinamento de modelos \n",
    "from sklearn.tree import DecisionTreeClassifier\n",
    "from sklearn.ensemble import RandomForestClassifier\n",
    "from sklearn.linear_model import LogisticRegression\n",
    "\n",
    "    # separação dos dados\n",
    "from sklearn.model_selection import train_test_split\n",
    "\n",
    "    # métricas\n",
    "from sklearn.metrics import accuracy_score\n",
    "from sklearn.metrics import mean_squared_error\n",
    "from sklearn.metrics import mean_absolute_error\n",
    "from sklearn.metrics import confusion_matrix\n",
    "from sklearn.metrics import recall_score\n",
    "from sklearn.metrics import precision_score\n",
    "from sklearn.metrics import f1_score\n",
    "from sklearn.metrics import roc_curve\n",
    "from sklearn.metrics import roc_auc_score\n",
    "from sklearn.metrics import precision_recall_curve\n",
    "from sklearn.metrics import r2_score\n",
    "\n",
    "    # pre-processamento\n",
    "from sklearn.preprocessing import LabelEncoder\n",
    "from sklearn.preprocessing import OrdinalEncoder\n",
    "from sklearn.preprocessing import StandardScaler\n",
    "from sklearn.utils import shuffle"
   ]
  },
  {
   "cell_type": "markdown",
   "metadata": {},
   "source": [
    "## Pré-análise e pré-processamento dos dados"
   ]
  },
  {
   "cell_type": "markdown",
   "metadata": {},
   "source": [
    "**Nesta etapa iremos carregar os dados e depois analisá-los e alterá-los, se necessário. Iremos focar no padrão dos nomes das colunas, os tipos de dados, dados ausentes e dados repetidos.**"
   ]
  },
  {
   "cell_type": "code",
   "execution_count": 152,
   "metadata": {},
   "outputs": [
    {
     "name": "stdout",
     "output_type": "stream",
     "text": [
      "   RowNumber  CustomerId   Surname  CreditScore Geography  Gender  Age  \\\n",
      "0          1    15634602  Hargrave          619    France  Female   42   \n",
      "1          2    15647311      Hill          608     Spain  Female   41   \n",
      "2          3    15619304      Onio          502    France  Female   42   \n",
      "3          4    15701354      Boni          699    France  Female   39   \n",
      "4          5    15737888  Mitchell          850     Spain  Female   43   \n",
      "\n",
      "   Tenure    Balance  NumOfProducts  HasCrCard  IsActiveMember  \\\n",
      "0     2.0       0.00              1          1               1   \n",
      "1     1.0   83807.86              1          0               1   \n",
      "2     8.0  159660.80              3          1               0   \n",
      "3     1.0       0.00              2          0               0   \n",
      "4     2.0  125510.82              1          1               1   \n",
      "\n",
      "   EstimatedSalary  Exited  \n",
      "0        101348.88       1  \n",
      "1        112542.58       0  \n",
      "2        113931.57       1  \n",
      "3         93826.63       0  \n",
      "4         79084.10       0  \n"
     ]
    }
   ],
   "source": [
    "# Carregando os dados do dataframe\n",
    "df = pd.read_csv('./datasets/Churn.csv')\n",
    "\n",
    "print(df.head(5))"
   ]
  },
  {
   "cell_type": "code",
   "execution_count": 153,
   "metadata": {},
   "outputs": [
    {
     "name": "stdout",
     "output_type": "stream",
     "text": [
      "<class 'pandas.core.frame.DataFrame'>\n",
      "RangeIndex: 10000 entries, 0 to 9999\n",
      "Data columns (total 14 columns):\n",
      " #   Column           Non-Null Count  Dtype  \n",
      "---  ------           --------------  -----  \n",
      " 0   RowNumber        10000 non-null  int64  \n",
      " 1   CustomerId       10000 non-null  int64  \n",
      " 2   Surname          10000 non-null  object \n",
      " 3   CreditScore      10000 non-null  int64  \n",
      " 4   Geography        10000 non-null  object \n",
      " 5   Gender           10000 non-null  object \n",
      " 6   Age              10000 non-null  int64  \n",
      " 7   Tenure           9091 non-null   float64\n",
      " 8   Balance          10000 non-null  float64\n",
      " 9   NumOfProducts    10000 non-null  int64  \n",
      " 10  HasCrCard        10000 non-null  int64  \n",
      " 11  IsActiveMember   10000 non-null  int64  \n",
      " 12  EstimatedSalary  10000 non-null  float64\n",
      " 13  Exited           10000 non-null  int64  \n",
      "dtypes: float64(3), int64(8), object(3)\n",
      "memory usage: 1.1+ MB\n",
      "None\n"
     ]
    }
   ],
   "source": [
    "# Imprimindo as informações gerais do Dataframe\n",
    "print(df.info())"
   ]
  },
  {
   "cell_type": "markdown",
   "metadata": {},
   "source": [
    "**Analisando as informações gerais do DataFrame podemos observar que:**\n",
    "\n",
    "* Ele possui 14 colunas e 10000 linhas;\n",
    "\n",
    "\n",
    "* Os nomes das colunas precisam ser alterados para snake_case;\n",
    "\n",
    "\n",
    "* A coluna 'Tenure' possui dados ausentes e precisamos analisá-los;\n",
    "\n",
    "\n",
    "* Podemos alterar alguns dados para dados de tipo categórico para que fiquem mais condizentes com nossas necessidades: <br/>**Geography, Gender, HasCrCard, IsActiveMember e Exited**"
   ]
  },
  {
   "cell_type": "markdown",
   "metadata": {},
   "source": [
    "### Renomeação das Colunas"
   ]
  },
  {
   "cell_type": "code",
   "execution_count": 154,
   "metadata": {},
   "outputs": [
    {
     "name": "stdout",
     "output_type": "stream",
     "text": [
      "[' Row Number', ' Customer Id', ' Surname', ' Credit Score', ' Geography', ' Gender', ' Age', ' Tenure', ' Balance', ' Num Of Products', ' Has Cr Card', ' Is Active Member', ' Estimated Salary', ' Exited']\n"
     ]
    }
   ],
   "source": [
    "# Criando a variável columns_new com os nomes das colunas em uma lista\n",
    "columns_new = df.columns\n",
    "\n",
    "# Transformando a lista em string para poder usar regex\n",
    "string_columns = '/'.join(columns_new)\n",
    "\n",
    "# Usando Expressões Regulares (Regex) para alterar as strings inserindo um espaço antes das letras maiúsculas\n",
    "regex_columns = re.sub('(?=[A-Z])', ' ', string_columns)\n",
    "regex_columns = regex_columns.split('/')\n",
    "\n",
    "print(regex_columns)"
   ]
  },
  {
   "cell_type": "code",
   "execution_count": 155,
   "metadata": {},
   "outputs": [
    {
     "name": "stdout",
     "output_type": "stream",
     "text": [
      "['row_number', 'customer_id', 'surname', 'credit_score', 'geography', 'gender', 'age', 'tenure', 'balance', 'num_of_products', 'has_cr_card', 'is_active_member', 'estimated_salary', 'exited']\n"
     ]
    }
   ],
   "source": [
    "# Criando a lista vazia para anexar os nomes das colunas após transformações\n",
    "new_col_names = []\n",
    "\n",
    "# Criando loop para renomear todas as colunas em snake_case\n",
    "for name in regex_columns:\n",
    "    name_stripped = name.strip()\n",
    "    name_lowered = name_stripped.lower()\n",
    "    name_no_spaces = name_lowered.replace(' ', '_')\n",
    "    \n",
    "    new_col_names.append(name_no_spaces)\n",
    "\n",
    "print(new_col_names)"
   ]
  },
  {
   "cell_type": "code",
   "execution_count": 156,
   "metadata": {},
   "outputs": [
    {
     "name": "stdout",
     "output_type": "stream",
     "text": [
      "Index(['row_number', 'customer_id', 'surname', 'credit_score', 'geography',\n",
      "       'gender', 'age', 'tenure', 'balance', 'num_of_products', 'has_cr_card',\n",
      "       'is_active_member', 'estimated_salary', 'exited'],\n",
      "      dtype='object')\n"
     ]
    }
   ],
   "source": [
    "# Renomeando as colunas do DataFrame com os nomes modificados anteriormente\n",
    "df.columns = new_col_names\n",
    "\n",
    "print(df.columns)"
   ]
  },
  {
   "cell_type": "markdown",
   "metadata": {},
   "source": [
    "### Alteração de tipos de dados"
   ]
  },
  {
   "cell_type": "markdown",
   "metadata": {},
   "source": [
    "#### Alteração de dados para dados de tipo categórico:"
   ]
  },
  {
   "cell_type": "code",
   "execution_count": 157,
   "metadata": {},
   "outputs": [],
   "source": [
    "# Criando a lista com as colunas que precisam ser alteradas para 'category'\n",
    "category_list = ['geography', 'gender', 'has_cr_card', 'is_active_member','exited']\n",
    "\n",
    "# Criando loop para alterar as colunas da lista para dados do tipo 'category' com método astype\n",
    "for element in category_list:\n",
    "    df[element] = df[element].astype('category')"
   ]
  },
  {
   "cell_type": "markdown",
   "metadata": {},
   "source": [
    "### Análise da coluna 'tenure'"
   ]
  },
  {
   "cell_type": "markdown",
   "metadata": {},
   "source": [
    "**Vamos filtrar o dataframe somente com as linhas em que a coluna 'tenure' tem dados ausentes e verificar se encontramos algum padrão**"
   ]
  },
  {
   "cell_type": "code",
   "execution_count": 158,
   "metadata": {},
   "outputs": [
    {
     "name": "stdout",
     "output_type": "stream",
     "text": [
      "      row_number  customer_id    surname  credit_score geography  gender  age  \\\n",
      "3778        3779     15658486     Gidney           579     Spain  Female   59   \n",
      "2239        2240     15648577  Pickering           493    France  Female   31   \n",
      "4216        4217     15718852       Uren           794    France    Male   56   \n",
      "3592        3593     15628886    Matlock           677     Spain    Male   56   \n",
      "6794        6795     15694098    Jackson           575    France  Female   54   \n",
      "\n",
      "      tenure    balance  num_of_products has_cr_card is_active_member  \\\n",
      "3778     NaN  148021.12                1           1                1   \n",
      "2239     NaN       0.00                1           1                1   \n",
      "4216     NaN   96951.21                1           1                1   \n",
      "3592     NaN  123959.97                1           1                1   \n",
      "6794     NaN   68332.96                1           1                1   \n",
      "\n",
      "      estimated_salary exited  \n",
      "3778          74878.22      0  \n",
      "2239         176570.28      1  \n",
      "4216          71776.76      0  \n",
      "3592          60590.72      1  \n",
      "6794         144390.75      0  \n"
     ]
    }
   ],
   "source": [
    "print(df[df['tenure'].isna()].sample(5))"
   ]
  },
  {
   "cell_type": "markdown",
   "metadata": {},
   "source": [
    "Não foi observado nenhum padrão  nas outras colunas quando temos dados ausentes na coluna 'tenure'. \n",
    "\n",
    "Vamos avaliar se quando 'tenure' é NaN temos uma tendência maior de obter \"1\" na coluna 'exited', ou seja, se quando 'tenure' é NaN temos uma maior tendência do cliente deixar o banco."
   ]
  },
  {
   "cell_type": "code",
   "execution_count": 159,
   "metadata": {},
   "outputs": [
    {
     "name": "stdout",
     "output_type": "stream",
     "text": [
      "exited\n",
      "0    726\n",
      "1    183\n",
      "Name: count, dtype: int64\n"
     ]
    }
   ],
   "source": [
    "# Filtrando um DataFrame quando a coluna 'tenure' tem dados ausentes\n",
    "df_tenure_isna = df[df['tenure'].isna()]\n",
    "\n",
    "# Contando quantos valores \"0\" e \"1\" temos na coluna 'exited' quando a coluna 'tenure' tem dados ausentes\n",
    "print(df_tenure_isna['exited'].value_counts())"
   ]
  },
  {
   "cell_type": "code",
   "execution_count": 160,
   "metadata": {},
   "outputs": [
    {
     "name": "stdout",
     "output_type": "stream",
     "text": [
      "exited\n",
      "0    7963\n",
      "1    2037\n",
      "Name: count, dtype: int64\n"
     ]
    }
   ],
   "source": [
    "# Contando quantos valores \"0\" e \"1\" temos na coluna 'exited' no DataFrame completo\n",
    "print(df['exited'].value_counts())"
   ]
  },
  {
   "cell_type": "code",
   "execution_count": 161,
   "metadata": {},
   "outputs": [
    {
     "name": "stdout",
     "output_type": "stream",
     "text": [
      "taxa_tenure_isna_exited 0.25206611570247933\n",
      "\n",
      "taxa_tenure_exited 0.25580811252040686\n"
     ]
    }
   ],
   "source": [
    "# Calculando as taxas da classe \"1\" em cada um dos casos acima\n",
    "print('taxa_tenure_isna_exited', (183/726))\n",
    "print()\n",
    "print('taxa_tenure_exited', (2037/7963))"
   ]
  },
  {
   "cell_type": "markdown",
   "metadata": {},
   "source": [
    "A taxa de clientes que deixam o banco quando 'tenure' é NaN e quando não é, é praticamente a mesma. Portanto, isso não influencia no resultado e então vamos assumir que estes dados são de fato inexistentes devido a não contratação deste tipo de serviço pelos clientes.\n",
    "\n",
    "Como não podemos ter dados NaN quando formos treinar nossos modelos, vamos preenchê-los com (-1)."
   ]
  },
  {
   "cell_type": "code",
   "execution_count": 162,
   "metadata": {},
   "outputs": [],
   "source": [
    "# Preenchendo dados ausentes na coluna 'tenure' com -1\n",
    "df['tenure'] = df['tenure'].fillna(-1)"
   ]
  },
  {
   "cell_type": "markdown",
   "metadata": {},
   "source": [
    "#### Checagem de linhas duplicadas: ###"
   ]
  },
  {
   "cell_type": "code",
   "execution_count": 163,
   "metadata": {},
   "outputs": [
    {
     "name": "stdout",
     "output_type": "stream",
     "text": [
      "0\n"
     ]
    }
   ],
   "source": [
    "# Imprimindo número de linhas totalmente duplicadas\n",
    "print(df.duplicated().sum())"
   ]
  },
  {
   "cell_type": "markdown",
   "metadata": {},
   "source": [
    "### Checagem do DataFrame após pré-processamento"
   ]
  },
  {
   "cell_type": "code",
   "execution_count": 164,
   "metadata": {},
   "outputs": [
    {
     "name": "stdout",
     "output_type": "stream",
     "text": [
      "      row_number  customer_id     surname  credit_score geography  gender  \\\n",
      "2303        2304     15635078    Chiemela           714     Spain    Male   \n",
      "3648        3649     15691703        Shih           545    France    Male   \n",
      "695          696     15748625  Napolitano           664    France    Male   \n",
      "9085        9086     15579189    Mitchell           690    France  Female   \n",
      "8333        8334     15743709      Toomey           683    France    Male   \n",
      "\n",
      "      age  tenure    balance  num_of_products has_cr_card is_active_member  \\\n",
      "2303   45     0.0  124693.48                1           0                1   \n",
      "3648   47     8.0  105792.49                1           0                1   \n",
      "695    57     6.0       0.00                2           1                1   \n",
      "9085   42     5.0       0.00                2           0                1   \n",
      "8333   30     4.0   66190.33                1           1                1   \n",
      "\n",
      "      estimated_salary exited  \n",
      "2303         187194.15      0  \n",
      "3648          67830.20      1  \n",
      "695           15304.08      0  \n",
      "9085         120512.08      0  \n",
      "8333         115186.97      0  \n"
     ]
    }
   ],
   "source": [
    "# Imprimindo uma amostra de 5 linhas do DataFrame após pré-processamento\n",
    "print(df.sample(5))"
   ]
  },
  {
   "cell_type": "markdown",
   "metadata": {},
   "source": [
    "## Preparação dos dados"
   ]
  },
  {
   "cell_type": "markdown",
   "metadata": {},
   "source": [
    "Nesta etapa, vamos preparar os dados da melhor forma para que façamos os treinamentos de nossos modelos.\n",
    "\n",
    "Vamos remover informações desnecessárias e transformar os dados, de forma que dados categóricos possam ser codificados como dados numéricos e os dados numéricos tenham suas escalas padronizadas para que os nossos modelos não os interpretem de forma equivocada."
   ]
  },
  {
   "cell_type": "markdown",
   "metadata": {},
   "source": [
    "### Remoção de colunas desnecessárias"
   ]
  },
  {
   "cell_type": "markdown",
   "metadata": {},
   "source": [
    "Algumas colunas não serão necessárias e podem até mesmo prejudicar o modelo por conterem dados numéricos, como 'row_number' e  'customer_id'. A coluna 'surname' também será removida."
   ]
  },
  {
   "cell_type": "code",
   "execution_count": 165,
   "metadata": {},
   "outputs": [
    {
     "name": "stdout",
     "output_type": "stream",
     "text": [
      "      credit_score geography  gender  age  tenure    balance  num_of_products  \\\n",
      "4928           513     Spain    Male   39     7.0   89039.90                2   \n",
      "4862           645     Spain  Female   55     1.0  133676.65                1   \n",
      "8041           698     Spain  Female   50     1.0       0.00                4   \n",
      "450            494   Germany  Female   38     7.0  174937.64                1   \n",
      "2537           573    France  Female   33    -1.0   90124.64                1   \n",
      "\n",
      "     has_cr_card is_active_member  estimated_salary exited  \n",
      "4928           1                1         146738.83      0  \n",
      "4862           0                1          17095.49      0  \n",
      "8041           1                0          88566.90      1  \n",
      "450            1                0          40084.32      0  \n",
      "2537           1                0         137476.71      0  \n"
     ]
    }
   ],
   "source": [
    "df_clean = df.drop(['row_number', 'customer_id', 'surname' ], axis = 1)\n",
    "print(df_clean.sample(5))"
   ]
  },
  {
   "cell_type": "markdown",
   "metadata": {},
   "source": [
    "### Divisão dos dados em treinamento, validação e teste"
   ]
  },
  {
   "cell_type": "code",
   "execution_count": 166,
   "metadata": {},
   "outputs": [
    {
     "name": "stdout",
     "output_type": "stream",
     "text": [
      "(6000, 10)\n",
      "(6000,)\n",
      "(2000, 10)\n",
      "(2000,)\n",
      "(2000, 10)\n",
      "(2000,)\n"
     ]
    }
   ],
   "source": [
    "# Definindo as colunas que serão tratadas como características e objetivo\n",
    "features = df_clean.drop('exited', axis=1)\n",
    "target = df_clean['exited']\n",
    "\n",
    "# Na primeira etapa, dividiremos os dados em \"treinamento\" e \"conjunto de dados restantes\" \n",
    "features_train, features_rem, target_train, target_rem = train_test_split(features, target, train_size=0.6, random_state = 12345)\n",
    "\n",
    "# Agora, queremos que os tamanhos dos conjuntos de validação e teste sejam iguais \n",
    "# Portanto, vamos definir test_size que represente 50% dos dados restantes (dividir os dados restantes no meio)\n",
    "features_valid, features_test, target_valid, target_test = train_test_split(features_rem, target_rem, test_size=0.5, random_state = 12345)\n",
    "\n",
    "print(features_train.shape)\n",
    "print(target_train.shape)\n",
    "print(features_valid.shape)\n",
    "print(target_valid.shape)\n",
    "print(features_test.shape)\n",
    "print(target_test.shape)"
   ]
  },
  {
   "cell_type": "markdown",
   "metadata": {},
   "source": [
    "### Codificação dos dados"
   ]
  },
  {
   "cell_type": "code",
   "execution_count": 202,
   "metadata": {},
   "outputs": [
    {
     "name": "stdout",
     "output_type": "stream",
     "text": [
      "      credit_score  geography  gender       age    tenure   balance  \\\n",
      "7479     -0.886751        2.0     1.0 -0.373192  1.083651  1.232271   \n",
      "3411      0.608663        0.0     0.0 -0.183385  1.083651  0.600563   \n",
      "\n",
      "      num_of_products has_cr_card is_active_member  estimated_salary  \n",
      "7479                1           1                0         -0.187705  \n",
      "3411                1           0                0         -0.333945  \n",
      "(6000, 10)\n",
      "\n",
      "\n",
      "      credit_score  geography  gender       age    tenure   balance  \\\n",
      "8532     -0.699824        0.0     0.0 -0.373192 -0.760164 -1.233163   \n",
      "5799     -0.284431        0.0     0.0  0.575842 -0.452862 -1.233163   \n",
      "\n",
      "      num_of_products has_cr_card is_active_member  estimated_salary  \n",
      "8532                2           1                0         -0.015173  \n",
      "5799                1           1                1          1.471724  \n",
      "(2000, 10)\n",
      "\n",
      "\n",
      "      credit_score  geography  gender       age    tenure   balance  \\\n",
      "7041     -2.226392        0.0     1.0 -0.088482 -0.760164 -1.233163   \n",
      "5709     -0.087120        0.0     0.0  0.006422  1.390954 -1.233163   \n",
      "\n",
      "      num_of_products has_cr_card is_active_member  estimated_salary  \n",
      "7041                2           1                0          0.647083  \n",
      "5709                1           1                0         -1.658410  \n",
      "(2000, 10)\n"
     ]
    }
   ],
   "source": [
    "# Criando listas separando os dados numéricos e categóricos que precisam ser ajustados\n",
    "numeric = ['credit_score', 'age', 'tenure', 'balance', 'estimated_salary']\n",
    "categorical = ['geography', 'gender']\n",
    "\n",
    "# Fazendo cópias explícitas dos DataFrames para evitar warnings\n",
    "features_train = features_train.copy()\n",
    "features_valid = features_valid.copy()\n",
    "features_test = features_test.copy()\n",
    "\n",
    "\n",
    "# Codificação das colunas categóricas usando OrdinalEncoder apenas no conjunto de treino\n",
    "encoder = OrdinalEncoder()\n",
    "features_train.loc[:, categorical] = encoder.fit_transform(features_train[categorical])\n",
    "features_valid.loc[:, categorical] = encoder.transform(features_valid[categorical])\n",
    "features_test.loc[:, categorical] = encoder.transform(features_test[categorical])\n",
    "\n",
    "\n",
    "# Padronização das colunas numéricas usando StandardScaler\n",
    "scaler = StandardScaler()\n",
    "features_train.loc[:, numeric] = scaler.fit_transform(features_train[numeric])\n",
    "features_valid.loc[:, numeric] = scaler.transform(features_valid[numeric])\n",
    "features_test.loc[:, numeric] = scaler.transform(features_test[numeric])\n",
    "\n",
    "\n",
    "# Imprimir os resultados para verificação\n",
    "print(features_train.head(2))\n",
    "print(features_train.shape)\n",
    "print()\n",
    "print()\n",
    "print(features_valid.head(2))\n",
    "print(features_valid.shape)\n",
    "print()\n",
    "print()\n",
    "print(features_test.head(2))\n",
    "print(features_test.shape)"
   ]
  },
  {
   "cell_type": "markdown",
   "metadata": {},
   "source": [
    "## Treinamento dos primeiros modelos"
   ]
  },
  {
   "cell_type": "markdown",
   "metadata": {},
   "source": [
    "**Nesta etapa iremos treinar um primeiro modelo para cada uma das tarefas de classificação, sem levar em conta o desequilíbrio das classes, com o objetivo de observar os resultados e compará-los com os resultados obtidos após realizar as etapas de ajustes das classes:**"
   ]
  },
  {
   "cell_type": "markdown",
   "metadata": {},
   "source": [
    "### Primeira Regressão Logística"
   ]
  },
  {
   "cell_type": "code",
   "execution_count": 168,
   "metadata": {},
   "outputs": [
    {
     "name": "stdout",
     "output_type": "stream",
     "text": [
      "Acurácia primeiro modelo de Regressão Logística: 0.8035\n"
     ]
    }
   ],
   "source": [
    "# Treinando o primeiro modelo de Regressão Logística e calculando sua acurácia\n",
    "first_model_regression = LogisticRegression() \n",
    "first_model_regression.fit(features_train, target_train)\n",
    "first_score_valid_regression = first_model_regression.score(features_valid, target_valid)\n",
    "\n",
    "print('Acurácia primeiro modelo de Regressão Logística:', first_score_valid_regression)"
   ]
  },
  {
   "cell_type": "markdown",
   "metadata": {},
   "source": [
    "**Se analisarmos somente a acurácia, o resultado parece satisfatório. Porém, precisamos tirar a prova real.**"
   ]
  },
  {
   "cell_type": "markdown",
   "metadata": {},
   "source": [
    "#### Prova Real"
   ]
  },
  {
   "cell_type": "markdown",
   "metadata": {},
   "source": [
    "##### Para fazer a prova real, vamos começar verificando a frequência com que a característica 'Target' contém a classe \"1\" ou \"0\""
   ]
  },
  {
   "cell_type": "code",
   "execution_count": 169,
   "metadata": {},
   "outputs": [
    {
     "name": "stdout",
     "output_type": "stream",
     "text": [
      "exited\n",
      "0    0.7963\n",
      "1    0.2037\n",
      "Name: proportion, dtype: float64\n"
     ]
    }
   ],
   "source": [
    "class_frequency = df_clean['exited'].value_counts(normalize=True)\n",
    "print(class_frequency)"
   ]
  },
  {
   "cell_type": "markdown",
   "metadata": {},
   "source": [
    "Temos a classe \"0\" com 80% dos dados, ou seja, muito mais resultados do que a classe \"1\". Portanto temos um desequilíbrio de classes em nosso problema. \n",
    "**A razão das classes dos dados é de 4:1**"
   ]
  },
  {
   "cell_type": "markdown",
   "metadata": {},
   "source": [
    "##### Agora vamos analisar as frequências de classe das predições do nosso primeiro modelo de Regressão"
   ]
  },
  {
   "cell_type": "code",
   "execution_count": 170,
   "metadata": {},
   "outputs": [
    {
     "name": "stdout",
     "output_type": "stream",
     "text": [
      "0    0.9365\n",
      "1    0.0635\n",
      "Name: proportion, dtype: float64\n"
     ]
    }
   ],
   "source": [
    "# Analisando as frequências de classe das predições do primeiro modelo de regressão\n",
    "first_reg_predict_valid = pd.Series(first_model_regression.predict(features_valid))\n",
    "class_frequency_first_reg = first_reg_predict_valid.value_counts(normalize=True)\n",
    "\n",
    "print(class_frequency_first_reg)"
   ]
  },
  {
   "cell_type": "markdown",
   "metadata": {},
   "source": [
    "Nosso modelo previu 94% das observações como sendo da classe \"0\" (negativas). Uma quantidade muito maior do que os dados reais do Target, que já eram desequilibrados. Isso nos indica que nosso modelo provavelmente tem uma sensibilidade baixa e precisa de ajustes."
   ]
  },
  {
   "cell_type": "markdown",
   "metadata": {},
   "source": [
    "##### Vamos comparar  o modelo de Regressão Logística com um modelo constante que prevê a classe \"0\" para todas as observações"
   ]
  },
  {
   "cell_type": "code",
   "execution_count": 171,
   "metadata": {},
   "outputs": [
    {
     "name": "stdout",
     "output_type": "stream",
     "text": [
      "Acurácia do modelo constante: 0.7963\n"
     ]
    }
   ],
   "source": [
    "# Criando um modelo que prevê a classe \"0\" para todas as observações\n",
    "target_pred_constant = pd.Series(0, range(10000))\n",
    "\n",
    "# Calculando a acurácia do modelo constante\n",
    "print('Acurácia do modelo constante:', accuracy_score(target, target_pred_constant))"
   ]
  },
  {
   "cell_type": "markdown",
   "metadata": {},
   "source": [
    "A acurácia do modelo constante foi de aproximadamente 80%, assim como a do nosso modelo de Regressão logística. isso nos mostra que nosso modelo não é melhor do que um modelo constante que prevê a mesma resposta para todas as observações, ou seja, mais uma evidência de que nosso modelo precisa de ajustes."
   ]
  },
  {
   "cell_type": "markdown",
   "metadata": {},
   "source": [
    "Como sabemos, a acurácia não avalia bem um modelo em cenário de desequilíbrio de classes. Nestes cenários precisamos olhar para outras métricas, como \"Sensibilidade\" e \"Precisão\". Então vamos começar imprimindo nossa **MATRIZ DE CONFUSÃO**, que nos mostra nossos resultados em **VN, VP, FN E FP**, ou seja, \"Verdadeiros Negativos\", \"Verdadeiros Positivos\", \"Falsos Negativos\" e \"Falsos Positivos\""
   ]
  },
  {
   "cell_type": "markdown",
   "metadata": {},
   "source": [
    "##### Matriz de confusão do modelo de Regressão Logística"
   ]
  },
  {
   "cell_type": "code",
   "execution_count": 172,
   "metadata": {},
   "outputs": [
    {
     "name": "stdout",
     "output_type": "stream",
     "text": [
      "  VN      FP\n",
      "[[1531   51]\n",
      " [ 342   76]]\n",
      "  FN      VP\n"
     ]
    }
   ],
   "source": [
    "# Imprimindo a matriz de confusão para verificar o número de VP,VN,FP e FN.\n",
    "print('  VN      FP')\n",
    "print(confusion_matrix(target_valid, first_reg_predict_valid))\n",
    "print('  FN      VP')"
   ]
  },
  {
   "cell_type": "code",
   "execution_count": 173,
   "metadata": {},
   "outputs": [
    {
     "name": "stdout",
     "output_type": "stream",
     "text": [
      "A precisão do modelo é: 0.5984251968503937\n",
      "A sensibilidade do modelo é: 0.18181818181818182\n"
     ]
    }
   ],
   "source": [
    "print('A precisão do modelo é:', precision_score(target_valid, first_reg_predict_valid))\n",
    "print('A sensibilidade do modelo é:', recall_score(target_valid, first_reg_predict_valid))"
   ]
  },
  {
   "cell_type": "markdown",
   "metadata": {},
   "source": [
    "Como a sensibilidade do nosso modelo é muito baixa, ele prevê poucas respostas positivas. Isso faz com que tenhamos poucos Falsos Positivos, mas em compensação temos muitos Falsos Negativos."
   ]
  },
  {
   "cell_type": "markdown",
   "metadata": {},
   "source": [
    "Porém, analisar Sensibilidade e Precisão de forma separada, não nos diz muita coisa. Elas precisam andar juntas e, para facilitar, temos a **métrica de agregação, F1_score**. Ela é a média harmônica das métricas de sensibilidade e precisão e nos dá um panorama melhor da qualidade do modelo em situações de desequilíbrio de classes. Vamos calculá-la:"
   ]
  },
  {
   "cell_type": "markdown",
   "metadata": {},
   "source": [
    "##### Cálculo do F1 do primeiro modelo de Regressão Logística"
   ]
  },
  {
   "cell_type": "code",
   "execution_count": 174,
   "metadata": {},
   "outputs": [
    {
     "name": "stdout",
     "output_type": "stream",
     "text": [
      "F1 do primeiro modelo de Regressão: 0.27889908256880735\n"
     ]
    }
   ],
   "source": [
    "# Calculando F1_score para nosso primeiro modelo de regressão\n",
    "first_predicted_valid_reg = first_model_regression.predict(features_valid)\n",
    "print('F1 do primeiro modelo de Regressão:', f1_score(target_valid, first_predicted_valid_reg))"
   ]
  },
  {
   "cell_type": "markdown",
   "metadata": {},
   "source": [
    "#### Conclusões primeiro modelo de Regressão Logística"
   ]
  },
  {
   "cell_type": "markdown",
   "metadata": {},
   "source": [
    "Com essas análises de Prova Real, podemos observar que nosso primeiro modelo não é bom. Ele previu a classe \"0\" para 94% das observações e ainda assim, não obteve melhor resultado do que um modelo que prevê a classe \"0\" para todas as observações, sendo que os 2 modelos acertariam cerca de 80% das observações.\n",
    "\n",
    "Se analisássemos somente a acurácia, nosso modelo daria uma falsa impressão de ser bom. Porém, o nosso resultado de F1 = 0.28 nos indica que o modelo é ruim.\n",
    "\n",
    "Esses resultados são consequência do nosso desequilíbrio de classes."
   ]
  },
  {
   "cell_type": "markdown",
   "metadata": {},
   "source": [
    "### Primeira Árvore Decisória"
   ]
  },
  {
   "cell_type": "code",
   "execution_count": 175,
   "metadata": {},
   "outputs": [
    {
     "name": "stdout",
     "output_type": "stream",
     "text": [
      "Acurácia do primeiro modelo de Árvore Decisória: 0.78\n"
     ]
    }
   ],
   "source": [
    "# Treinando um modelo de árvore decisória e calculando sua acurácia\n",
    "first_model_tree = DecisionTreeClassifier() \n",
    "first_model_tree.fit(features_train, target_train)\n",
    "first_score_valid_tree = first_model_tree.score(features_valid, target_valid)\n",
    "\n",
    "print('Acurácia do primeiro modelo de Árvore Decisória:', first_score_valid_tree)"
   ]
  },
  {
   "cell_type": "markdown",
   "metadata": {},
   "source": [
    "#### Prova Real"
   ]
  },
  {
   "cell_type": "markdown",
   "metadata": {},
   "source": [
    "##### Para fazer a prova real, vamos começar verificando a frequência com que a característica 'Target' contém a classe \"1\" ou \"0\""
   ]
  },
  {
   "cell_type": "code",
   "execution_count": 176,
   "metadata": {},
   "outputs": [
    {
     "name": "stdout",
     "output_type": "stream",
     "text": [
      "exited\n",
      "0    0.7963\n",
      "1    0.2037\n",
      "Name: proportion, dtype: float64\n"
     ]
    }
   ],
   "source": [
    "print(class_frequency)"
   ]
  },
  {
   "cell_type": "markdown",
   "metadata": {},
   "source": [
    "Temos a classe \"0\" com 80% dos dados, ou seja, muito mais resultados do que a classe \"1\". Portanto temos um desequilíbrio de classes em nosso problema. \n",
    "**A razão das classes dos dados é de 4:1**"
   ]
  },
  {
   "cell_type": "markdown",
   "metadata": {},
   "source": [
    "##### Agora vamos analisar as frequências de classe das predições do nosso primeiro modelo de Árvore Decisória"
   ]
  },
  {
   "cell_type": "code",
   "execution_count": 177,
   "metadata": {},
   "outputs": [
    {
     "name": "stdout",
     "output_type": "stream",
     "text": [
      "0    0.791\n",
      "1    0.209\n",
      "Name: proportion, dtype: float64\n"
     ]
    }
   ],
   "source": [
    "# Analisando as frequências de classe das predições do modelo\n",
    "first_predict_valid_tree = pd.Series(first_model_tree.predict(features_valid))\n",
    "class_frequency_tree = first_predict_valid_tree.value_counts(normalize=True)\n",
    "\n",
    "print(class_frequency_tree)"
   ]
  },
  {
   "cell_type": "markdown",
   "metadata": {},
   "source": [
    "##### Vamos comparar  o modelo de Árvore Decisória com um modelo constante que prevê a classe \"0\" para todas as observações"
   ]
  },
  {
   "cell_type": "code",
   "execution_count": 178,
   "metadata": {},
   "outputs": [
    {
     "name": "stdout",
     "output_type": "stream",
     "text": [
      "Acurácia do modelo constante: 0.7963\n"
     ]
    }
   ],
   "source": [
    "# Criando um modelo que prevê a classe \"0\" para todas as observações\n",
    "target_pred_constant = pd.Series(0, range(10000))\n",
    "\n",
    "# Calculando a acurácia do modelo constante\n",
    "print('Acurácia do modelo constante:', accuracy_score(target, target_pred_constant))"
   ]
  },
  {
   "cell_type": "markdown",
   "metadata": {},
   "source": [
    "##### Matriz de confusão do modelo de Árvore Decisória"
   ]
  },
  {
   "cell_type": "code",
   "execution_count": 179,
   "metadata": {},
   "outputs": [
    {
     "name": "stdout",
     "output_type": "stream",
     "text": [
      "  VN      FP\n",
      "[[1362  220]\n",
      " [ 220  198]]\n",
      "  FN      VP\n"
     ]
    }
   ],
   "source": [
    "# Imprimindo a matriz de confusão para verificar o número de VP,VN,FP e FN.\n",
    "print('  VN      FP')\n",
    "print(confusion_matrix(target_valid, first_predict_valid_tree))\n",
    "print('  FN      VP')"
   ]
  },
  {
   "cell_type": "code",
   "execution_count": 180,
   "metadata": {},
   "outputs": [
    {
     "name": "stdout",
     "output_type": "stream",
     "text": [
      "A precisão do modelo é: 0.47368421052631576\n",
      "A sensibilidade do modelo é: 0.47368421052631576\n"
     ]
    }
   ],
   "source": [
    "print('A precisão do modelo é:', precision_score(target_valid, first_predict_valid_tree))\n",
    "print('A sensibilidade do modelo é:', recall_score(target_valid, first_predict_valid_tree))"
   ]
  },
  {
   "cell_type": "markdown",
   "metadata": {},
   "source": [
    "Este modelo é um pouco mais equilibrado do que o modelo de Regressão logística. Apresenta uma sensibilidade maior, o que implica que tenhamos mais predições positivas e, consequentemente, mais Falsos Positivos e menos Falsos Negativos que o modelo anterior. Mas, conforme explicado anteriormente, precisamos calcular e analisar o F1-Score ao invés de analisarmos separadamente a sensibilidade e a precisão."
   ]
  },
  {
   "cell_type": "markdown",
   "metadata": {},
   "source": [
    "##### Cálculo do F1 do primeiro modelo de Árvore Decisória"
   ]
  },
  {
   "cell_type": "code",
   "execution_count": 181,
   "metadata": {},
   "outputs": [
    {
     "name": "stdout",
     "output_type": "stream",
     "text": [
      "F1 do primeiro modelo de Árvore Decisória: 0.47368421052631576\n"
     ]
    }
   ],
   "source": [
    "first_predicted_valid_tree = first_model_tree.predict(features_valid)\n",
    "print('F1 do primeiro modelo de Árvore Decisória:', f1_score(target_valid, first_predicted_valid_tree))"
   ]
  },
  {
   "cell_type": "markdown",
   "metadata": {},
   "source": [
    "#### Conclusões primeiro modelo de árvore"
   ]
  },
  {
   "cell_type": "markdown",
   "metadata": {},
   "source": [
    "A acurácia do modelo foi de 77%, enquanto que a de um modelo constante que prevê a classe \"0\" para todas as respostas, teria uma acurácia de 80%, ou seja, a acurácia do nosso modelo foi ainda menor do que a do modelo constante.\n",
    "\n",
    "Nosso modelo previu a classe \"0\" para 80% das observações, uma quantia bem próxima à quantia real das respostas da nossa coluna Target, porém, se analisarmos a Matriz de Confusão, podemos observar que nosso modelo previu mais Falsos Positivos do que Verdadeiros Positivos. isso nos indica que nosso modelo não está realmente aprendendo padrões importantes no conjunto de dados.\n",
    "\n",
    "Além dessas observações, o nosso resultado de F1 = 0.46 nos indica que o modelo não é bom e precisa ser melhorado."
   ]
  },
  {
   "cell_type": "markdown",
   "metadata": {},
   "source": [
    "### Primeira Floresta Aleatória"
   ]
  },
  {
   "cell_type": "code",
   "execution_count": 182,
   "metadata": {},
   "outputs": [
    {
     "name": "stdout",
     "output_type": "stream",
     "text": [
      "Acurácia do primeiro modelo de Floresta Aleatória: 0.855\n"
     ]
    }
   ],
   "source": [
    "# Treinando um modelo de Floresta Aleatória e calculando sua acurácia\n",
    "first_model_forest = RandomForestClassifier() \n",
    "first_model_forest.fit(features_train, target_train)\n",
    "first_score_valid_forest = first_model_forest.score(features_valid, target_valid)\n",
    "\n",
    "print('Acurácia do primeiro modelo de Floresta Aleatória:', first_score_valid_forest)"
   ]
  },
  {
   "cell_type": "markdown",
   "metadata": {},
   "source": [
    "**Se analisarmos somente a acurácia, o resultado parece bem satisfatório. Porém, precisamos analisar a prova real.**"
   ]
  },
  {
   "cell_type": "markdown",
   "metadata": {},
   "source": [
    "####  Prova Real"
   ]
  },
  {
   "cell_type": "markdown",
   "metadata": {},
   "source": [
    "##### Para fazer a prova real, vamos começar verificando a frequência com que a característica 'Target' contém a classe \"1\" ou \"0\""
   ]
  },
  {
   "cell_type": "code",
   "execution_count": 183,
   "metadata": {},
   "outputs": [
    {
     "name": "stdout",
     "output_type": "stream",
     "text": [
      "exited\n",
      "0    0.7963\n",
      "1    0.2037\n",
      "Name: proportion, dtype: float64\n"
     ]
    }
   ],
   "source": [
    "print(class_frequency)"
   ]
  },
  {
   "cell_type": "markdown",
   "metadata": {},
   "source": [
    "Temos a classe \"0\" com 80% dos dados, ou seja, muito mais resultados do que a classe \"1\". Portanto temos um desequilíbrio de classes em nosso problema. \n",
    "**A razão das classes dos dados é de 4:1**"
   ]
  },
  {
   "cell_type": "markdown",
   "metadata": {},
   "source": [
    "##### Agora vamos analisar as frequências de classe das predições do nosso primeiro modelo de Floresta Aleatória"
   ]
  },
  {
   "cell_type": "code",
   "execution_count": 184,
   "metadata": {},
   "outputs": [
    {
     "name": "stdout",
     "output_type": "stream",
     "text": [
      "0    0.875\n",
      "1    0.125\n",
      "Name: proportion, dtype: float64\n"
     ]
    }
   ],
   "source": [
    "# Analisando as frequências de classe das predições do modelo\n",
    "first_predict_valid_forest = pd.Series(first_model_forest.predict(features_valid))\n",
    "class_frequency_forest = first_predict_valid_forest.value_counts(normalize=True)\n",
    "\n",
    "print(class_frequency_forest)"
   ]
  },
  {
   "cell_type": "markdown",
   "metadata": {},
   "source": [
    "Nosso modelo previu 88% das respostas na classe \"0\", enquanto no Target real, essa classe tem 80% dos resultados"
   ]
  },
  {
   "cell_type": "markdown",
   "metadata": {},
   "source": [
    "##### Vamos comparar  o modelo de Floresta Decisória com um modelo constante que prevê a classe \"0\" para todas as observações"
   ]
  },
  {
   "cell_type": "code",
   "execution_count": 185,
   "metadata": {},
   "outputs": [
    {
     "name": "stdout",
     "output_type": "stream",
     "text": [
      "Acurácia do modelo constante: 0.7963\n"
     ]
    }
   ],
   "source": [
    "# Criando um modelo que prevê a classe \"0\" para todas as observações\n",
    "target_pred_constant = pd.Series(0, range(10000))\n",
    "\n",
    "# Calculando a acurácia do modelo constante\n",
    "print('Acurácia do modelo constante:', accuracy_score(target, target_pred_constant))"
   ]
  },
  {
   "cell_type": "markdown",
   "metadata": {},
   "source": [
    "A acurácia do modelo constante foi de aproximadamente 80% e a do nosso modelo de Floresta Aleatória foi de 85%. isso nos mostra que nosso modelo é um pouco melhor do que um modelo constante que prevê a mesma resposta para todas as observações, mas precisamos analisar mais alguns parâmetros."
   ]
  },
  {
   "cell_type": "markdown",
   "metadata": {},
   "source": [
    "##### Matriz de confusão do modelo de Floresta Aleatória"
   ]
  },
  {
   "cell_type": "code",
   "execution_count": 186,
   "metadata": {},
   "outputs": [
    {
     "name": "stdout",
     "output_type": "stream",
     "text": [
      "  VN      FP\n",
      "[[1521   61]\n",
      " [ 229  189]]\n",
      "  FN      VP\n"
     ]
    }
   ],
   "source": [
    "# Imprimindo a matriz de confusão para verificar o número de VP,VN,FP e FN.\n",
    "print('  VN      FP')\n",
    "print(confusion_matrix(target_valid, first_predict_valid_forest))\n",
    "print('  FN      VP')"
   ]
  },
  {
   "cell_type": "code",
   "execution_count": 187,
   "metadata": {},
   "outputs": [
    {
     "name": "stdout",
     "output_type": "stream",
     "text": [
      "A precisão do modelo é: 0.756\n",
      "A sensibilidade do modelo é: 0.45215311004784686\n"
     ]
    }
   ],
   "source": [
    "print('A precisão do modelo é:', precision_score(target_valid, first_predict_valid_forest))\n",
    "print('A sensibilidade do modelo é:', recall_score(target_valid, first_predict_valid_forest))"
   ]
  },
  {
   "cell_type": "markdown",
   "metadata": {},
   "source": [
    "Este modelo a princípio foi o que obteve melhores parâmetros de sensibilidade e precisão, o que nos diz que, provavelmente, é o melhor modelo até aqui. Ele apresentou uma precisão satisfatória, mas ainda está um pouco desequilibrado em relação à sensibilidade. O modelo previu 88% das respostas sendo negativas, enquanto os dados reais nos dizem que 80% são negativas, portanto, o modelo ainda precisa de ajustes. Vamos analisar o F1_score para compará-lo com os demais modelos."
   ]
  },
  {
   "cell_type": "markdown",
   "metadata": {},
   "source": [
    "##### Cálculo do F1 do primeiro modelo de Floresta Decisória"
   ]
  },
  {
   "cell_type": "code",
   "execution_count": 188,
   "metadata": {},
   "outputs": [
    {
     "name": "stdout",
     "output_type": "stream",
     "text": [
      "F1 do primeiro modelo de Floresta Aleatória: 0.5658682634730539\n"
     ]
    }
   ],
   "source": [
    "first_predicted_valid_forest = first_model_forest.predict(features_valid)\n",
    "print('F1 do primeiro modelo de Floresta Aleatória:', f1_score(target_valid, first_predicted_valid_forest))"
   ]
  },
  {
   "cell_type": "markdown",
   "metadata": {},
   "source": [
    "#### Conclusões primeiro modelo de floresta aleatória"
   ]
  },
  {
   "cell_type": "markdown",
   "metadata": {},
   "source": [
    "Se analisássemos somente a acurácia, nosso modelo daria uma falsa impressão de ser muito bom. Porém, tirando a Prova Real, é possível observar que, apesar de ser melhor do que os outros modelos, ele ainda precisa ser ajustado. \n",
    "\n",
    "A acurácia do modelo foi de 86%, enquanto que a de um modelo constante que prevê a classe \"0\" para todas as respostas, teria uma acurácia de 80%, ou seja, a acurácia do nosso modelo foi um pouco superior à acurácia do modelo constante.\n",
    "\n",
    "Analisando a Matriz de Confusão, podemos observar que nosso modelo previu ainda muitos Falsos Negativos, nos demonstrando que está com uma sensibilidade um pouco baixa.\n",
    "\n",
    "Nosso resultado de F1 = 0.56 já nos trouxe um resultado bem melhor do que nos outros modelos treinados, mas ainda não é o suficiente e nos indica que o modelo precisa ser ajustado."
   ]
  },
  {
   "cell_type": "markdown",
   "metadata": {},
   "source": [
    "### Conclusões gerais após primeiros modelos"
   ]
  },
  {
   "cell_type": "markdown",
   "metadata": {},
   "source": [
    "Quando analisamos dados com classes desequilibradas precisamos antes resolver este problema de desequilíbrio e também levar em conta que a acurácia não é a melhor métrica para avaliarmos os resultados do modelo nesses casos. A acurácia poderia nos dar a falsa impressão de termos um bom modelo, mas na verdade pode ser que o modelo não seja melhor nem mesmo que um modelo constante que prevê somente um tipo de respostas.\n",
    "\n",
    "Portanto, ao testarmos e descobrirmos que os dados tem classes desequilibradas, precisamos analisar outras métricas, como a Sensibilidade e Precisão, ou o F1_score, que é a média harmônica entre essas duas métricas.\n",
    "\n",
    "Podemos também traçar a Matriz de Confusão que nos mostra mais detalhadamente a quantidade de previsões que nosso modelo acertou ou errou e nos dá um panorama para sabermos o desempenho da Sensibilidade e da Precisão do modelo.\n",
    "\n",
    "Por fim, é necessário que façamos um tratamento deste desequilíbrio de classes com algumas técnicas, para depois treinarmos nossos modelos e assim, obtermos melhores resultados."
   ]
  },
  {
   "cell_type": "markdown",
   "metadata": {},
   "source": [
    "## Tratamento do desequilíbrio de classes"
   ]
  },
  {
   "cell_type": "markdown",
   "metadata": {},
   "source": [
    "Para tratar o Desequilíbrio das Classes, vamos utilizar as técnicas de **Superamostragem**, **Ajuste de Limiar** e também o **Ajuste de Ponderação de Classe**.\n",
    "\n",
    "Para a Superamostragem, inicialmente criaremos uma função que realiza a Superamostragem, para que possamos chamá-la ao realizarmos os treinamentos dos modelos. Vamos considerar a razão das classes de 4:1, conforme foi encontrada anteriormente.\n",
    "\n",
    "Para o Ajuste de Limiar, calcularemos o melhor limiar dentro de cada código para encontrarmos o melhor modelo possível. \n",
    "\n",
    "Para o Ajuste de Ponderação de Classe, basta configurar o argumento class_weight de cada modelo para 'balanced'. "
   ]
  },
  {
   "cell_type": "code",
   "execution_count": 189,
   "metadata": {},
   "outputs": [],
   "source": [
    "# Definindo a função upsample para realizar uma superamostragem da classe rara para tratar o desequilíbrio das classes\n",
    "\n",
    "def upsample(features, target, repeat):\n",
    "    features_zeros = features[target == 0]\n",
    "    features_ones = features[target == 1]\n",
    "    target_zeros = target[target == 0]\n",
    "    target_ones = target[target == 1]\n",
    "    \n",
    "    features_upsampled = pd.concat([features_zeros] + [features_ones] * repeat)\n",
    "    target_upsampled = pd.concat([target_zeros] + [target_ones] * repeat)\n",
    "    \n",
    "    features_upsampled, target_upsampled = shuffle(features_upsampled, target_upsampled, random_state = 12345)\n",
    "    \n",
    "    return features_upsampled, target_upsampled"
   ]
  },
  {
   "cell_type": "markdown",
   "metadata": {},
   "source": [
    "## Treinamento dos modelos"
   ]
  },
  {
   "cell_type": "markdown",
   "metadata": {},
   "source": [
    "Nesta etapa iremos realizar o treinamento dos 3 tipos de modelos de classificação (Regressão Logística, Árvore Decisória e Floresta Aleatória) após eliminarmos o desequilíbrio das classes. \n",
    "\n",
    "Depois, iremos calcular o F1_Score obtido para cada modelo, e assim definiremos com qual modelo seguir."
   ]
  },
  {
   "cell_type": "markdown",
   "metadata": {},
   "source": [
    "### Regressão Logística"
   ]
  },
  {
   "cell_type": "code",
   "execution_count": 190,
   "metadata": {},
   "outputs": [
    {
     "name": "stdout",
     "output_type": "stream",
     "text": [
      "f1 do melhor modelo de Regressão Logística (threshold = 0.58) é: 0.4914400805639476\n",
      "\n",
      "Tempo de execução: 0.30260729789733887 segundos\n"
     ]
    }
   ],
   "source": [
    "# Chamando a função upsample para criar uma superamsotragem da classe rara\n",
    "# Devido a razão das classes ser de 4:1, iremos multiplicar os dados da classe rara por 4\n",
    "reg_features_upsampled, reg_target_upsampled = upsample(features_train, target_train, 4)\n",
    "\n",
    "\n",
    "# Iniciando o registro de tempo de execução do código\n",
    "inicio_regression = time.time()\n",
    "\n",
    "# criando as variáveis para comparação do melhor modelo no ciclo for\n",
    "best_f1_reg = 0\n",
    "best_threshold = 0\n",
    "\n",
    "# Treinando o modelo de Regressão Logística com class_weight = 'balanced'\n",
    "model_regression = LogisticRegression(random_state = 12345, solver = 'liblinear', class_weight = 'balanced')\n",
    "model_regression.fit(reg_features_upsampled, reg_target_upsampled)\n",
    "\n",
    "\n",
    "# Realizando o ajuste de limiar para testar o melhor modelo \n",
    "reg_probabilities_valid = model_regression.predict_proba(features_valid)\n",
    "reg_probabilities_one_valid = reg_probabilities_valid[:, 1]\n",
    "\n",
    "for threshold in np.arange(0, 0.6, 0.02): # Testando limiares de 0 a 0.4 com incrementos de 0.02\n",
    "    reg_predicted_valid = reg_probabilities_one_valid > threshold\n",
    "    f1_reg = f1_score(target_valid, reg_predicted_valid)\n",
    "    \n",
    "    if f1_reg > best_f1_reg:\n",
    "        best_f1_reg = f1_reg\n",
    "        best_threshold = threshold\n",
    "\n",
    "\n",
    "# finalizando o registro de tempo de execução do código\n",
    "fim_regression = time.time()\n",
    "\n",
    "\n",
    "print(\"f1 do melhor modelo de Regressão Logística (threshold = {}) é: {}\".format(best_threshold, best_f1_reg))\n",
    "\n",
    "# imprimindo o tempo de execução em segundos\n",
    "print()\n",
    "print('Tempo de execução:', fim_regression - inicio_regression, 'segundos')"
   ]
  },
  {
   "cell_type": "markdown",
   "metadata": {},
   "source": [
    "### Árvore de Decisão"
   ]
  },
  {
   "cell_type": "code",
   "execution_count": 191,
   "metadata": {},
   "outputs": [
    {
     "name": "stdout",
     "output_type": "stream",
     "text": [
      "f1 do melhor modelo de árvore decisória (threshold = 0.58, max_depth = 5, criterion = entropy e min_samples_leaf = 9) é: 0.6130884041331802\n",
      "\n",
      "Tempo de execução: 38.16415524482727 segundos\n"
     ]
    }
   ],
   "source": [
    "# Chamando a função upsample para criar uma superamsotragem da classe rara\n",
    "# Devido a razão das classes ser de 4:1, iremos multiplicar os dados da classe rara por 4\n",
    "features_upsampled, target_upsampled = upsample(features_train, target_train, 4)\n",
    "\n",
    "# iniciando o registro de tempo de execução do código\n",
    "inicio_tree = time.time()\n",
    "\n",
    "\n",
    "# criando as variáveis para comparação do melhor modelo no ciclo for\n",
    "best_f1_tree = 0\n",
    "best_depth = 0\n",
    "best_criterion = None\n",
    "best_min_samples_leaf = 0\n",
    "best_tree_threshold = 0\n",
    "\n",
    "for criterion in ['gini', 'entropy']: # testando melhor criterio para o modelo\n",
    "    for leaf in range(1, 11): # testando melhor número de amostras por folha para o modelo\n",
    "        for depth in range(1, 11): # testando melhor profundidade máxima para o modelo\n",
    "            model_tree = DecisionTreeClassifier(min_samples_leaf = leaf, max_depth = depth, criterion = criterion, \n",
    "                random_state = 12345, class_weight = 'balanced') # incluindo random_state e class_weight = 'balanced'\n",
    "            model_tree.fit(features_upsampled, target_upsampled) # treinando o modelo com os dados de treinamento superamostrados\n",
    "            \n",
    "            \n",
    "            # Realizando o ajuste de limiar para testar o melhor modelo \n",
    "            tree_probabilities_valid = model_tree.predict_proba(features_valid)\n",
    "            tree_probabilities_one_valid = tree_probabilities_valid[:, 1]\n",
    "\n",
    "            for threshold in np.arange(0, 0.6, 0.02): # Testando limiares de 0 a 0.4 com incrementos de 0.02\n",
    "                tree_predicted_valid = tree_probabilities_one_valid > threshold\n",
    "                f1_tree = f1_score(target_valid, tree_predicted_valid) # Calculando F1 do modelo\n",
    "    \n",
    "                # comparando os modelos para definir os melhores hiperparâmetros\n",
    "                if f1_tree > best_f1_tree:\n",
    "                    best_f1_tree = f1_tree\n",
    "                    best_tree_threshold = threshold\n",
    "                    best_depth = depth\n",
    "                    best_criterion = criterion\n",
    "                    best_min_samples_leaf = leaf\n",
    "            \n",
    "    \n",
    "print(\"f1 do melhor modelo de árvore decisória (threshold = {}, max_depth = {}, criterion = {} e min_samples_leaf = {}) é: {}\"\n",
    "      .format(best_tree_threshold, best_depth, best_criterion, best_min_samples_leaf, best_f1_tree))\n",
    "print()\n",
    "\n",
    "\n",
    "# finalizando o registro de tempo de execução do código\n",
    "fim_tree = time.time()\n",
    "\n",
    "# imprimindo o tempo de execução em segundos\n",
    "print('Tempo de execução:', fim_tree - inicio_tree, 'segundos')"
   ]
  },
  {
   "cell_type": "markdown",
   "metadata": {},
   "source": [
    "### Floresta Aleatória"
   ]
  },
  {
   "cell_type": "code",
   "execution_count": 192,
   "metadata": {
    "scrolled": false
   },
   "outputs": [
    {
     "name": "stdout",
     "output_type": "stream",
     "text": [
      "F1 do melhor modelo de floresta aleatória (threshold = 0.54, max_depth = 1, bootstrap = True e n_estimator = 10) é: 0.6006674082313682\n",
      "\n",
      "Tempo de execução: 44.479142904281616 segundos\n"
     ]
    }
   ],
   "source": [
    "# iniciando o registro de tempo de execução do código\n",
    "inicio_forest = time.time()\n",
    "\n",
    "\n",
    "# criando as variáveis para comparação do melhor modelo no ciclo for\n",
    "best_f1_forest = 0\n",
    "best_est = 0\n",
    "best_bootstrap = None\n",
    "best_forest_depth = 0\n",
    "best_forest_threshold = 0\n",
    "\n",
    "for bootstrap in [True, False]: # verificando qual melhor bootstrap para o modelo\n",
    "    for forest_depth in range(1, 11): # testando melhor hiperparâmetro de profundidade máxima para o modelo\n",
    "        for est in range(1, 11): # testando modelos com hiperparâmetro de quantidade de árvores de 1 a 10\n",
    "            model_forest = RandomForestClassifier(bootstrap = bootstrap, max_depth = depth, n_estimators = est, \n",
    "                        random_state = 12345, class_weight = 'balanced') # incluindo random_state e class_weight = 'balanced'\n",
    "            model_forest.fit(features_upsampled, target_upsampled) # treinando modelo com dados superamostrados na classe rara\n",
    "            \n",
    "            # Realizando o ajuste de limiar para testar o melhor modelo \n",
    "            forest_probabilities_valid = model_forest.predict_proba(features_valid)\n",
    "            forest_probabilities_one_valid = forest_probabilities_valid[:, 1]\n",
    "\n",
    "            for threshold in np.arange(0, 0.6, 0.02): # Testando limiares de 0 a 0.4 com incrementos de 0.02\n",
    "                forest_predicted_valid = forest_probabilities_one_valid > threshold\n",
    "                f1_forest = f1_score(target_valid, forest_predicted_valid)\n",
    "    \n",
    "                # comparando os modelos para definir os melhores hiperparâmetros\n",
    "                if f1_forest > best_f1_forest:\n",
    "                    best_f1_forest = f1_forest\n",
    "                    best_forest_threshold = threshold\n",
    "                    best_est = est\n",
    "                    best_bootstrap = bootstrap\n",
    "                    best_forest_depth = forest_depth\n",
    "        \n",
    "print(\"F1 do melhor modelo de floresta aleatória (threshold = {}, max_depth = {}, bootstrap = {} e n_estimator = {}) é: {}\"\n",
    "      .format(best_forest_threshold, best_forest_depth, best_bootstrap, best_est, best_f1_forest))\n",
    "print()\n",
    "\n",
    "\n",
    "# finalizando o registro de tempo de execução do código\n",
    "fim_forest = time.time()\n",
    "\n",
    "# imprimindo o tempo de execução em segundos\n",
    "print('Tempo de execução:', fim_forest - inicio_forest, 'segundos')"
   ]
  },
  {
   "cell_type": "markdown",
   "metadata": {},
   "source": [
    "### Conclusões"
   ]
  },
  {
   "cell_type": "markdown",
   "metadata": {},
   "source": [
    "Resolvemos os nossos problemas de desequilíbrios de classes e encontramos nosso melhor modelo para cada tipo, sendo:\n",
    "\n",
    "* **Regressão Logística:** F1_Score = 0.4914 com (random_state = 12345, solver = 'liblinear' e threshold = 0.58). Com um tempo de execução de apenas 0.24 segundos;\n",
    "\n",
    "\n",
    "* **Árvore Decisória:** F1_Score = 0.6131 com (threshold = 0.58, max_depth = 5, criterion = entropy, min_samples_leaf = 9 e random_state = 12345). Com um tempo de execução de 20.74 segundos;\n",
    "\n",
    "\n",
    "* **Floresta Aleatória:** F1_Score = 0.5975 com (threshold = 0.5, max_depth = 1, bootstrap = False, n_estimator = 10 e random_state = 12345). Com um tempo de execução de 30.60 segundos"
   ]
  },
  {
   "cell_type": "markdown",
   "metadata": {},
   "source": [
    "Analisando os resultados dos 3 modelos treinados, podemos observar que o modelo de **Árvore Decisória** apresentou os melhores resultados, tendo apresentado um F1_Score de 0.61 e um tempo de execução do código de 20.74 segundos. \n",
    "\n",
    "O modelo de Floresta Aleatória também apresentou um resultado de F1 satisfatório, porém, com um tempo para execução do código muito maior em relação ao outro modelo aprovado.\n",
    "\n",
    "**Portanto, para os testes finais, seguiremos com o modelo da Árvore Decisória**."
   ]
  },
  {
   "cell_type": "markdown",
   "metadata": {},
   "source": [
    "## Testes finais"
   ]
  },
  {
   "cell_type": "markdown",
   "metadata": {},
   "source": [
    "Agora que já selecionamos nosso melhor modelo, podemos treiná-lo com todos os dados, pois não precisamos mais dos dados de validação. Então, vamos primeiro concatenar os DataFrames de treino e validação para depois sobreamostrar estes dados para ajustar o problema de desequilíbrio de classes e depois treinar o nosso melhor modelo.\n",
    "\n",
    "Depois de treinar o modelo novamente, iremos testá-lo com os dados separados para teste e calcular seu F1-Score e também exploraremos outras métricas para nos certificar da qualidade do nosso modelo."
   ]
  },
  {
   "cell_type": "code",
   "execution_count": 193,
   "metadata": {},
   "outputs": [],
   "source": [
    "# Combinando os conjuntos de dados\n",
    "features_combined = pd.concat([features_train, features_valid], axis=0)\n",
    "target_combined = pd.concat([target_train, target_valid], axis=0)\n",
    "\n",
    "# Chamando a função upsample para criar uma superamsotragem da classe rara\n",
    "# Devido a razão das classes ser de 4:1, iremos multiplicar os dados da classe rara por 4\n",
    "total_features_upsampled, total_target_upsampled = upsample(features_combined, target_combined, 4)"
   ]
  },
  {
   "cell_type": "code",
   "execution_count": 194,
   "metadata": {},
   "outputs": [
    {
     "name": "stdout",
     "output_type": "stream",
     "text": [
      "      credit_score  geography  gender       age    tenure   balance  \\\n",
      "7741     -2.195237        0.0     1.0  1.999392 -1.067467  1.030648   \n",
      "5883     -1.634457        0.0     0.0 -0.088482 -0.760164 -0.217400   \n",
      "626      -2.340625        0.0     1.0 -0.942612 -1.067467  1.042101   \n",
      "6814     -2.153698        0.0     1.0 -1.322225  0.469046 -1.233163   \n",
      "7658      0.556739        2.0     0.0  1.335069 -0.452862 -1.233163   \n",
      "\n",
      "      num_of_products has_cr_card is_active_member  estimated_salary  \n",
      "7741                1           0                1          1.296924  \n",
      "5883                1           1                1         -0.907648  \n",
      "626                 1           1                1         -0.097989  \n",
      "6814                2           1                0          0.345149  \n",
      "7658                3           0                0         -0.190824  \n",
      "\n",
      "(12842, 10)\n"
     ]
    }
   ],
   "source": [
    "print(total_features_upsampled.head(5))\n",
    "print()\n",
    "print(total_features_upsampled.shape)"
   ]
  },
  {
   "cell_type": "code",
   "execution_count": 195,
   "metadata": {},
   "outputs": [
    {
     "name": "stdout",
     "output_type": "stream",
     "text": [
      "F1 do melhor modelo de Árvore Decisória: 0.5905420991926182\n"
     ]
    }
   ],
   "source": [
    "# utilizando o modelo selecionado anteriormente com os melhores hiperparâmetros\n",
    "best_model = DecisionTreeClassifier(random_state = 12345, max_depth = 5, criterion = 'entropy', min_samples_leaf = 9)\n",
    "\n",
    "# treinando o modelo com todos os dados de origem disponíveis\n",
    "best_model.fit(total_features_upsampled, total_target_upsampled) \n",
    "\n",
    "# Realizando o ajuste de limiar do melhor modelo (threshold = 0.58)\n",
    "best_model_probabilities_test = best_model.predict_proba(features_test)\n",
    "best_model_probabilities_one_test = best_model_probabilities_test[:, 1]\n",
    "best_predicted_test = best_model_probabilities_one_test > 0.58\n",
    "\n",
    "# Calculando e imprimindo o F1_Score\n",
    "best_f1 = f1_score(target_test, best_predicted_test) # Calculando F1 do modelo\n",
    "print('F1 do melhor modelo de Árvore Decisória:', best_f1)"
   ]
  },
  {
   "cell_type": "markdown",
   "metadata": {},
   "source": [
    "### Análise das frequências de classe das predições do nosso melhor modelo"
   ]
  },
  {
   "cell_type": "code",
   "execution_count": 196,
   "metadata": {},
   "outputs": [
    {
     "name": "stdout",
     "output_type": "stream",
     "text": [
      "0    0.676\n",
      "1    0.324\n",
      "Name: proportion, dtype: float64\n"
     ]
    }
   ],
   "source": [
    "# Analisando as frequências de classe das predições do modelo\n",
    "best_predicted_test = pd.Series(best_model.predict(features_test))\n",
    "best_class_frequency = best_predicted_test.value_counts(normalize=True)\n",
    "\n",
    "print(best_class_frequency)"
   ]
  },
  {
   "cell_type": "markdown",
   "metadata": {},
   "source": [
    "Nosso melhor modelo prevê 68% das respostas na Classe Negativa, \"0\" e 32% das respostas na Classe Positiva, \"1\"."
   ]
  },
  {
   "cell_type": "markdown",
   "metadata": {},
   "source": [
    "### Matriz de confusão do melhor modelo"
   ]
  },
  {
   "cell_type": "code",
   "execution_count": 197,
   "metadata": {},
   "outputs": [
    {
     "name": "stdout",
     "output_type": "stream",
     "text": [
      "  VN      FP\n",
      "[[1226  351]\n",
      " [ 126  297]]\n",
      "  FN      VP\n"
     ]
    }
   ],
   "source": [
    "# Imprimindo a matriz de confusão para verificar o número de VP,VN,FP e FN.\n",
    "print('  VN      FP')\n",
    "print(confusion_matrix(target_test, best_predicted_test))\n",
    "print('  FN      VP')"
   ]
  },
  {
   "cell_type": "code",
   "execution_count": 198,
   "metadata": {},
   "outputs": [
    {
     "name": "stdout",
     "output_type": "stream",
     "text": [
      "A precisão do melhor modelo é: 0.4583333333333333\n",
      "A sensibilidade do melhor modelo é: 0.7021276595744681\n"
     ]
    }
   ],
   "source": [
    "print('A precisão do melhor modelo é:', precision_score(target_test, best_predicted_test))\n",
    "print('A sensibilidade do melhor modelo é:', recall_score(target_test, best_predicted_test))"
   ]
  },
  {
   "cell_type": "markdown",
   "metadata": {},
   "source": [
    "Nosso modelo apresentou um melhor equilíbrio entre Precisão e Sensibilidade. A Sensibilidade mais alta faz com que o modelo preveja mais respostas positivas e, consequentemente, tenha um pouco mais de Verdadeiros Positivos, mas também tenha Falsos Positivos. Em compensação, este modelo apresenta um menor número de Falsos negativos. \n",
    "\n",
    "O nosso F1_Score de 0.59 nos certifica da melhoria do modelo."
   ]
  },
  {
   "cell_type": "markdown",
   "metadata": {},
   "source": [
    "### Curva PR do melhor modelo"
   ]
  },
  {
   "cell_type": "markdown",
   "metadata": {},
   "source": [
    "A Curva PR é uma curva traçada a partir dos valores de Precisão e Recall (Sensibilidade). \n",
    "Quanto maior a curva, melhor o modelo. Vamos desenhá-la:"
   ]
  },
  {
   "cell_type": "code",
   "execution_count": 199,
   "metadata": {},
   "outputs": [
    {
     "data": {
      "image/png": "[encoded data removed]",
      "text/plain": [
       "<Figure size 500x500 with 1 Axes>"
      ]
     },
     "metadata": {},
     "output_type": "display_data"
    }
   ],
   "source": [
    "precision, recall, thresholds = precision_recall_curve(target_test, best_model_probabilities_test[:, 1])\n",
    "\n",
    "plt.figure(figsize = (5,5))\n",
    "plt.step(recall, precision, where = 'post')\n",
    "plt.xlabel('SENSIBILIDADE')\n",
    "plt.ylabel('PRECISÃO')\n",
    "plt.xlim([0.0, 1.0])\n",
    "plt.ylim([0.0, 1.05])\n",
    "plt.title('Precision_Recall_Curve')\n",
    "\n",
    "plt.show()"
   ]
  },
  {
   "cell_type": "markdown",
   "metadata": {},
   "source": [
    "### Curva ROC do melhor modelo"
   ]
  },
  {
   "cell_type": "markdown",
   "metadata": {},
   "source": [
    "A Curva ROC é traçada com base na TFP (Taxa de Falsos Positivos) e TVP (Taxa de Verdadeiros Positivos).\n",
    "\n",
    "Um modelo que responde aleatoriamente tem uma linha diagonal do canto inferior esquerdo ao superior direito. Quanto mais a curva ROC se diatancia dessa diagonal em direção ao canto superior esquerdo, melhor é o modelo, já que isso indica uma relação TVP-TFP mais elevada.\n",
    "\n",
    "Vamos traçar nossa Curva ROC:"
   ]
  },
  {
   "cell_type": "code",
   "execution_count": 200,
   "metadata": {},
   "outputs": [
    {
     "data": {
      "image/png": "[encoded data removed]",
      "text/plain": [
       "<Figure size 640x480 with 1 Axes>"
      ]
     },
     "metadata": {},
     "output_type": "display_data"
    }
   ],
   "source": [
    "fpr, tpr, thresholds = roc_curve(target_test, best_model_probabilities_one_test)\n",
    "\n",
    "plt.figure()\n",
    "\n",
    "# Traçando a curva ROC para um modelo aleatório (50%)\n",
    "plt.plot([0, 1], [0,1], linestyle = '--')\n",
    "\n",
    "# Traçando a curva ROC para o melhor modelo com os dados de teste\n",
    "plt.plot(fpr, tpr)\n",
    "plt.xlabel('TAXA DE FALSOS POSITIVOS')\n",
    "plt.ylabel('TAXA DE VERDADEIROS POSITIVOS')\n",
    "plt.xlim([0.0, 1.0])\n",
    "plt.ylim([0.0, 1.01])\n",
    "plt.title('CURVA ROC DO MELHOR MODELO')\n",
    "\n",
    "plt.show()"
   ]
  },
  {
   "cell_type": "markdown",
   "metadata": {},
   "source": [
    "### Cálculo do AUC-ROC do melhor modelo"
   ]
  },
  {
   "cell_type": "markdown",
   "metadata": {},
   "source": [
    "Para descobrir a diferença do nosso modelo para um modelo aleatório, vamos calcular o valor **AUC-ROC** (Area Under Curve-ROC) ou **Área Sob a Curva-ROC**. Isso é uma métrica de avaliação com valores no intervalo de 0 a 1. Lembrando que AUC-ROC para o modelo aleatório (diagonal) é igual a 0.5.\n",
    "\n",
    "Vamos calcular nosso valor AUC-ROC:"
   ]
  },
  {
   "cell_type": "code",
   "execution_count": 201,
   "metadata": {},
   "outputs": [
    {
     "name": "stdout",
     "output_type": "stream",
     "text": [
      "Resultado de auc_roc para o melhor modelo: 0.8362475658513111\n"
     ]
    }
   ],
   "source": [
    "auc_roc = roc_auc_score(target_test, best_model_probabilities_one_test)\n",
    "print('Resultado de auc_roc para o melhor modelo:', auc_roc)"
   ]
  },
  {
   "cell_type": "markdown",
   "metadata": {},
   "source": [
    "Enquanto um AUC-ROC de um modelo aleatório é de 0.5, o nosso modelo apresentou um AUC-ROC de 0.84, o que é um resultado muito positivo, pois nos mostra que o nosso melhor modelo é muito superior a um modelo aleatório e de fato aprendeu padrões importantes dos dados analisados."
   ]
  },
  {
   "cell_type": "markdown",
   "metadata": {},
   "source": [
    "## Conclusões Finais"
   ]
  },
  {
   "cell_type": "markdown",
   "metadata": {},
   "source": [
    "Nosso melhor modelo treinado foi um modelo de Árvore Decisória que alcançou um bom resultado com os dados de teste, sendo o F1 igual a 0.59 e o resultado de AUC-ROC de 0.84, o que foi bem superior a um AUC-ROC de um modelo aleatório de 0.5 e mostra que nosso modelo aprendeu padrões importantes no conjunto de dados. \n",
    "\n",
    "Nosso modelo final apresentou uma Sensibilidade de 0.70 e uma Precisão de 0.46, o que culminou no nosso resultado de F1_Score já citado acima. Porém, aqui é importante citar a sensibilidade, pois neste caso específico, ela é um parâmetro muito importante, pois como o banco está buscando encontrar padrões de clientes que tem tendência a deixar de utilizar os servços do banco, é melhor obtermos mais resultados de Falso Positivo do que de Falso Negativo. Ou seja, no caso de uma campanha para reter clientes, é melhor incluir um cliente FP na campanha do que deixar de atingir um cliente FN, então quanto menor o nosso número de FN, melhor.\n",
    "\n",
    "Durante todo o processo, também foi possível observarmos a importância de realizarmos a preparação dos dados com a Codificação, além de analisarmos e tratarmos o desequilíbrio das Classes, utilizando as técnicas de Superamostragem e de Ajuste do limiar. Todas essas técnicas fizeram com que alcançássemos um resultado muito mais satisfatório, pois o nosso modelo de Árvore Decisória saltou de um F1_Score de 0.46, obtido antes do tratamento do desequilíbrio, para um F1_Score igual a 0.59 no nosso modelo final. "
   ]
  },
  {
   "cell_type": "markdown",
   "metadata": {},
   "source": [
    "<center>\n",
    "    \n",
    "# Renan Rosental de Oliveira"
   ]
  }
 ],
 "metadata": {
  "ExecuteTimeLog": [
   {
    "duration": 310,
    "start_time": "2024-05-28T13:52:34.923Z"
   },
   {
    "duration": 447,
    "start_time": "2024-05-28T13:52:38.540Z"
   },
   {
    "duration": 44,
    "start_time": "2024-05-28T13:52:40.850Z"
   },
   {
    "duration": 31,
    "start_time": "2024-05-28T13:52:54.084Z"
   },
   {
    "duration": 4714,
    "start_time": "2024-05-28T14:13:16.029Z"
   },
   {
    "duration": 7,
    "start_time": "2024-05-28T14:14:02.120Z"
   },
   {
    "duration": 83,
    "start_time": "2024-05-28T14:14:31.791Z"
   },
   {
    "duration": 84,
    "start_time": "2024-05-28T14:14:56.702Z"
   },
   {
    "duration": 4,
    "start_time": "2024-05-28T14:34:16.809Z"
   },
   {
    "duration": 24,
    "start_time": "2024-05-28T14:34:41.255Z"
   },
   {
    "duration": 25,
    "start_time": "2024-05-28T14:34:50.680Z"
   },
   {
    "duration": 8,
    "start_time": "2024-05-28T14:35:10.541Z"
   },
   {
    "duration": 23,
    "start_time": "2024-05-28T14:36:13.049Z"
   },
   {
    "duration": 1450,
    "start_time": "2024-05-28T14:36:25.780Z"
   },
   {
    "duration": 34,
    "start_time": "2024-05-28T14:36:27.233Z"
   },
   {
    "duration": 40,
    "start_time": "2024-05-28T14:36:27.269Z"
   },
   {
    "duration": 5,
    "start_time": "2024-05-28T14:36:27.314Z"
   },
   {
    "duration": 7,
    "start_time": "2024-05-28T14:36:59.833Z"
   },
   {
    "duration": 5,
    "start_time": "2024-05-28T14:37:14.998Z"
   },
   {
    "duration": 6,
    "start_time": "2024-05-28T14:37:25.661Z"
   },
   {
    "duration": 4,
    "start_time": "2024-05-28T14:37:27.688Z"
   },
   {
    "duration": 475,
    "start_time": "2024-05-28T14:37:43.297Z"
   },
   {
    "duration": 24,
    "start_time": "2024-05-28T14:37:54.012Z"
   },
   {
    "duration": 5,
    "start_time": "2024-05-28T14:38:02.571Z"
   },
   {
    "duration": 4,
    "start_time": "2024-05-28T14:38:50.759Z"
   },
   {
    "duration": 4,
    "start_time": "2024-05-28T14:38:57.213Z"
   },
   {
    "duration": 4,
    "start_time": "2024-05-28T14:41:26.018Z"
   },
   {
    "duration": 5,
    "start_time": "2024-05-28T14:41:27.318Z"
   },
   {
    "duration": 5,
    "start_time": "2024-05-28T14:41:47.246Z"
   },
   {
    "duration": 5,
    "start_time": "2024-05-28T14:41:52.512Z"
   },
   {
    "duration": 4,
    "start_time": "2024-05-28T14:42:14.854Z"
   },
   {
    "duration": 5,
    "start_time": "2024-05-28T14:42:20.675Z"
   },
   {
    "duration": 1390,
    "start_time": "2024-05-28T14:43:25.407Z"
   },
   {
    "duration": 183,
    "start_time": "2024-05-28T14:44:19.186Z"
   },
   {
    "duration": 33,
    "start_time": "2024-05-28T14:44:30.962Z"
   },
   {
    "duration": 80,
    "start_time": "2024-05-28T14:44:40.827Z"
   },
   {
    "duration": 5,
    "start_time": "2024-05-28T14:45:13.849Z"
   },
   {
    "duration": 6,
    "start_time": "2024-05-28T14:45:44.507Z"
   },
   {
    "duration": 17,
    "start_time": "2024-05-28T14:46:05.906Z"
   },
   {
    "duration": 83,
    "start_time": "2024-05-28T14:46:44.226Z"
   },
   {
    "duration": 5,
    "start_time": "2024-05-28T14:48:01.365Z"
   },
   {
    "duration": 25,
    "start_time": "2024-05-28T14:48:43.109Z"
   },
   {
    "duration": 1429,
    "start_time": "2024-05-28T14:49:06.040Z"
   },
   {
    "duration": 38,
    "start_time": "2024-05-28T14:49:07.473Z"
   },
   {
    "duration": 19,
    "start_time": "2024-05-28T14:49:07.514Z"
   },
   {
    "duration": 3,
    "start_time": "2024-05-28T14:50:04.864Z"
   },
   {
    "duration": 3,
    "start_time": "2024-05-28T14:50:29.539Z"
   },
   {
    "duration": 10,
    "start_time": "2024-05-28T14:50:42.977Z"
   },
   {
    "duration": 1412,
    "start_time": "2024-05-28T15:01:50.340Z"
   },
   {
    "duration": 33,
    "start_time": "2024-05-28T15:01:51.756Z"
   },
   {
    "duration": 30,
    "start_time": "2024-05-28T15:01:51.792Z"
   },
   {
    "duration": 286,
    "start_time": "2024-05-28T15:01:51.826Z"
   },
   {
    "duration": 0,
    "start_time": "2024-05-28T15:01:52.115Z"
   },
   {
    "duration": 3,
    "start_time": "2024-05-28T15:02:29.741Z"
   },
   {
    "duration": 4,
    "start_time": "2024-05-28T15:02:41.805Z"
   },
   {
    "duration": 255,
    "start_time": "2024-05-28T15:02:57.294Z"
   },
   {
    "duration": 33,
    "start_time": "2024-05-28T15:03:24.573Z"
   },
   {
    "duration": 4,
    "start_time": "2024-05-28T15:03:34.386Z"
   },
   {
    "duration": 7,
    "start_time": "2024-05-28T15:03:37.108Z"
   },
   {
    "duration": 4,
    "start_time": "2024-05-28T15:04:05.149Z"
   },
   {
    "duration": 6,
    "start_time": "2024-05-28T15:04:07.172Z"
   },
   {
    "duration": 1377,
    "start_time": "2024-05-28T15:04:19.541Z"
   },
   {
    "duration": 36,
    "start_time": "2024-05-28T15:04:20.922Z"
   },
   {
    "duration": 20,
    "start_time": "2024-05-28T15:04:20.964Z"
   },
   {
    "duration": 4,
    "start_time": "2024-05-28T15:04:21.008Z"
   },
   {
    "duration": 7,
    "start_time": "2024-05-28T15:04:21.018Z"
   },
   {
    "duration": 4,
    "start_time": "2024-05-28T15:04:21.028Z"
   },
   {
    "duration": 10,
    "start_time": "2024-05-28T15:05:15.964Z"
   },
   {
    "duration": 5,
    "start_time": "2024-05-28T15:05:18.282Z"
   },
   {
    "duration": 4,
    "start_time": "2024-05-28T15:06:26.662Z"
   },
   {
    "duration": 7,
    "start_time": "2024-05-28T15:06:27.343Z"
   },
   {
    "duration": 472,
    "start_time": "2024-05-28T15:06:32.682Z"
   },
   {
    "duration": 5,
    "start_time": "2024-05-28T15:06:45.536Z"
   },
   {
    "duration": 8,
    "start_time": "2024-05-28T15:06:46.806Z"
   },
   {
    "duration": 137,
    "start_time": "2024-05-28T15:07:49.073Z"
   },
   {
    "duration": 4,
    "start_time": "2024-05-28T15:09:28.374Z"
   },
   {
    "duration": 7,
    "start_time": "2024-05-28T15:09:29.896Z"
   },
   {
    "duration": 12,
    "start_time": "2024-05-28T15:10:56.808Z"
   },
   {
    "duration": 1436,
    "start_time": "2024-05-28T15:13:06.973Z"
   },
   {
    "duration": 32,
    "start_time": "2024-05-28T15:13:08.412Z"
   },
   {
    "duration": 19,
    "start_time": "2024-05-28T15:13:08.447Z"
   },
   {
    "duration": 3,
    "start_time": "2024-05-28T15:13:08.469Z"
   },
   {
    "duration": 585,
    "start_time": "2024-05-28T15:13:40.814Z"
   },
   {
    "duration": 7,
    "start_time": "2024-05-28T15:14:04.408Z"
   },
   {
    "duration": 32,
    "start_time": "2024-05-28T15:14:10.747Z"
   },
   {
    "duration": 32,
    "start_time": "2024-05-28T15:14:38.288Z"
   },
   {
    "duration": 7,
    "start_time": "2024-05-28T15:25:29.626Z"
   },
   {
    "duration": 3,
    "start_time": "2024-05-28T15:28:29.486Z"
   },
   {
    "duration": 76,
    "start_time": "2024-05-28T15:28:41.223Z"
   },
   {
    "duration": 32,
    "start_time": "2024-05-28T15:29:36.385Z"
   },
   {
    "duration": 23,
    "start_time": "2024-05-28T15:30:45.033Z"
   },
   {
    "duration": 3,
    "start_time": "2024-05-28T15:34:32.783Z"
   },
   {
    "duration": 4,
    "start_time": "2024-05-28T15:35:26.321Z"
   },
   {
    "duration": 4,
    "start_time": "2024-05-28T15:35:40.771Z"
   },
   {
    "duration": 4,
    "start_time": "2024-05-28T15:36:58.105Z"
   },
   {
    "duration": 5,
    "start_time": "2024-05-28T15:37:07.727Z"
   },
   {
    "duration": 4,
    "start_time": "2024-05-28T15:38:11.968Z"
   },
   {
    "duration": 5,
    "start_time": "2024-05-28T15:39:25.821Z"
   },
   {
    "duration": 4,
    "start_time": "2024-05-28T15:39:34.089Z"
   },
   {
    "duration": 5,
    "start_time": "2024-05-28T15:39:53.737Z"
   },
   {
    "duration": 4,
    "start_time": "2024-05-28T15:40:37.307Z"
   },
   {
    "duration": 30,
    "start_time": "2024-05-28T15:40:58.444Z"
   },
   {
    "duration": 5,
    "start_time": "2024-05-28T15:42:07.399Z"
   },
   {
    "duration": 23,
    "start_time": "2024-05-28T15:42:49.527Z"
   },
   {
    "duration": 5,
    "start_time": "2024-05-28T15:43:32.664Z"
   },
   {
    "duration": 5,
    "start_time": "2024-05-28T15:43:45.383Z"
   },
   {
    "duration": 4,
    "start_time": "2024-05-28T15:43:56.020Z"
   },
   {
    "duration": 4,
    "start_time": "2024-05-28T15:43:57.042Z"
   },
   {
    "duration": 5,
    "start_time": "2024-05-28T15:44:28.912Z"
   },
   {
    "duration": 4,
    "start_time": "2024-05-28T15:45:11.133Z"
   },
   {
    "duration": 4,
    "start_time": "2024-05-28T15:45:12.189Z"
   },
   {
    "duration": 4,
    "start_time": "2024-05-28T15:45:26.947Z"
   },
   {
    "duration": 5,
    "start_time": "2024-05-28T15:45:28.343Z"
   },
   {
    "duration": 3,
    "start_time": "2024-05-28T15:46:08.613Z"
   },
   {
    "duration": 4,
    "start_time": "2024-05-28T15:46:09.547Z"
   },
   {
    "duration": 6,
    "start_time": "2024-05-28T15:46:32.654Z"
   },
   {
    "duration": 4,
    "start_time": "2024-05-28T15:46:33.621Z"
   },
   {
    "duration": 4,
    "start_time": "2024-05-28T15:53:35.575Z"
   },
   {
    "duration": 5,
    "start_time": "2024-05-28T15:53:36.566Z"
   },
   {
    "duration": 3,
    "start_time": "2024-05-28T15:53:51.528Z"
   },
   {
    "duration": 4,
    "start_time": "2024-05-28T15:53:51.926Z"
   },
   {
    "duration": 3,
    "start_time": "2024-05-28T15:54:10.258Z"
   },
   {
    "duration": 3,
    "start_time": "2024-05-28T15:54:11.356Z"
   },
   {
    "duration": 3,
    "start_time": "2024-05-28T15:55:03.913Z"
   },
   {
    "duration": 3,
    "start_time": "2024-05-28T15:55:04.517Z"
   },
   {
    "duration": 4,
    "start_time": "2024-05-28T15:56:17.839Z"
   },
   {
    "duration": 5,
    "start_time": "2024-05-28T15:56:18.245Z"
   },
   {
    "duration": 4,
    "start_time": "2024-05-28T15:56:41.732Z"
   },
   {
    "duration": 5,
    "start_time": "2024-05-28T15:56:42.429Z"
   },
   {
    "duration": 38,
    "start_time": "2024-05-28T15:57:11.863Z"
   },
   {
    "duration": 42,
    "start_time": "2024-05-28T15:57:50.991Z"
   },
   {
    "duration": 4,
    "start_time": "2024-05-28T15:58:05.185Z"
   },
   {
    "duration": 4,
    "start_time": "2024-05-28T15:58:08.831Z"
   },
   {
    "duration": 4,
    "start_time": "2024-05-28T15:58:09.232Z"
   },
   {
    "duration": 4,
    "start_time": "2024-05-28T15:58:29.790Z"
   },
   {
    "duration": 7,
    "start_time": "2024-05-28T15:58:30.804Z"
   },
   {
    "duration": 4,
    "start_time": "2024-05-28T16:00:30.367Z"
   },
   {
    "duration": 4,
    "start_time": "2024-05-28T16:00:31.826Z"
   },
   {
    "duration": 3,
    "start_time": "2024-05-28T16:01:17.931Z"
   },
   {
    "duration": 3,
    "start_time": "2024-05-28T16:01:18.914Z"
   },
   {
    "duration": 3,
    "start_time": "2024-05-28T16:01:35.035Z"
   },
   {
    "duration": 5,
    "start_time": "2024-05-28T16:01:35.559Z"
   },
   {
    "duration": 9,
    "start_time": "2024-05-28T16:02:03.805Z"
   },
   {
    "duration": 4,
    "start_time": "2024-05-28T16:02:04.630Z"
   },
   {
    "duration": 3,
    "start_time": "2024-05-28T16:02:19.577Z"
   },
   {
    "duration": 5,
    "start_time": "2024-05-28T16:02:20.101Z"
   },
   {
    "duration": 4,
    "start_time": "2024-05-28T16:03:08.839Z"
   },
   {
    "duration": 5,
    "start_time": "2024-05-28T16:03:09.626Z"
   },
   {
    "duration": 4,
    "start_time": "2024-05-28T16:10:15.169Z"
   },
   {
    "duration": 4,
    "start_time": "2024-05-28T16:10:16.420Z"
   },
   {
    "duration": 31,
    "start_time": "2024-05-28T16:10:49.410Z"
   },
   {
    "duration": 4,
    "start_time": "2024-05-28T16:10:57.180Z"
   },
   {
    "duration": 5,
    "start_time": "2024-05-28T16:10:58.248Z"
   },
   {
    "duration": 3,
    "start_time": "2024-05-28T16:11:16.393Z"
   },
   {
    "duration": 8,
    "start_time": "2024-05-28T16:11:17.605Z"
   },
   {
    "duration": 487,
    "start_time": "2024-05-28T16:11:45.374Z"
   },
   {
    "duration": 158,
    "start_time": "2024-05-28T16:12:00.104Z"
   },
   {
    "duration": 4,
    "start_time": "2024-05-28T16:12:05.011Z"
   },
   {
    "duration": 4,
    "start_time": "2024-05-28T16:12:06.698Z"
   },
   {
    "duration": 4,
    "start_time": "2024-05-28T16:13:57.088Z"
   },
   {
    "duration": 4,
    "start_time": "2024-05-28T16:13:58.352Z"
   },
   {
    "duration": 4,
    "start_time": "2024-05-28T16:14:13.098Z"
   },
   {
    "duration": 4,
    "start_time": "2024-05-28T16:14:14.527Z"
   },
   {
    "duration": 4,
    "start_time": "2024-05-28T16:14:52.317Z"
   },
   {
    "duration": 8,
    "start_time": "2024-05-28T16:14:53.391Z"
   },
   {
    "duration": 4,
    "start_time": "2024-05-28T16:17:44.177Z"
   },
   {
    "duration": 4,
    "start_time": "2024-05-28T16:17:45.016Z"
   },
   {
    "duration": 4,
    "start_time": "2024-05-28T16:19:14.760Z"
   },
   {
    "duration": 4,
    "start_time": "2024-05-28T16:19:16.266Z"
   },
   {
    "duration": 4,
    "start_time": "2024-05-28T16:19:56.758Z"
   },
   {
    "duration": 4,
    "start_time": "2024-05-28T16:19:57.475Z"
   },
   {
    "duration": 4,
    "start_time": "2024-05-28T16:20:09.714Z"
   },
   {
    "duration": 5,
    "start_time": "2024-05-28T16:20:10.149Z"
   },
   {
    "duration": 4,
    "start_time": "2024-05-28T16:39:28.262Z"
   },
   {
    "duration": 4,
    "start_time": "2024-05-28T16:39:35.976Z"
   },
   {
    "duration": 7,
    "start_time": "2024-05-28T16:39:37.107Z"
   },
   {
    "duration": 4,
    "start_time": "2024-05-28T16:39:50.719Z"
   },
   {
    "duration": 3,
    "start_time": "2024-05-28T16:39:51.640Z"
   },
   {
    "duration": 4,
    "start_time": "2024-05-28T16:39:52.113Z"
   },
   {
    "duration": 4,
    "start_time": "2024-05-28T16:40:08.544Z"
   },
   {
    "duration": 5,
    "start_time": "2024-05-28T16:44:21.406Z"
   },
   {
    "duration": 6,
    "start_time": "2024-05-28T16:44:34.921Z"
   },
   {
    "duration": 6,
    "start_time": "2024-05-28T16:44:52.841Z"
   },
   {
    "duration": 25,
    "start_time": "2024-05-28T16:44:59.684Z"
   },
   {
    "duration": 7,
    "start_time": "2024-05-28T16:45:11.840Z"
   },
   {
    "duration": 6,
    "start_time": "2024-05-28T16:46:05.763Z"
   },
   {
    "duration": 5,
    "start_time": "2024-05-28T16:46:16.018Z"
   },
   {
    "duration": 23,
    "start_time": "2024-05-28T16:47:18.563Z"
   },
   {
    "duration": 3,
    "start_time": "2024-05-28T16:47:39.247Z"
   },
   {
    "duration": 4,
    "start_time": "2024-05-28T16:47:40.394Z"
   },
   {
    "duration": 6,
    "start_time": "2024-05-28T16:48:30.757Z"
   },
   {
    "duration": 4,
    "start_time": "2024-05-28T16:48:46.826Z"
   },
   {
    "duration": 4,
    "start_time": "2024-05-28T16:48:53.825Z"
   },
   {
    "duration": 4,
    "start_time": "2024-05-28T16:51:53.564Z"
   },
   {
    "duration": 4,
    "start_time": "2024-05-28T16:51:54.080Z"
   },
   {
    "duration": 3,
    "start_time": "2024-05-28T16:52:03.658Z"
   },
   {
    "duration": 4,
    "start_time": "2024-05-28T16:52:04.978Z"
   },
   {
    "duration": 4,
    "start_time": "2024-05-28T16:52:29.080Z"
   },
   {
    "duration": 4,
    "start_time": "2024-05-28T16:52:29.824Z"
   },
   {
    "duration": 4,
    "start_time": "2024-05-28T16:52:30.647Z"
   },
   {
    "duration": 5,
    "start_time": "2024-05-28T16:53:48.583Z"
   },
   {
    "duration": 5,
    "start_time": "2024-05-28T16:53:49.518Z"
   },
   {
    "duration": 4,
    "start_time": "2024-05-28T16:54:54.154Z"
   },
   {
    "duration": 6,
    "start_time": "2024-05-28T16:54:55.210Z"
   },
   {
    "duration": 26,
    "start_time": "2024-05-28T16:55:27.409Z"
   },
   {
    "duration": 27,
    "start_time": "2024-05-28T16:55:36.162Z"
   },
   {
    "duration": 4,
    "start_time": "2024-05-28T16:55:46.695Z"
   },
   {
    "duration": 5,
    "start_time": "2024-05-28T16:55:47.734Z"
   },
   {
    "duration": 7,
    "start_time": "2024-05-28T16:55:49.767Z"
   },
   {
    "duration": 27,
    "start_time": "2024-05-28T16:56:25.178Z"
   },
   {
    "duration": 4,
    "start_time": "2024-05-28T16:56:29.691Z"
   },
   {
    "duration": 9,
    "start_time": "2024-05-28T16:56:30.360Z"
   },
   {
    "duration": 38,
    "start_time": "2024-05-28T16:56:56.065Z"
   },
   {
    "duration": 6,
    "start_time": "2024-05-28T16:57:00.088Z"
   },
   {
    "duration": 32,
    "start_time": "2024-05-28T16:57:00.739Z"
   },
   {
    "duration": 5,
    "start_time": "2024-05-28T16:57:02.576Z"
   },
   {
    "duration": 8,
    "start_time": "2024-05-28T16:57:10.449Z"
   },
   {
    "duration": 3,
    "start_time": "2024-05-28T16:57:41.535Z"
   },
   {
    "duration": 5,
    "start_time": "2024-05-28T16:57:44.304Z"
   },
   {
    "duration": 23,
    "start_time": "2024-05-28T16:58:18.690Z"
   },
   {
    "duration": 3,
    "start_time": "2024-05-28T16:58:38.923Z"
   },
   {
    "duration": 3,
    "start_time": "2024-05-28T16:58:55.189Z"
   },
   {
    "duration": 4,
    "start_time": "2024-05-28T16:58:55.844Z"
   },
   {
    "duration": 5,
    "start_time": "2024-05-28T16:59:20.954Z"
   },
   {
    "duration": 5,
    "start_time": "2024-05-28T16:59:25.627Z"
   },
   {
    "duration": 4,
    "start_time": "2024-05-28T16:59:26.978Z"
   },
   {
    "duration": 4,
    "start_time": "2024-05-28T16:59:28.571Z"
   },
   {
    "duration": 3,
    "start_time": "2024-05-28T16:59:58.739Z"
   },
   {
    "duration": 4,
    "start_time": "2024-05-28T17:00:00.565Z"
   },
   {
    "duration": 5,
    "start_time": "2024-05-28T17:00:12.216Z"
   },
   {
    "duration": 4,
    "start_time": "2024-05-28T17:00:59.652Z"
   },
   {
    "duration": 4,
    "start_time": "2024-05-28T17:01:00.290Z"
   },
   {
    "duration": 3,
    "start_time": "2024-05-28T17:01:06.629Z"
   },
   {
    "duration": 5,
    "start_time": "2024-05-28T17:01:16.382Z"
   },
   {
    "duration": 4,
    "start_time": "2024-05-28T17:04:05.383Z"
   },
   {
    "duration": 6,
    "start_time": "2024-05-28T17:05:17.064Z"
   },
   {
    "duration": 3,
    "start_time": "2024-05-28T17:05:30.191Z"
   },
   {
    "duration": 4,
    "start_time": "2024-05-28T17:05:31.194Z"
   },
   {
    "duration": 4,
    "start_time": "2024-05-28T17:05:39.437Z"
   },
   {
    "duration": 5,
    "start_time": "2024-05-28T17:07:31.320Z"
   },
   {
    "duration": 5152,
    "start_time": "2024-05-30T11:02:57.930Z"
   },
   {
    "duration": 47,
    "start_time": "2024-05-30T11:03:03.086Z"
   },
   {
    "duration": 20,
    "start_time": "2024-05-30T11:03:03.136Z"
   },
   {
    "duration": 4,
    "start_time": "2024-05-30T11:03:03.160Z"
   },
   {
    "duration": 5,
    "start_time": "2024-05-30T11:03:03.168Z"
   },
   {
    "duration": 46,
    "start_time": "2024-05-30T11:03:03.177Z"
   },
   {
    "duration": 4,
    "start_time": "2024-05-30T11:03:03.226Z"
   },
   {
    "duration": 5,
    "start_time": "2024-05-30T11:03:03.233Z"
   },
   {
    "duration": 6,
    "start_time": "2024-05-30T11:03:03.242Z"
   },
   {
    "duration": 5,
    "start_time": "2024-05-30T11:05:17.450Z"
   },
   {
    "duration": 6,
    "start_time": "2024-05-30T11:05:30.662Z"
   },
   {
    "duration": 7,
    "start_time": "2024-05-30T11:06:59.657Z"
   },
   {
    "duration": 4,
    "start_time": "2024-05-30T11:07:39.285Z"
   },
   {
    "duration": 11,
    "start_time": "2024-05-30T11:07:53.761Z"
   },
   {
    "duration": 5285,
    "start_time": "2024-05-30T12:09:31.210Z"
   },
   {
    "duration": 44,
    "start_time": "2024-05-30T12:09:36.499Z"
   },
   {
    "duration": 16,
    "start_time": "2024-05-30T12:09:36.547Z"
   },
   {
    "duration": 6,
    "start_time": "2024-05-30T12:09:36.568Z"
   },
   {
    "duration": 6,
    "start_time": "2024-05-30T12:09:36.578Z"
   },
   {
    "duration": 50,
    "start_time": "2024-05-30T12:09:36.587Z"
   },
   {
    "duration": 6,
    "start_time": "2024-05-30T12:23:47.592Z"
   },
   {
    "duration": 458,
    "start_time": "2024-05-30T12:24:11.729Z"
   },
   {
    "duration": 7,
    "start_time": "2024-05-30T12:24:20.950Z"
   },
   {
    "duration": 7,
    "start_time": "2024-05-30T12:24:57.694Z"
   },
   {
    "duration": 16,
    "start_time": "2024-05-30T12:25:25.088Z"
   },
   {
    "duration": 8,
    "start_time": "2024-05-30T12:54:39.482Z"
   },
   {
    "duration": 6,
    "start_time": "2024-05-30T12:55:01.639Z"
   },
   {
    "duration": 13,
    "start_time": "2024-05-30T12:58:47.181Z"
   },
   {
    "duration": 6,
    "start_time": "2024-05-30T13:01:43.660Z"
   },
   {
    "duration": 23,
    "start_time": "2024-05-30T13:02:19.592Z"
   },
   {
    "duration": 1437,
    "start_time": "2024-05-30T13:02:37.906Z"
   },
   {
    "duration": 34,
    "start_time": "2024-05-30T13:02:39.346Z"
   },
   {
    "duration": 17,
    "start_time": "2024-05-30T13:02:39.385Z"
   },
   {
    "duration": 5,
    "start_time": "2024-05-30T13:02:39.431Z"
   },
   {
    "duration": 6,
    "start_time": "2024-05-30T13:02:39.440Z"
   },
   {
    "duration": 11,
    "start_time": "2024-05-30T13:02:39.449Z"
   },
   {
    "duration": 18,
    "start_time": "2024-05-30T13:02:39.463Z"
   },
   {
    "duration": 53,
    "start_time": "2024-05-30T13:02:39.484Z"
   },
   {
    "duration": 99,
    "start_time": "2024-05-30T13:02:39.539Z"
   },
   {
    "duration": 3,
    "start_time": "2024-05-30T13:02:39.643Z"
   },
   {
    "duration": 26,
    "start_time": "2024-05-30T13:03:26.216Z"
   },
   {
    "duration": 25,
    "start_time": "2024-05-30T13:04:02.974Z"
   },
   {
    "duration": 6,
    "start_time": "2024-05-30T13:09:08.496Z"
   },
   {
    "duration": 11,
    "start_time": "2024-05-30T13:09:12.456Z"
   },
   {
    "duration": 26,
    "start_time": "2024-05-30T13:09:17.487Z"
   },
   {
    "duration": 224,
    "start_time": "2024-05-30T13:13:11.993Z"
   },
   {
    "duration": 232,
    "start_time": "2024-05-30T13:15:26.467Z"
   },
   {
    "duration": 7,
    "start_time": "2024-05-30T13:16:28.629Z"
   },
   {
    "duration": 7,
    "start_time": "2024-05-30T13:17:06.590Z"
   },
   {
    "duration": 15,
    "start_time": "2024-05-30T13:20:07.225Z"
   },
   {
    "duration": 31,
    "start_time": "2024-05-30T13:21:28.772Z"
   },
   {
    "duration": 4,
    "start_time": "2024-05-30T13:22:16.493Z"
   },
   {
    "duration": 14,
    "start_time": "2024-05-30T13:25:47.542Z"
   },
   {
    "duration": 718,
    "start_time": "2024-05-30T13:26:58.227Z"
   },
   {
    "duration": 23,
    "start_time": "2024-05-30T13:27:13.673Z"
   },
   {
    "duration": 7,
    "start_time": "2024-05-30T13:27:22.597Z"
   },
   {
    "duration": 13,
    "start_time": "2024-05-30T13:27:29.241Z"
   },
   {
    "duration": 19,
    "start_time": "2024-05-30T13:28:03.826Z"
   },
   {
    "duration": 15,
    "start_time": "2024-05-30T13:28:54.177Z"
   },
   {
    "duration": 6,
    "start_time": "2024-05-30T13:29:33.221Z"
   },
   {
    "duration": 4,
    "start_time": "2024-05-30T13:29:43.895Z"
   },
   {
    "duration": 6,
    "start_time": "2024-05-30T13:29:56.942Z"
   },
   {
    "duration": 6,
    "start_time": "2024-05-30T13:30:35.937Z"
   },
   {
    "duration": 17,
    "start_time": "2024-05-30T13:31:08.355Z"
   },
   {
    "duration": 14,
    "start_time": "2024-05-30T13:31:42.835Z"
   },
   {
    "duration": 11,
    "start_time": "2024-05-30T13:31:54.537Z"
   },
   {
    "duration": 17,
    "start_time": "2024-05-30T13:33:41.938Z"
   },
   {
    "duration": 528,
    "start_time": "2024-05-30T14:38:02.516Z"
   },
   {
    "duration": 527,
    "start_time": "2024-05-30T14:38:20.681Z"
   },
   {
    "duration": 1466,
    "start_time": "2024-05-30T14:39:27.271Z"
   },
   {
    "duration": 47,
    "start_time": "2024-05-30T14:39:28.741Z"
   },
   {
    "duration": 38,
    "start_time": "2024-05-30T14:39:28.792Z"
   },
   {
    "duration": 5,
    "start_time": "2024-05-30T14:39:28.834Z"
   },
   {
    "duration": 7,
    "start_time": "2024-05-30T14:39:28.843Z"
   },
   {
    "duration": 5,
    "start_time": "2024-05-30T14:39:28.853Z"
   },
   {
    "duration": 13,
    "start_time": "2024-05-30T14:39:28.861Z"
   },
   {
    "duration": 57,
    "start_time": "2024-05-30T14:39:28.877Z"
   },
   {
    "duration": 97,
    "start_time": "2024-05-30T14:39:28.937Z"
   },
   {
    "duration": 14,
    "start_time": "2024-05-30T14:39:29.037Z"
   },
   {
    "duration": 13,
    "start_time": "2024-05-30T14:39:29.054Z"
   },
   {
    "duration": 139,
    "start_time": "2024-05-30T14:39:29.072Z"
   },
   {
    "duration": 5,
    "start_time": "2024-05-30T14:48:08.659Z"
   },
   {
    "duration": 13,
    "start_time": "2024-05-30T14:48:27.450Z"
   },
   {
    "duration": 14,
    "start_time": "2024-05-30T14:48:43.384Z"
   },
   {
    "duration": 92,
    "start_time": "2024-05-30T14:49:36.180Z"
   },
   {
    "duration": 26,
    "start_time": "2024-05-30T14:49:50.878Z"
   },
   {
    "duration": 28,
    "start_time": "2024-05-30T14:50:24.950Z"
   },
   {
    "duration": 49,
    "start_time": "2024-05-30T14:55:01.476Z"
   },
   {
    "duration": 29,
    "start_time": "2024-05-30T14:58:23.407Z"
   },
   {
    "duration": 410,
    "start_time": "2024-05-30T15:12:30.526Z"
   },
   {
    "duration": 24,
    "start_time": "2024-05-30T15:13:32.589Z"
   },
   {
    "duration": 26,
    "start_time": "2024-05-30T15:14:21.684Z"
   },
   {
    "duration": 281,
    "start_time": "2024-05-30T15:19:15.352Z"
   },
   {
    "duration": 4,
    "start_time": "2024-05-30T15:22:07.365Z"
   },
   {
    "duration": 24,
    "start_time": "2024-05-30T15:22:20.606Z"
   },
   {
    "duration": 5,
    "start_time": "2024-05-30T15:22:51.318Z"
   },
   {
    "duration": 15,
    "start_time": "2024-05-30T15:23:00.379Z"
   },
   {
    "duration": 13,
    "start_time": "2024-05-30T15:23:01.743Z"
   },
   {
    "duration": 12,
    "start_time": "2024-05-30T15:23:28.644Z"
   },
   {
    "duration": 26,
    "start_time": "2024-05-30T15:23:32.846Z"
   },
   {
    "duration": 16,
    "start_time": "2024-05-30T15:23:42.194Z"
   },
   {
    "duration": 37,
    "start_time": "2024-05-30T15:24:35.057Z"
   },
   {
    "duration": 41,
    "start_time": "2024-05-30T15:24:54.446Z"
   },
   {
    "duration": 36,
    "start_time": "2024-05-30T15:26:30.313Z"
   },
   {
    "duration": 43,
    "start_time": "2024-05-30T15:27:03.539Z"
   },
   {
    "duration": 39,
    "start_time": "2024-05-30T15:27:20.242Z"
   },
   {
    "duration": 38,
    "start_time": "2024-05-30T15:27:40.281Z"
   },
   {
    "duration": 39,
    "start_time": "2024-05-30T15:29:53.176Z"
   },
   {
    "duration": 20,
    "start_time": "2024-05-30T17:46:41.781Z"
   },
   {
    "duration": 34,
    "start_time": "2024-05-30T17:52:08.579Z"
   },
   {
    "duration": 7,
    "start_time": "2024-05-30T17:52:56.677Z"
   },
   {
    "duration": 4808,
    "start_time": "2024-05-30T17:53:03.428Z"
   },
   {
    "duration": 12197,
    "start_time": "2024-05-30T17:56:02.155Z"
   },
   {
    "duration": 12290,
    "start_time": "2024-05-30T17:57:50.195Z"
   },
   {
    "duration": 12014,
    "start_time": "2024-05-30T17:59:50.199Z"
   },
   {
    "duration": 10,
    "start_time": "2024-05-30T18:08:37.275Z"
   },
   {
    "duration": 1450,
    "start_time": "2024-05-30T18:08:52.850Z"
   },
   {
    "duration": 14,
    "start_time": "2024-05-30T18:09:40.900Z"
   },
   {
    "duration": 81,
    "start_time": "2024-05-30T18:10:30.218Z"
   },
   {
    "duration": 87,
    "start_time": "2024-05-30T18:10:42.471Z"
   },
   {
    "duration": 1462,
    "start_time": "2024-05-30T18:13:22.259Z"
   },
   {
    "duration": 41,
    "start_time": "2024-05-30T18:13:23.724Z"
   },
   {
    "duration": 18,
    "start_time": "2024-05-30T18:13:23.769Z"
   },
   {
    "duration": 6,
    "start_time": "2024-05-30T18:13:23.789Z"
   },
   {
    "duration": 5,
    "start_time": "2024-05-30T18:13:23.833Z"
   },
   {
    "duration": 6,
    "start_time": "2024-05-30T18:13:23.842Z"
   },
   {
    "duration": 13,
    "start_time": "2024-05-30T18:13:23.850Z"
   },
   {
    "duration": 7,
    "start_time": "2024-05-30T18:13:23.866Z"
   },
   {
    "duration": 122,
    "start_time": "2024-05-30T18:13:23.877Z"
   },
   {
    "duration": 5,
    "start_time": "2024-05-30T18:13:24.002Z"
   },
   {
    "duration": 33,
    "start_time": "2024-05-30T18:13:24.009Z"
   },
   {
    "duration": 13,
    "start_time": "2024-05-30T18:13:24.045Z"
   },
   {
    "duration": 14,
    "start_time": "2024-05-30T18:13:24.061Z"
   },
   {
    "duration": 61,
    "start_time": "2024-05-30T18:13:24.080Z"
   },
   {
    "duration": 40,
    "start_time": "2024-05-30T18:13:24.144Z"
   },
   {
    "duration": 1955,
    "start_time": "2024-05-30T18:13:24.188Z"
   },
   {
    "duration": 0,
    "start_time": "2024-05-30T18:13:26.146Z"
   },
   {
    "duration": 0,
    "start_time": "2024-05-30T18:13:26.149Z"
   },
   {
    "duration": 0,
    "start_time": "2024-05-30T18:13:26.151Z"
   },
   {
    "duration": 5,
    "start_time": "2024-05-30T18:14:14.909Z"
   },
   {
    "duration": 169,
    "start_time": "2024-05-30T18:14:20.574Z"
   },
   {
    "duration": 14,
    "start_time": "2024-05-30T18:14:34.636Z"
   },
   {
    "duration": 16,
    "start_time": "2024-05-30T18:15:15.772Z"
   },
   {
    "duration": 16,
    "start_time": "2024-05-30T18:16:14.627Z"
   },
   {
    "duration": 46,
    "start_time": "2024-05-30T18:25:21.600Z"
   },
   {
    "duration": 4909,
    "start_time": "2024-05-30T18:25:39.384Z"
   },
   {
    "duration": 12137,
    "start_time": "2024-05-30T18:25:44.297Z"
   },
   {
    "duration": 82,
    "start_time": "2024-05-30T18:36:27.258Z"
   },
   {
    "duration": 13,
    "start_time": "2024-05-30T18:37:04.432Z"
   },
   {
    "duration": 9,
    "start_time": "2024-05-30T18:37:41.705Z"
   },
   {
    "duration": 6,
    "start_time": "2024-05-30T18:37:54.047Z"
   },
   {
    "duration": 48,
    "start_time": "2024-05-30T18:42:33.683Z"
   },
   {
    "duration": 55,
    "start_time": "2024-05-30T18:43:05.898Z"
   },
   {
    "duration": 40,
    "start_time": "2024-05-30T18:46:17.493Z"
   },
   {
    "duration": 44,
    "start_time": "2024-05-30T18:46:48.645Z"
   },
   {
    "duration": 51,
    "start_time": "2024-05-30T18:47:35.406Z"
   },
   {
    "duration": 47,
    "start_time": "2024-05-30T18:49:25.810Z"
   },
   {
    "duration": 1005,
    "start_time": "2024-05-30T18:50:52.567Z"
   },
   {
    "duration": 290,
    "start_time": "2024-05-30T18:58:56.088Z"
   },
   {
    "duration": 8,
    "start_time": "2024-05-30T18:59:12.698Z"
   },
   {
    "duration": 9,
    "start_time": "2024-05-30T19:01:00.848Z"
   },
   {
    "duration": 6,
    "start_time": "2024-05-30T19:01:25.277Z"
   },
   {
    "duration": 7,
    "start_time": "2024-05-30T19:02:12.378Z"
   },
   {
    "duration": 7,
    "start_time": "2024-05-30T19:02:36.663Z"
   },
   {
    "duration": 7,
    "start_time": "2024-05-30T19:02:44.766Z"
   },
   {
    "duration": 7,
    "start_time": "2024-05-30T19:03:06.999Z"
   },
   {
    "duration": 9,
    "start_time": "2024-05-30T19:09:35.181Z"
   },
   {
    "duration": 9,
    "start_time": "2024-05-30T19:11:57.733Z"
   },
   {
    "duration": 53,
    "start_time": "2024-05-30T19:13:07.080Z"
   },
   {
    "duration": 135,
    "start_time": "2024-05-30T19:14:49.014Z"
   },
   {
    "duration": 7,
    "start_time": "2024-05-30T19:20:44.023Z"
   },
   {
    "duration": 437,
    "start_time": "2024-05-30T19:25:15.520Z"
   },
   {
    "duration": 8,
    "start_time": "2024-05-30T19:28:17.958Z"
   },
   {
    "duration": 214,
    "start_time": "2024-05-30T19:36:04.135Z"
   },
   {
    "duration": 61,
    "start_time": "2024-05-30T19:36:14.491Z"
   },
   {
    "duration": 7,
    "start_time": "2024-05-30T20:04:16.785Z"
   },
   {
    "duration": 9,
    "start_time": "2024-05-30T20:04:32.480Z"
   },
   {
    "duration": 17,
    "start_time": "2024-05-30T20:05:07.162Z"
   },
   {
    "duration": 8,
    "start_time": "2024-05-30T20:05:10.631Z"
   },
   {
    "duration": 98,
    "start_time": "2024-05-30T20:41:36.367Z"
   },
   {
    "duration": 84,
    "start_time": "2024-05-30T20:42:13.349Z"
   },
   {
    "duration": 21,
    "start_time": "2024-05-30T20:42:18.643Z"
   },
   {
    "duration": 24,
    "start_time": "2024-05-30T20:43:11.944Z"
   },
   {
    "duration": 32,
    "start_time": "2024-05-30T20:43:48.544Z"
   },
   {
    "duration": 299,
    "start_time": "2024-05-30T21:05:48.152Z"
   },
   {
    "duration": 138,
    "start_time": "2024-05-30T21:06:13.534Z"
   },
   {
    "duration": 80,
    "start_time": "2024-05-30T21:06:23.402Z"
   },
   {
    "duration": 37,
    "start_time": "2024-05-30T21:06:36.971Z"
   },
   {
    "duration": 21,
    "start_time": "2024-05-30T21:15:25.866Z"
   },
   {
    "duration": 19,
    "start_time": "2024-05-30T21:16:09.546Z"
   },
   {
    "duration": 1418,
    "start_time": "2024-05-30T21:20:54.940Z"
   },
   {
    "duration": 34,
    "start_time": "2024-05-30T21:20:56.361Z"
   },
   {
    "duration": 38,
    "start_time": "2024-05-30T21:20:56.398Z"
   },
   {
    "duration": 5,
    "start_time": "2024-05-30T21:20:56.441Z"
   },
   {
    "duration": 7,
    "start_time": "2024-05-30T21:20:56.448Z"
   },
   {
    "duration": 5,
    "start_time": "2024-05-30T21:20:56.458Z"
   },
   {
    "duration": 13,
    "start_time": "2024-05-30T21:20:56.467Z"
   },
   {
    "duration": 47,
    "start_time": "2024-05-30T21:20:56.486Z"
   },
   {
    "duration": 96,
    "start_time": "2024-05-30T21:20:56.537Z"
   },
   {
    "duration": 5,
    "start_time": "2024-05-30T21:20:56.638Z"
   },
   {
    "duration": 17,
    "start_time": "2024-05-30T21:20:56.647Z"
   },
   {
    "duration": 14,
    "start_time": "2024-05-30T21:20:56.667Z"
   },
   {
    "duration": 55,
    "start_time": "2024-05-30T21:20:56.684Z"
   },
   {
    "duration": 26,
    "start_time": "2024-05-30T21:20:56.742Z"
   },
   {
    "duration": 15,
    "start_time": "2024-05-30T21:20:56.771Z"
   },
   {
    "duration": 56,
    "start_time": "2024-05-30T21:20:56.790Z"
   },
   {
    "duration": 42,
    "start_time": "2024-05-30T21:20:56.848Z"
   },
   {
    "duration": 42,
    "start_time": "2024-05-30T21:20:56.893Z"
   },
   {
    "duration": 9,
    "start_time": "2024-05-30T21:20:56.938Z"
   },
   {
    "duration": 191,
    "start_time": "2024-05-30T21:20:56.950Z"
   },
   {
    "duration": 7,
    "start_time": "2024-05-30T21:20:57.143Z"
   },
   {
    "duration": 89,
    "start_time": "2024-05-30T21:20:57.152Z"
   },
   {
    "duration": 568,
    "start_time": "2024-05-30T21:20:57.247Z"
   },
   {
    "duration": 0,
    "start_time": "2024-05-30T21:20:57.818Z"
   },
   {
    "duration": 0,
    "start_time": "2024-05-30T21:20:57.820Z"
   },
   {
    "duration": 0,
    "start_time": "2024-05-30T21:20:57.822Z"
   },
   {
    "duration": 20,
    "start_time": "2024-05-30T21:22:40.542Z"
   },
   {
    "duration": 31,
    "start_time": "2024-05-30T21:24:39.109Z"
   },
   {
    "duration": 40,
    "start_time": "2024-05-30T21:24:54.104Z"
   },
   {
    "duration": 39,
    "start_time": "2024-05-30T21:26:18.504Z"
   },
   {
    "duration": 14,
    "start_time": "2024-05-30T21:26:25.495Z"
   },
   {
    "duration": 12,
    "start_time": "2024-05-30T21:26:29.375Z"
   },
   {
    "duration": 75,
    "start_time": "2024-05-30T21:26:33.768Z"
   },
   {
    "duration": 7,
    "start_time": "2024-05-30T21:27:06.304Z"
   },
   {
    "duration": 22,
    "start_time": "2024-05-30T21:27:13.761Z"
   },
   {
    "duration": 25,
    "start_time": "2024-05-30T21:27:18.495Z"
   },
   {
    "duration": 14,
    "start_time": "2024-05-30T21:28:08.083Z"
   },
   {
    "duration": 1410,
    "start_time": "2024-05-30T21:32:48.877Z"
   },
   {
    "duration": 40,
    "start_time": "2024-05-30T21:32:50.291Z"
   },
   {
    "duration": 19,
    "start_time": "2024-05-30T21:32:50.334Z"
   },
   {
    "duration": 5,
    "start_time": "2024-05-30T21:32:50.357Z"
   },
   {
    "duration": 7,
    "start_time": "2024-05-30T21:32:50.365Z"
   },
   {
    "duration": 5,
    "start_time": "2024-05-30T21:32:50.375Z"
   },
   {
    "duration": 58,
    "start_time": "2024-05-30T21:32:50.383Z"
   },
   {
    "duration": 5,
    "start_time": "2024-05-30T21:32:50.444Z"
   },
   {
    "duration": 100,
    "start_time": "2024-05-30T21:32:50.452Z"
   },
   {
    "duration": 4,
    "start_time": "2024-05-30T21:32:50.558Z"
   },
   {
    "duration": 16,
    "start_time": "2024-05-30T21:32:50.565Z"
   },
   {
    "duration": 48,
    "start_time": "2024-05-30T21:32:50.583Z"
   },
   {
    "duration": 17,
    "start_time": "2024-05-30T21:32:50.635Z"
   },
   {
    "duration": 31,
    "start_time": "2024-05-30T21:32:50.654Z"
   },
   {
    "duration": 50,
    "start_time": "2024-05-30T21:32:50.689Z"
   },
   {
    "duration": 33,
    "start_time": "2024-05-30T21:32:50.742Z"
   },
   {
    "duration": 67,
    "start_time": "2024-05-30T21:32:50.777Z"
   },
   {
    "duration": 15,
    "start_time": "2024-05-30T21:32:50.847Z"
   },
   {
    "duration": 9,
    "start_time": "2024-05-30T21:32:50.864Z"
   },
   {
    "duration": 73,
    "start_time": "2024-05-30T21:32:50.876Z"
   },
   {
    "duration": 83,
    "start_time": "2024-05-30T21:32:50.952Z"
   },
   {
    "duration": 9,
    "start_time": "2024-05-30T21:32:51.038Z"
   },
   {
    "duration": 90,
    "start_time": "2024-05-30T21:32:51.050Z"
   },
   {
    "duration": 4873,
    "start_time": "2024-05-30T21:32:51.143Z"
   },
   {
    "duration": 33,
    "start_time": "2024-05-30T21:32:56.020Z"
   },
   {
    "duration": 12173,
    "start_time": "2024-05-30T21:32:56.059Z"
   },
   {
    "duration": 7,
    "start_time": "2024-05-30T21:43:13.664Z"
   },
   {
    "duration": 33,
    "start_time": "2024-05-30T22:28:50.659Z"
   },
   {
    "duration": 28,
    "start_time": "2024-05-30T22:29:18.131Z"
   },
   {
    "duration": 103,
    "start_time": "2024-05-30T22:29:26.739Z"
   },
   {
    "duration": 38,
    "start_time": "2024-05-30T22:29:33.026Z"
   },
   {
    "duration": 6,
    "start_time": "2024-05-30T22:42:44.098Z"
   },
   {
    "duration": 10,
    "start_time": "2024-05-30T22:48:15.164Z"
   },
   {
    "duration": 20,
    "start_time": "2024-05-30T22:48:31.345Z"
   },
   {
    "duration": 26,
    "start_time": "2024-05-30T22:49:14.489Z"
   },
   {
    "duration": 26,
    "start_time": "2024-05-30T22:49:34.036Z"
   },
   {
    "duration": 29,
    "start_time": "2024-05-30T22:53:11.020Z"
   },
   {
    "duration": 19,
    "start_time": "2024-05-30T22:53:46.131Z"
   },
   {
    "duration": 43,
    "start_time": "2024-05-30T23:00:50.740Z"
   },
   {
    "duration": 98,
    "start_time": "2024-05-30T23:03:31.464Z"
   },
   {
    "duration": 47,
    "start_time": "2024-05-30T23:05:13.936Z"
   },
   {
    "duration": 49,
    "start_time": "2024-05-30T23:05:34.704Z"
   },
   {
    "duration": 45,
    "start_time": "2024-05-30T23:05:41.395Z"
   },
   {
    "duration": 429,
    "start_time": "2024-05-30T23:12:46.229Z"
   },
   {
    "duration": 65,
    "start_time": "2024-05-30T23:13:08.191Z"
   },
   {
    "duration": 6602,
    "start_time": "2024-05-30T23:20:55.085Z"
   },
   {
    "duration": 5543,
    "start_time": "2024-05-30T23:22:32.135Z"
   },
   {
    "duration": 6828,
    "start_time": "2024-05-30T23:22:47.461Z"
   },
   {
    "duration": 6666,
    "start_time": "2024-05-30T23:24:03.784Z"
   },
   {
    "duration": 42,
    "start_time": "2024-05-30T23:30:43.757Z"
   },
   {
    "duration": 43,
    "start_time": "2024-05-30T23:34:35.256Z"
   },
   {
    "duration": 6646,
    "start_time": "2024-05-30T23:35:32.179Z"
   },
   {
    "duration": 16102,
    "start_time": "2024-05-30T23:43:17.132Z"
   },
   {
    "duration": 5,
    "start_time": "2024-05-30T23:47:50.787Z"
   },
   {
    "duration": 156,
    "start_time": "2024-05-31T00:20:45.980Z"
   },
   {
    "duration": 162,
    "start_time": "2024-05-31T00:21:13.683Z"
   },
   {
    "duration": 11,
    "start_time": "2024-05-31T00:45:35.618Z"
   },
   {
    "duration": 12,
    "start_time": "2024-05-31T00:46:28.034Z"
   },
   {
    "duration": 56,
    "start_time": "2024-05-31T00:46:55.609Z"
   },
   {
    "duration": 14518,
    "start_time": "2024-05-31T00:47:23.357Z"
   },
   {
    "duration": 13,
    "start_time": "2024-05-31T00:49:08.603Z"
   },
   {
    "duration": 6163,
    "start_time": "2024-05-31T00:50:22.559Z"
   },
   {
    "duration": 5856,
    "start_time": "2024-05-31T00:51:28.437Z"
   },
   {
    "duration": 5891,
    "start_time": "2024-05-31T00:52:41.845Z"
   },
   {
    "duration": 14402,
    "start_time": "2024-05-31T00:54:00.941Z"
   },
   {
    "duration": 6644,
    "start_time": "2024-05-31T00:55:44.322Z"
   },
   {
    "duration": 14331,
    "start_time": "2024-05-31T00:58:56.223Z"
   },
   {
    "duration": 8,
    "start_time": "2024-05-31T01:05:18.505Z"
   },
   {
    "duration": 30,
    "start_time": "2024-05-31T01:05:39.639Z"
   },
   {
    "duration": 79,
    "start_time": "2024-05-31T01:06:01.102Z"
   },
   {
    "duration": 64,
    "start_time": "2024-05-31T01:08:16.333Z"
   },
   {
    "duration": 85,
    "start_time": "2024-05-31T01:08:28.341Z"
   },
   {
    "duration": 144,
    "start_time": "2024-05-31T01:09:22.679Z"
   },
   {
    "duration": 106,
    "start_time": "2024-05-31T01:10:03.125Z"
   },
   {
    "duration": 18307,
    "start_time": "2024-05-31T01:10:51.416Z"
   },
   {
    "duration": 5846,
    "start_time": "2024-05-31T01:13:00.272Z"
   },
   {
    "duration": 18333,
    "start_time": "2024-05-31T01:13:44.820Z"
   },
   {
    "duration": 18390,
    "start_time": "2024-05-31T01:15:09.543Z"
   },
   {
    "duration": 18370,
    "start_time": "2024-05-31T01:20:39.333Z"
   },
   {
    "duration": 27762,
    "start_time": "2024-05-31T01:26:03.192Z"
   },
   {
    "duration": 202,
    "start_time": "2024-05-31T01:28:58.530Z"
   },
   {
    "duration": 191,
    "start_time": "2024-05-31T01:29:10.853Z"
   },
   {
    "duration": 281,
    "start_time": "2024-05-31T01:29:23.282Z"
   },
   {
    "duration": 195,
    "start_time": "2024-05-31T01:29:47.354Z"
   },
   {
    "duration": 27702,
    "start_time": "2024-05-31T01:41:26.431Z"
   },
   {
    "duration": 5150,
    "start_time": "2024-05-31T12:25:37.384Z"
   },
   {
    "duration": 48,
    "start_time": "2024-05-31T12:25:42.537Z"
   },
   {
    "duration": 17,
    "start_time": "2024-05-31T12:25:42.589Z"
   },
   {
    "duration": 6,
    "start_time": "2024-05-31T12:25:42.615Z"
   },
   {
    "duration": 6,
    "start_time": "2024-05-31T12:25:42.624Z"
   },
   {
    "duration": 6,
    "start_time": "2024-05-31T12:25:42.633Z"
   },
   {
    "duration": 11,
    "start_time": "2024-05-31T12:25:42.642Z"
   },
   {
    "duration": 5,
    "start_time": "2024-05-31T12:25:42.657Z"
   },
   {
    "duration": 18,
    "start_time": "2024-05-31T12:25:42.711Z"
   },
   {
    "duration": 4,
    "start_time": "2024-05-31T12:25:42.735Z"
   },
   {
    "duration": 16,
    "start_time": "2024-05-31T12:25:42.742Z"
   },
   {
    "duration": 55,
    "start_time": "2024-05-31T12:25:42.761Z"
   },
   {
    "duration": 13,
    "start_time": "2024-05-31T12:25:42.822Z"
   },
   {
    "duration": 26,
    "start_time": "2024-05-31T12:25:42.838Z"
   },
   {
    "duration": 51,
    "start_time": "2024-05-31T12:25:42.867Z"
   },
   {
    "duration": 33,
    "start_time": "2024-05-31T12:25:42.921Z"
   },
   {
    "duration": 72,
    "start_time": "2024-05-31T12:25:42.957Z"
   },
   {
    "duration": 23,
    "start_time": "2024-05-31T12:25:43.033Z"
   },
   {
    "duration": 9,
    "start_time": "2024-05-31T12:25:43.059Z"
   },
   {
    "duration": 146,
    "start_time": "2024-05-31T12:25:43.071Z"
   },
   {
    "duration": 19,
    "start_time": "2024-05-31T12:25:43.220Z"
   },
   {
    "duration": 476,
    "start_time": "2024-05-31T12:25:43.317Z"
   },
   {
    "duration": 0,
    "start_time": "2024-05-31T12:25:43.796Z"
   },
   {
    "duration": 0,
    "start_time": "2024-05-31T12:25:43.799Z"
   },
   {
    "duration": 0,
    "start_time": "2024-05-31T12:25:43.812Z"
   },
   {
    "duration": 0,
    "start_time": "2024-05-31T12:25:43.814Z"
   },
   {
    "duration": 0,
    "start_time": "2024-05-31T12:25:43.816Z"
   },
   {
    "duration": 10,
    "start_time": "2024-05-31T12:27:00.405Z"
   },
   {
    "duration": 9,
    "start_time": "2024-05-31T12:27:04.742Z"
   },
   {
    "duration": 7,
    "start_time": "2024-05-31T12:27:11.163Z"
   },
   {
    "duration": 254,
    "start_time": "2024-05-31T12:27:13.975Z"
   },
   {
    "duration": 18511,
    "start_time": "2024-05-31T12:27:17.472Z"
   },
   {
    "duration": 28130,
    "start_time": "2024-05-31T12:27:39.595Z"
   },
   {
    "duration": 52,
    "start_time": "2024-05-31T12:33:10.587Z"
   },
   {
    "duration": 52,
    "start_time": "2024-05-31T12:33:38.990Z"
   },
   {
    "duration": 58,
    "start_time": "2024-05-31T12:34:43.457Z"
   },
   {
    "duration": 7,
    "start_time": "2024-05-31T12:36:03.492Z"
   },
   {
    "duration": 14,
    "start_time": "2024-05-31T12:37:12.551Z"
   },
   {
    "duration": 8,
    "start_time": "2024-05-31T12:37:32.879Z"
   },
   {
    "duration": 8,
    "start_time": "2024-05-31T12:39:40.433Z"
   },
   {
    "duration": 10,
    "start_time": "2024-05-31T12:44:44.925Z"
   },
   {
    "duration": 7,
    "start_time": "2024-05-31T12:44:49.937Z"
   },
   {
    "duration": 10,
    "start_time": "2024-05-31T12:48:28.611Z"
   },
   {
    "duration": 8,
    "start_time": "2024-05-31T12:49:46.855Z"
   },
   {
    "duration": 90,
    "start_time": "2024-05-31T13:03:33.829Z"
   },
   {
    "duration": 89,
    "start_time": "2024-05-31T13:04:04.930Z"
   },
   {
    "duration": 36,
    "start_time": "2024-05-31T13:04:19.140Z"
   },
   {
    "duration": 12,
    "start_time": "2024-05-31T13:08:59.298Z"
   },
   {
    "duration": 8,
    "start_time": "2024-05-31T13:09:48.581Z"
   },
   {
    "duration": 8,
    "start_time": "2024-05-31T13:09:53.700Z"
   },
   {
    "duration": 9,
    "start_time": "2024-05-31T13:10:01.702Z"
   },
   {
    "duration": 9,
    "start_time": "2024-05-31T13:10:28.901Z"
   },
   {
    "duration": 9,
    "start_time": "2024-05-31T13:11:39.422Z"
   },
   {
    "duration": 25,
    "start_time": "2024-05-31T13:20:01.400Z"
   },
   {
    "duration": 11,
    "start_time": "2024-05-31T13:20:18.630Z"
   },
   {
    "duration": 15,
    "start_time": "2024-05-31T13:20:30.797Z"
   },
   {
    "duration": 10,
    "start_time": "2024-05-31T13:26:25.857Z"
   },
   {
    "duration": 6,
    "start_time": "2024-05-31T13:39:12.193Z"
   },
   {
    "duration": 8,
    "start_time": "2024-05-31T13:39:57.913Z"
   },
   {
    "duration": 8,
    "start_time": "2024-05-31T13:52:28.990Z"
   },
   {
    "duration": 54,
    "start_time": "2024-05-31T14:07:44.310Z"
   },
   {
    "duration": 13,
    "start_time": "2024-05-31T14:07:56.764Z"
   },
   {
    "duration": 7,
    "start_time": "2024-05-31T14:10:48.906Z"
   },
   {
    "duration": 11,
    "start_time": "2024-05-31T14:19:21.260Z"
   },
   {
    "duration": 47,
    "start_time": "2024-05-31T14:19:54.207Z"
   },
   {
    "duration": 1007,
    "start_time": "2024-05-31T14:55:05.909Z"
   },
   {
    "duration": 7,
    "start_time": "2024-05-31T14:56:37.373Z"
   },
   {
    "duration": 53,
    "start_time": "2024-05-31T15:11:41.232Z"
   },
   {
    "duration": 8,
    "start_time": "2024-05-31T15:13:15.458Z"
   },
   {
    "duration": 10,
    "start_time": "2024-05-31T15:14:59.982Z"
   },
   {
    "duration": 56,
    "start_time": "2024-05-31T15:16:26.057Z"
   },
   {
    "duration": 26,
    "start_time": "2024-05-31T15:18:05.476Z"
   },
   {
    "duration": 1436,
    "start_time": "2024-05-31T17:33:58.477Z"
   },
   {
    "duration": 33,
    "start_time": "2024-05-31T17:33:59.917Z"
   },
   {
    "duration": 21,
    "start_time": "2024-05-31T17:33:59.953Z"
   },
   {
    "duration": 6,
    "start_time": "2024-05-31T17:33:59.978Z"
   },
   {
    "duration": 6,
    "start_time": "2024-05-31T17:34:00.014Z"
   },
   {
    "duration": 5,
    "start_time": "2024-05-31T17:34:00.024Z"
   },
   {
    "duration": 13,
    "start_time": "2024-05-31T17:34:00.034Z"
   },
   {
    "duration": 5,
    "start_time": "2024-05-31T17:34:00.050Z"
   },
   {
    "duration": 126,
    "start_time": "2024-05-31T17:34:00.058Z"
   },
   {
    "duration": 5,
    "start_time": "2024-05-31T17:34:00.190Z"
   },
   {
    "duration": 15,
    "start_time": "2024-05-31T17:34:00.213Z"
   },
   {
    "duration": 15,
    "start_time": "2024-05-31T17:34:00.231Z"
   },
   {
    "duration": 23,
    "start_time": "2024-05-31T17:34:00.253Z"
   },
   {
    "duration": 54,
    "start_time": "2024-05-31T17:34:00.279Z"
   },
   {
    "duration": 15,
    "start_time": "2024-05-31T17:34:00.336Z"
   },
   {
    "duration": 73,
    "start_time": "2024-05-31T17:34:00.354Z"
   },
   {
    "duration": 40,
    "start_time": "2024-05-31T17:34:00.431Z"
   },
   {
    "duration": 42,
    "start_time": "2024-05-31T17:34:00.475Z"
   },
   {
    "duration": 98,
    "start_time": "2024-05-31T17:34:00.520Z"
   },
   {
    "duration": 11,
    "start_time": "2024-05-31T17:34:00.620Z"
   },
   {
    "duration": 82,
    "start_time": "2024-05-31T17:34:00.634Z"
   },
   {
    "duration": 8,
    "start_time": "2024-05-31T17:34:00.718Z"
   },
   {
    "duration": 563,
    "start_time": "2024-05-31T17:34:00.729Z"
   },
   {
    "duration": 0,
    "start_time": "2024-05-31T17:34:01.296Z"
   },
   {
    "duration": 0,
    "start_time": "2024-05-31T17:34:01.298Z"
   },
   {
    "duration": 0,
    "start_time": "2024-05-31T17:34:01.300Z"
   },
   {
    "duration": 0,
    "start_time": "2024-05-31T17:34:01.313Z"
   },
   {
    "duration": 0,
    "start_time": "2024-05-31T17:34:01.315Z"
   },
   {
    "duration": 0,
    "start_time": "2024-05-31T17:34:01.317Z"
   },
   {
    "duration": 0,
    "start_time": "2024-05-31T17:34:01.319Z"
   },
   {
    "duration": 0,
    "start_time": "2024-05-31T17:34:01.322Z"
   },
   {
    "duration": 0,
    "start_time": "2024-05-31T17:34:01.323Z"
   },
   {
    "duration": 0,
    "start_time": "2024-05-31T17:34:01.325Z"
   },
   {
    "duration": 0,
    "start_time": "2024-05-31T17:34:01.327Z"
   },
   {
    "duration": 0,
    "start_time": "2024-05-31T17:34:01.329Z"
   },
   {
    "duration": 0,
    "start_time": "2024-05-31T17:34:01.332Z"
   },
   {
    "duration": 0,
    "start_time": "2024-05-31T17:34:01.334Z"
   },
   {
    "duration": 0,
    "start_time": "2024-05-31T17:34:01.337Z"
   },
   {
    "duration": 0,
    "start_time": "2024-05-31T17:34:01.338Z"
   },
   {
    "duration": 0,
    "start_time": "2024-05-31T17:34:01.341Z"
   },
   {
    "duration": 11,
    "start_time": "2024-05-31T17:34:56.338Z"
   },
   {
    "duration": 30,
    "start_time": "2024-05-31T17:35:58.694Z"
   },
   {
    "duration": 27,
    "start_time": "2024-05-31T17:36:32.545Z"
   },
   {
    "duration": 1548,
    "start_time": "2024-05-31T17:36:39.175Z"
   },
   {
    "duration": 36,
    "start_time": "2024-05-31T17:36:40.726Z"
   },
   {
    "duration": 24,
    "start_time": "2024-05-31T17:36:40.764Z"
   },
   {
    "duration": 8,
    "start_time": "2024-05-31T17:36:40.814Z"
   },
   {
    "duration": 7,
    "start_time": "2024-05-31T17:36:40.826Z"
   },
   {
    "duration": 6,
    "start_time": "2024-05-31T17:36:40.836Z"
   },
   {
    "duration": 13,
    "start_time": "2024-05-31T17:36:40.845Z"
   },
   {
    "duration": 51,
    "start_time": "2024-05-31T17:36:40.861Z"
   },
   {
    "duration": 101,
    "start_time": "2024-05-31T17:36:40.916Z"
   },
   {
    "duration": 6,
    "start_time": "2024-05-31T17:36:41.025Z"
   },
   {
    "duration": 14,
    "start_time": "2024-05-31T17:36:41.037Z"
   },
   {
    "duration": 14,
    "start_time": "2024-05-31T17:36:41.054Z"
   },
   {
    "duration": 14,
    "start_time": "2024-05-31T17:36:41.113Z"
   },
   {
    "duration": 28,
    "start_time": "2024-05-31T17:36:41.130Z"
   },
   {
    "duration": 54,
    "start_time": "2024-05-31T17:36:41.161Z"
   },
   {
    "duration": 35,
    "start_time": "2024-05-31T17:36:41.218Z"
   },
   {
    "duration": 68,
    "start_time": "2024-05-31T17:36:41.257Z"
   },
   {
    "duration": 29,
    "start_time": "2024-05-31T17:36:41.331Z"
   },
   {
    "duration": 178,
    "start_time": "2024-05-31T17:36:41.370Z"
   },
   {
    "duration": 14,
    "start_time": "2024-05-31T17:36:41.553Z"
   },
   {
    "duration": 59,
    "start_time": "2024-05-31T17:36:41.572Z"
   },
   {
    "duration": 12,
    "start_time": "2024-05-31T17:36:41.635Z"
   },
   {
    "duration": 15,
    "start_time": "2024-05-31T17:36:41.713Z"
   },
   {
    "duration": 82,
    "start_time": "2024-05-31T17:36:41.733Z"
   },
   {
    "duration": 127,
    "start_time": "2024-05-31T17:36:41.819Z"
   },
   {
    "duration": 11,
    "start_time": "2024-05-31T17:36:41.951Z"
   },
   {
    "duration": 10,
    "start_time": "2024-05-31T17:36:41.965Z"
   },
   {
    "duration": 34,
    "start_time": "2024-05-31T17:36:41.982Z"
   },
   {
    "duration": 487,
    "start_time": "2024-05-31T17:36:42.019Z"
   },
   {
    "duration": 0,
    "start_time": "2024-05-31T17:36:42.508Z"
   },
   {
    "duration": 0,
    "start_time": "2024-05-31T17:36:42.513Z"
   },
   {
    "duration": 0,
    "start_time": "2024-05-31T17:36:42.514Z"
   },
   {
    "duration": 0,
    "start_time": "2024-05-31T17:36:42.516Z"
   },
   {
    "duration": 0,
    "start_time": "2024-05-31T17:36:42.519Z"
   },
   {
    "duration": 0,
    "start_time": "2024-05-31T17:36:42.521Z"
   },
   {
    "duration": 0,
    "start_time": "2024-05-31T17:36:42.522Z"
   },
   {
    "duration": 0,
    "start_time": "2024-05-31T17:36:42.525Z"
   },
   {
    "duration": 0,
    "start_time": "2024-05-31T17:36:42.526Z"
   },
   {
    "duration": 0,
    "start_time": "2024-05-31T17:36:42.528Z"
   },
   {
    "duration": 0,
    "start_time": "2024-05-31T17:36:42.532Z"
   },
   {
    "duration": 9,
    "start_time": "2024-05-31T17:37:26.932Z"
   },
   {
    "duration": 12,
    "start_time": "2024-05-31T17:37:46.124Z"
   },
   {
    "duration": 1046,
    "start_time": "2024-05-31T17:38:30.882Z"
   },
   {
    "duration": 6,
    "start_time": "2024-05-31T17:38:43.486Z"
   },
   {
    "duration": 53,
    "start_time": "2024-05-31T17:39:07.429Z"
   },
   {
    "duration": 8,
    "start_time": "2024-05-31T17:39:17.863Z"
   },
   {
    "duration": 8,
    "start_time": "2024-05-31T17:39:30.130Z"
   },
   {
    "duration": 68,
    "start_time": "2024-05-31T17:39:54.571Z"
   },
   {
    "duration": 1427,
    "start_time": "2024-05-31T17:41:55.100Z"
   },
   {
    "duration": 36,
    "start_time": "2024-05-31T17:41:56.542Z"
   },
   {
    "duration": 22,
    "start_time": "2024-05-31T17:41:56.581Z"
   },
   {
    "duration": 16,
    "start_time": "2024-05-31T17:41:56.608Z"
   },
   {
    "duration": 6,
    "start_time": "2024-05-31T17:41:56.629Z"
   },
   {
    "duration": 8,
    "start_time": "2024-05-31T17:41:56.639Z"
   },
   {
    "duration": 15,
    "start_time": "2024-05-31T17:41:56.651Z"
   },
   {
    "duration": 7,
    "start_time": "2024-05-31T17:41:56.673Z"
   },
   {
    "duration": 102,
    "start_time": "2024-05-31T17:41:56.683Z"
   },
   {
    "duration": 26,
    "start_time": "2024-05-31T17:41:56.792Z"
   },
   {
    "duration": 24,
    "start_time": "2024-05-31T17:41:56.819Z"
   },
   {
    "duration": 15,
    "start_time": "2024-05-31T17:41:56.845Z"
   },
   {
    "duration": 14,
    "start_time": "2024-05-31T17:41:56.863Z"
   },
   {
    "duration": 57,
    "start_time": "2024-05-31T17:41:56.880Z"
   },
   {
    "duration": 17,
    "start_time": "2024-05-31T17:41:56.939Z"
   },
   {
    "duration": 58,
    "start_time": "2024-05-31T17:41:56.960Z"
   },
   {
    "duration": 47,
    "start_time": "2024-05-31T17:41:57.020Z"
   },
   {
    "duration": 15,
    "start_time": "2024-05-31T17:41:57.070Z"
   },
   {
    "duration": 145,
    "start_time": "2024-05-31T17:41:57.088Z"
   },
   {
    "duration": 17,
    "start_time": "2024-05-31T17:41:57.239Z"
   },
   {
    "duration": 9,
    "start_time": "2024-05-31T17:41:57.318Z"
   },
   {
    "duration": 7,
    "start_time": "2024-05-31T17:41:57.329Z"
   },
   {
    "duration": 12,
    "start_time": "2024-05-31T17:41:57.339Z"
   },
   {
    "duration": 65,
    "start_time": "2024-05-31T17:41:57.354Z"
   },
   {
    "duration": 131,
    "start_time": "2024-05-31T17:41:57.422Z"
   },
   {
    "duration": 10,
    "start_time": "2024-05-31T17:41:57.557Z"
   },
   {
    "duration": 48,
    "start_time": "2024-05-31T17:41:57.570Z"
   },
   {
    "duration": 9,
    "start_time": "2024-05-31T17:41:57.625Z"
   },
   {
    "duration": 8,
    "start_time": "2024-05-31T17:41:57.642Z"
   },
   {
    "duration": 12,
    "start_time": "2024-05-31T17:41:57.653Z"
   },
   {
    "duration": 1059,
    "start_time": "2024-05-31T17:41:57.671Z"
   },
   {
    "duration": 10,
    "start_time": "2024-05-31T17:41:58.738Z"
   },
   {
    "duration": 75,
    "start_time": "2024-05-31T17:41:58.754Z"
   },
   {
    "duration": 10,
    "start_time": "2024-05-31T17:41:58.831Z"
   },
   {
    "duration": 22,
    "start_time": "2024-05-31T17:41:58.844Z"
   },
   {
    "duration": 169,
    "start_time": "2024-05-31T17:41:58.871Z"
   },
   {
    "duration": 9,
    "start_time": "2024-05-31T17:41:59.044Z"
   },
   {
    "duration": 262,
    "start_time": "2024-05-31T17:41:59.058Z"
   },
   {
    "duration": 18764,
    "start_time": "2024-05-31T17:41:59.323Z"
   },
   {
    "duration": 28406,
    "start_time": "2024-05-31T17:42:18.090Z"
   },
   {
    "duration": 15,
    "start_time": "2024-05-31T17:50:06.301Z"
   },
   {
    "duration": 17,
    "start_time": "2024-05-31T17:51:27.231Z"
   },
   {
    "duration": 46,
    "start_time": "2024-05-31T19:23:49.361Z"
   },
   {
    "duration": 49,
    "start_time": "2024-05-31T19:25:59.101Z"
   },
   {
    "duration": 48,
    "start_time": "2024-05-31T19:30:06.134Z"
   },
   {
    "duration": 48,
    "start_time": "2024-05-31T19:47:28.625Z"
   },
   {
    "duration": 462,
    "start_time": "2024-05-31T19:49:31.186Z"
   },
   {
    "duration": 48,
    "start_time": "2024-05-31T19:51:44.061Z"
   },
   {
    "duration": 13,
    "start_time": "2024-05-31T21:01:44.926Z"
   },
   {
    "duration": 66,
    "start_time": "2024-05-31T21:02:41.494Z"
   },
   {
    "duration": 66,
    "start_time": "2024-05-31T21:04:18.338Z"
   },
   {
    "duration": 64,
    "start_time": "2024-05-31T21:06:53.961Z"
   },
   {
    "duration": 63,
    "start_time": "2024-05-31T21:13:53.436Z"
   },
   {
    "duration": 62,
    "start_time": "2024-05-31T21:14:01.082Z"
   },
   {
    "duration": 67,
    "start_time": "2024-05-31T21:14:07.780Z"
   },
   {
    "duration": 73,
    "start_time": "2024-05-31T21:14:14.314Z"
   },
   {
    "duration": 63,
    "start_time": "2024-05-31T21:14:20.465Z"
   },
   {
    "duration": 102,
    "start_time": "2024-05-31T21:14:31.511Z"
   },
   {
    "duration": 67,
    "start_time": "2024-05-31T21:14:37.841Z"
   },
   {
    "duration": 64,
    "start_time": "2024-05-31T21:14:42.889Z"
   },
   {
    "duration": 77,
    "start_time": "2024-05-31T21:14:50.338Z"
   },
   {
    "duration": 69,
    "start_time": "2024-05-31T21:14:54.915Z"
   },
   {
    "duration": 62,
    "start_time": "2024-05-31T21:15:00.003Z"
   },
   {
    "duration": 63,
    "start_time": "2024-05-31T21:15:04.089Z"
   },
   {
    "duration": 61,
    "start_time": "2024-05-31T21:15:08.166Z"
   },
   {
    "duration": 61,
    "start_time": "2024-05-31T21:15:12.651Z"
   },
   {
    "duration": 61,
    "start_time": "2024-05-31T21:15:17.570Z"
   },
   {
    "duration": 62,
    "start_time": "2024-05-31T21:15:21.403Z"
   },
   {
    "duration": 67,
    "start_time": "2024-05-31T21:15:26.217Z"
   },
   {
    "duration": 69,
    "start_time": "2024-05-31T21:15:37.784Z"
   },
   {
    "duration": 60,
    "start_time": "2024-05-31T21:15:42.383Z"
   },
   {
    "duration": 63,
    "start_time": "2024-05-31T21:15:45.849Z"
   },
   {
    "duration": 62,
    "start_time": "2024-05-31T21:15:51.816Z"
   },
   {
    "duration": 62,
    "start_time": "2024-05-31T21:16:02.621Z"
   },
   {
    "duration": 64,
    "start_time": "2024-05-31T21:16:07.049Z"
   },
   {
    "duration": 60,
    "start_time": "2024-05-31T21:16:12.330Z"
   },
   {
    "duration": 62,
    "start_time": "2024-05-31T21:16:16.410Z"
   },
   {
    "duration": 87,
    "start_time": "2024-05-31T21:16:21.989Z"
   },
   {
    "duration": 71,
    "start_time": "2024-05-31T21:16:25.474Z"
   },
   {
    "duration": 66,
    "start_time": "2024-05-31T21:16:29.058Z"
   },
   {
    "duration": 63,
    "start_time": "2024-05-31T21:16:34.089Z"
   },
   {
    "duration": 61,
    "start_time": "2024-05-31T21:16:37.929Z"
   },
   {
    "duration": 66,
    "start_time": "2024-05-31T21:16:43.716Z"
   },
   {
    "duration": 72,
    "start_time": "2024-05-31T21:17:06.986Z"
   },
   {
    "duration": 19,
    "start_time": "2024-05-31T21:18:10.865Z"
   },
   {
    "duration": 11,
    "start_time": "2024-05-31T21:25:13.025Z"
   },
   {
    "duration": 72,
    "start_time": "2024-05-31T21:42:08.625Z"
   },
   {
    "duration": 66,
    "start_time": "2024-05-31T21:42:14.724Z"
   },
   {
    "duration": 64,
    "start_time": "2024-05-31T21:42:26.156Z"
   },
   {
    "duration": 29353,
    "start_time": "2024-05-31T21:42:59.790Z"
   },
   {
    "duration": 28237,
    "start_time": "2024-05-31T21:43:47.949Z"
   },
   {
    "duration": 68,
    "start_time": "2024-05-31T21:45:42.539Z"
   },
   {
    "duration": 27,
    "start_time": "2024-05-31T21:53:05.028Z"
   },
   {
    "duration": 8,
    "start_time": "2024-05-31T21:54:13.987Z"
   },
   {
    "duration": 8,
    "start_time": "2024-05-31T21:54:35.170Z"
   },
   {
    "duration": 203,
    "start_time": "2024-05-31T21:58:49.503Z"
   },
   {
    "duration": 183,
    "start_time": "2024-05-31T21:59:20.696Z"
   },
   {
    "duration": 180,
    "start_time": "2024-05-31T22:03:35.624Z"
   },
   {
    "duration": 195,
    "start_time": "2024-05-31T22:04:30.178Z"
   },
   {
    "duration": 231,
    "start_time": "2024-05-31T22:04:40.984Z"
   },
   {
    "duration": 263,
    "start_time": "2024-05-31T22:05:02.956Z"
   },
   {
    "duration": 63,
    "start_time": "2024-05-31T22:10:13.273Z"
   },
   {
    "duration": 198,
    "start_time": "2024-05-31T22:15:40.841Z"
   },
   {
    "duration": 214,
    "start_time": "2024-05-31T22:15:54.211Z"
   },
   {
    "duration": 25,
    "start_time": "2024-05-31T22:17:04.595Z"
   },
   {
    "duration": 7,
    "start_time": "2024-05-31T22:17:37.746Z"
   },
   {
    "duration": 8,
    "start_time": "2024-05-31T22:17:44.258Z"
   },
   {
    "duration": 8,
    "start_time": "2024-05-31T22:20:29.453Z"
   },
   {
    "duration": 8,
    "start_time": "2024-05-31T22:53:19.069Z"
   },
   {
    "duration": 345,
    "start_time": "2024-05-31T22:53:23.906Z"
   },
   {
    "duration": 9,
    "start_time": "2024-05-31T22:54:25.525Z"
   },
   {
    "duration": 13,
    "start_time": "2024-05-31T22:54:40.746Z"
   },
   {
    "duration": 8,
    "start_time": "2024-05-31T22:55:01.408Z"
   },
   {
    "duration": 10,
    "start_time": "2024-05-31T22:55:10.312Z"
   },
   {
    "duration": 11,
    "start_time": "2024-05-31T22:56:34.686Z"
   },
   {
    "duration": 11,
    "start_time": "2024-05-31T22:56:50.132Z"
   },
   {
    "duration": 11,
    "start_time": "2024-05-31T23:05:01.039Z"
   },
   {
    "duration": 10,
    "start_time": "2024-05-31T23:06:19.129Z"
   },
   {
    "duration": 13,
    "start_time": "2024-05-31T23:07:28.005Z"
   },
   {
    "duration": 15,
    "start_time": "2024-05-31T23:45:37.479Z"
   },
   {
    "duration": 63,
    "start_time": "2024-05-31T23:45:38.207Z"
   },
   {
    "duration": 12,
    "start_time": "2024-05-31T23:45:46.229Z"
   },
   {
    "duration": 1524,
    "start_time": "2024-06-01T03:46:59.704Z"
   },
   {
    "duration": 32,
    "start_time": "2024-06-01T03:47:01.231Z"
   },
   {
    "duration": 19,
    "start_time": "2024-06-01T03:47:01.266Z"
   },
   {
    "duration": 26,
    "start_time": "2024-06-01T03:47:01.289Z"
   },
   {
    "duration": 5,
    "start_time": "2024-06-01T03:47:01.319Z"
   },
   {
    "duration": 5,
    "start_time": "2024-06-01T03:47:01.327Z"
   },
   {
    "duration": 11,
    "start_time": "2024-06-01T03:47:01.336Z"
   },
   {
    "duration": 6,
    "start_time": "2024-06-01T03:47:01.350Z"
   },
   {
    "duration": 128,
    "start_time": "2024-06-01T03:47:01.358Z"
   },
   {
    "duration": 22,
    "start_time": "2024-06-01T03:47:01.492Z"
   },
   {
    "duration": 16,
    "start_time": "2024-06-01T03:47:01.519Z"
   },
   {
    "duration": 13,
    "start_time": "2024-06-01T03:47:01.538Z"
   },
   {
    "duration": 14,
    "start_time": "2024-06-01T03:47:01.555Z"
   },
   {
    "duration": 61,
    "start_time": "2024-06-01T03:47:01.573Z"
   },
   {
    "duration": 16,
    "start_time": "2024-06-01T03:47:01.636Z"
   },
   {
    "duration": 65,
    "start_time": "2024-06-01T03:47:01.656Z"
   },
   {
    "duration": 41,
    "start_time": "2024-06-01T03:47:01.723Z"
   },
   {
    "duration": 47,
    "start_time": "2024-06-01T03:47:01.768Z"
   },
   {
    "duration": 96,
    "start_time": "2024-06-01T03:47:01.818Z"
   },
   {
    "duration": 11,
    "start_time": "2024-06-01T03:47:01.917Z"
   },
   {
    "duration": 89,
    "start_time": "2024-06-01T03:47:01.931Z"
   },
   {
    "duration": 11,
    "start_time": "2024-06-01T03:47:02.023Z"
   },
   {
    "duration": 77,
    "start_time": "2024-06-01T03:47:02.038Z"
   },
   {
    "duration": 17,
    "start_time": "2024-06-01T03:47:02.117Z"
   },
   {
    "duration": 14,
    "start_time": "2024-06-01T03:47:02.214Z"
   },
   {
    "duration": 192,
    "start_time": "2024-06-01T03:47:02.230Z"
   },
   {
    "duration": 8,
    "start_time": "2024-06-01T03:47:02.425Z"
   },
   {
    "duration": 10,
    "start_time": "2024-06-01T03:47:02.442Z"
   },
   {
    "duration": 10,
    "start_time": "2024-06-01T03:47:02.456Z"
   },
   {
    "duration": 49,
    "start_time": "2024-06-01T03:47:02.469Z"
   },
   {
    "duration": 11,
    "start_time": "2024-06-01T03:47:02.521Z"
   },
   {
    "duration": 11,
    "start_time": "2024-06-01T03:47:02.535Z"
   },
   {
    "duration": 1073,
    "start_time": "2024-06-01T03:47:02.548Z"
   },
   {
    "duration": 6,
    "start_time": "2024-06-01T03:47:03.625Z"
   },
   {
    "duration": 79,
    "start_time": "2024-06-01T03:47:03.635Z"
   },
   {
    "duration": 8,
    "start_time": "2024-06-01T03:47:03.718Z"
   },
   {
    "duration": 9,
    "start_time": "2024-06-01T03:47:03.730Z"
   },
   {
    "duration": 11,
    "start_time": "2024-06-01T03:47:03.742Z"
   },
   {
    "duration": 98,
    "start_time": "2024-06-01T03:47:03.757Z"
   },
   {
    "duration": 5,
    "start_time": "2024-06-01T03:47:03.861Z"
   },
   {
    "duration": 243,
    "start_time": "2024-06-01T03:47:03.870Z"
   },
   {
    "duration": 18568,
    "start_time": "2024-06-01T03:47:04.118Z"
   },
   {
    "duration": 28202,
    "start_time": "2024-06-01T03:47:22.689Z"
   },
   {
    "duration": 27,
    "start_time": "2024-06-01T03:47:50.895Z"
   },
   {
    "duration": 71,
    "start_time": "2024-06-01T03:47:50.926Z"
   },
   {
    "duration": 11,
    "start_time": "2024-06-01T03:47:51.013Z"
   },
   {
    "duration": 9,
    "start_time": "2024-06-01T03:47:51.027Z"
   },
   {
    "duration": 12,
    "start_time": "2024-06-01T03:47:51.039Z"
   },
   {
    "duration": 229,
    "start_time": "2024-06-01T03:47:51.054Z"
   },
   {
    "duration": 195,
    "start_time": "2024-06-01T03:47:51.288Z"
   },
   {
    "duration": 7,
    "start_time": "2024-06-01T03:47:51.486Z"
   },
   {
    "duration": 10,
    "start_time": "2024-06-01T04:02:29.268Z"
   },
   {
    "duration": 14,
    "start_time": "2024-06-01T04:03:06.317Z"
   },
   {
    "duration": 1442,
    "start_time": "2024-06-01T04:03:29.169Z"
   },
   {
    "duration": 34,
    "start_time": "2024-06-01T04:03:30.614Z"
   },
   {
    "duration": 19,
    "start_time": "2024-06-01T04:03:30.651Z"
   },
   {
    "duration": 5,
    "start_time": "2024-06-01T04:03:30.675Z"
   },
   {
    "duration": 6,
    "start_time": "2024-06-01T04:03:30.712Z"
   },
   {
    "duration": 6,
    "start_time": "2024-06-01T04:03:30.722Z"
   },
   {
    "duration": 12,
    "start_time": "2024-06-01T04:03:30.732Z"
   },
   {
    "duration": 126,
    "start_time": "2024-06-01T04:03:30.747Z"
   },
   {
    "duration": 15,
    "start_time": "2024-06-01T04:03:30.876Z"
   },
   {
    "duration": 5,
    "start_time": "2024-06-01T04:03:30.914Z"
   },
   {
    "duration": 18,
    "start_time": "2024-06-01T04:03:30.924Z"
   },
   {
    "duration": 15,
    "start_time": "2024-06-01T04:03:30.945Z"
   },
   {
    "duration": 53,
    "start_time": "2024-06-01T04:03:30.963Z"
   },
   {
    "duration": 26,
    "start_time": "2024-06-01T04:03:31.020Z"
   },
   {
    "duration": 15,
    "start_time": "2024-06-01T04:03:31.049Z"
   },
   {
    "duration": 65,
    "start_time": "2024-06-01T04:03:31.067Z"
   },
   {
    "duration": 41,
    "start_time": "2024-06-01T04:03:31.136Z"
   },
   {
    "duration": 40,
    "start_time": "2024-06-01T04:03:31.180Z"
   },
   {
    "duration": 89,
    "start_time": "2024-06-01T04:03:31.223Z"
   },
   {
    "duration": 8,
    "start_time": "2024-06-01T04:03:31.315Z"
   },
   {
    "duration": 11,
    "start_time": "2024-06-01T04:03:31.326Z"
   },
   {
    "duration": 7,
    "start_time": "2024-06-01T04:03:31.413Z"
   },
   {
    "duration": 8,
    "start_time": "2024-06-01T04:03:31.423Z"
   },
   {
    "duration": 93,
    "start_time": "2024-06-01T04:03:31.434Z"
   },
   {
    "duration": 15,
    "start_time": "2024-06-01T04:03:31.529Z"
   },
   {
    "duration": 184,
    "start_time": "2024-06-01T04:03:31.546Z"
   },
   {
    "duration": 8,
    "start_time": "2024-06-01T04:03:31.733Z"
   },
   {
    "duration": 10,
    "start_time": "2024-06-01T04:03:31.752Z"
   },
   {
    "duration": 47,
    "start_time": "2024-06-01T04:03:31.765Z"
   },
   {
    "duration": 9,
    "start_time": "2024-06-01T04:03:31.815Z"
   },
   {
    "duration": 12,
    "start_time": "2024-06-01T04:03:31.826Z"
   },
   {
    "duration": 10,
    "start_time": "2024-06-01T04:03:31.841Z"
   },
   {
    "duration": 1039,
    "start_time": "2024-06-01T04:03:31.854Z"
   },
   {
    "duration": 6,
    "start_time": "2024-06-01T04:03:32.896Z"
   },
   {
    "duration": 54,
    "start_time": "2024-06-01T04:03:32.914Z"
   },
   {
    "duration": 9,
    "start_time": "2024-06-01T04:03:32.971Z"
   },
   {
    "duration": 12,
    "start_time": "2024-06-01T04:03:33.012Z"
   },
   {
    "duration": 20,
    "start_time": "2024-06-01T04:03:33.029Z"
   },
   {
    "duration": 82,
    "start_time": "2024-06-01T04:03:33.053Z"
   },
   {
    "duration": 6,
    "start_time": "2024-06-01T04:03:33.138Z"
   },
   {
    "duration": 204,
    "start_time": "2024-06-01T04:03:33.148Z"
   },
   {
    "duration": 18440,
    "start_time": "2024-06-01T04:03:33.355Z"
   },
   {
    "duration": 1450,
    "start_time": "2024-06-01T04:04:07.990Z"
   },
   {
    "duration": 32,
    "start_time": "2024-06-01T04:04:09.444Z"
   },
   {
    "duration": 34,
    "start_time": "2024-06-01T04:04:09.480Z"
   },
   {
    "duration": 5,
    "start_time": "2024-06-01T04:04:09.519Z"
   },
   {
    "duration": 6,
    "start_time": "2024-06-01T04:04:09.527Z"
   },
   {
    "duration": 5,
    "start_time": "2024-06-01T04:04:09.536Z"
   },
   {
    "duration": 13,
    "start_time": "2024-06-01T04:04:09.544Z"
   },
   {
    "duration": 125,
    "start_time": "2024-06-01T04:04:09.560Z"
   },
   {
    "duration": 32,
    "start_time": "2024-06-01T04:04:09.688Z"
   },
   {
    "duration": 3,
    "start_time": "2024-06-01T04:04:09.726Z"
   },
   {
    "duration": 15,
    "start_time": "2024-06-01T04:04:09.733Z"
   },
   {
    "duration": 16,
    "start_time": "2024-06-01T04:04:09.752Z"
   },
   {
    "duration": 58,
    "start_time": "2024-06-01T04:04:09.771Z"
   },
   {
    "duration": 32,
    "start_time": "2024-06-01T04:04:09.833Z"
   },
   {
    "duration": 51,
    "start_time": "2024-06-01T04:04:09.869Z"
   },
   {
    "duration": 39,
    "start_time": "2024-06-01T04:04:09.927Z"
   },
   {
    "duration": 781,
    "start_time": "2024-06-01T04:04:09.971Z"
   },
   {
    "duration": 0,
    "start_time": "2024-06-01T04:04:10.758Z"
   },
   {
    "duration": 0,
    "start_time": "2024-06-01T04:04:10.760Z"
   },
   {
    "duration": 0,
    "start_time": "2024-06-01T04:04:10.762Z"
   },
   {
    "duration": 0,
    "start_time": "2024-06-01T04:04:10.763Z"
   },
   {
    "duration": 0,
    "start_time": "2024-06-01T04:04:10.765Z"
   },
   {
    "duration": 0,
    "start_time": "2024-06-01T04:04:10.767Z"
   },
   {
    "duration": 0,
    "start_time": "2024-06-01T04:04:10.769Z"
   },
   {
    "duration": 0,
    "start_time": "2024-06-01T04:04:10.773Z"
   },
   {
    "duration": 0,
    "start_time": "2024-06-01T04:04:10.775Z"
   },
   {
    "duration": 0,
    "start_time": "2024-06-01T04:04:10.814Z"
   },
   {
    "duration": 0,
    "start_time": "2024-06-01T04:04:10.816Z"
   },
   {
    "duration": 0,
    "start_time": "2024-06-01T04:04:10.819Z"
   },
   {
    "duration": 0,
    "start_time": "2024-06-01T04:04:10.821Z"
   },
   {
    "duration": 0,
    "start_time": "2024-06-01T04:04:10.823Z"
   },
   {
    "duration": 0,
    "start_time": "2024-06-01T04:04:10.825Z"
   },
   {
    "duration": 0,
    "start_time": "2024-06-01T04:04:10.828Z"
   },
   {
    "duration": 0,
    "start_time": "2024-06-01T04:04:10.830Z"
   },
   {
    "duration": 0,
    "start_time": "2024-06-01T04:04:10.832Z"
   },
   {
    "duration": 0,
    "start_time": "2024-06-01T04:04:10.833Z"
   },
   {
    "duration": 0,
    "start_time": "2024-06-01T04:04:10.841Z"
   },
   {
    "duration": 0,
    "start_time": "2024-06-01T04:04:10.843Z"
   },
   {
    "duration": 0,
    "start_time": "2024-06-01T04:04:10.845Z"
   },
   {
    "duration": 0,
    "start_time": "2024-06-01T04:04:10.848Z"
   },
   {
    "duration": 0,
    "start_time": "2024-06-01T04:04:10.850Z"
   },
   {
    "duration": 0,
    "start_time": "2024-06-01T04:04:10.852Z"
   },
   {
    "duration": 0,
    "start_time": "2024-06-01T04:04:10.913Z"
   },
   {
    "duration": 0,
    "start_time": "2024-06-01T04:04:10.916Z"
   },
   {
    "duration": 0,
    "start_time": "2024-06-01T04:04:10.918Z"
   },
   {
    "duration": 0,
    "start_time": "2024-06-01T04:04:10.920Z"
   },
   {
    "duration": 0,
    "start_time": "2024-06-01T04:04:10.922Z"
   },
   {
    "duration": 0,
    "start_time": "2024-06-01T04:04:10.924Z"
   },
   {
    "duration": 0,
    "start_time": "2024-06-01T04:04:10.925Z"
   },
   {
    "duration": 0,
    "start_time": "2024-06-01T04:04:10.926Z"
   },
   {
    "duration": 0,
    "start_time": "2024-06-01T04:04:10.928Z"
   },
   {
    "duration": 12,
    "start_time": "2024-06-01T04:04:59.025Z"
   },
   {
    "duration": 25,
    "start_time": "2024-06-01T04:06:18.878Z"
   },
   {
    "duration": 10,
    "start_time": "2024-06-01T04:06:49.728Z"
   },
   {
    "duration": 10,
    "start_time": "2024-06-01T04:07:43.037Z"
   },
   {
    "duration": 8,
    "start_time": "2024-06-01T04:08:24.861Z"
   },
   {
    "duration": 24,
    "start_time": "2024-06-01T04:08:43.285Z"
   },
   {
    "duration": 10,
    "start_time": "2024-06-01T04:09:00.037Z"
   },
   {
    "duration": 11,
    "start_time": "2024-06-01T04:09:20.963Z"
   },
   {
    "duration": 14,
    "start_time": "2024-06-01T04:09:44.739Z"
   },
   {
    "duration": 24,
    "start_time": "2024-06-01T04:09:53.541Z"
   },
   {
    "duration": 7,
    "start_time": "2024-06-01T04:10:44.580Z"
   },
   {
    "duration": 902,
    "start_time": "2024-06-01T04:13:31.090Z"
   },
   {
    "duration": 5,
    "start_time": "2024-06-01T04:13:47.776Z"
   },
   {
    "duration": 9,
    "start_time": "2024-06-01T04:14:01.737Z"
   },
   {
    "duration": 7,
    "start_time": "2024-06-01T04:15:12.901Z"
   },
   {
    "duration": 6,
    "start_time": "2024-06-01T04:15:33.220Z"
   },
   {
    "duration": 7,
    "start_time": "2024-06-01T04:16:57.421Z"
   },
   {
    "duration": 8,
    "start_time": "2024-06-01T04:17:55.360Z"
   },
   {
    "duration": 7,
    "start_time": "2024-06-01T04:18:09.139Z"
   },
   {
    "duration": 10,
    "start_time": "2024-06-01T04:22:37.039Z"
   },
   {
    "duration": 4,
    "start_time": "2024-06-01T04:24:52.310Z"
   },
   {
    "duration": 4,
    "start_time": "2024-06-01T04:25:55.269Z"
   },
   {
    "duration": 4,
    "start_time": "2024-06-01T04:28:00.888Z"
   },
   {
    "duration": 13,
    "start_time": "2024-06-01T04:28:07.005Z"
   },
   {
    "duration": 9,
    "start_time": "2024-06-01T04:31:28.332Z"
   },
   {
    "duration": 5,
    "start_time": "2024-06-01T04:31:51.308Z"
   },
   {
    "duration": 9,
    "start_time": "2024-06-01T04:32:04.633Z"
   },
   {
    "duration": 10,
    "start_time": "2024-06-01T04:33:01.436Z"
   },
   {
    "duration": 5,
    "start_time": "2024-06-01T04:33:52.234Z"
   },
   {
    "duration": 5,
    "start_time": "2024-06-01T04:35:03.233Z"
   },
   {
    "duration": 14,
    "start_time": "2024-06-01T04:35:24.411Z"
   },
   {
    "duration": 1524,
    "start_time": "2024-06-01T04:36:39.999Z"
   },
   {
    "duration": 33,
    "start_time": "2024-06-01T04:36:41.528Z"
   },
   {
    "duration": 20,
    "start_time": "2024-06-01T04:36:41.564Z"
   },
   {
    "duration": 5,
    "start_time": "2024-06-01T04:36:41.612Z"
   },
   {
    "duration": 7,
    "start_time": "2024-06-01T04:36:41.621Z"
   },
   {
    "duration": 5,
    "start_time": "2024-06-01T04:36:41.631Z"
   },
   {
    "duration": 13,
    "start_time": "2024-06-01T04:36:41.639Z"
   },
   {
    "duration": 132,
    "start_time": "2024-06-01T04:36:41.654Z"
   },
   {
    "duration": 27,
    "start_time": "2024-06-01T04:36:41.789Z"
   },
   {
    "duration": 7,
    "start_time": "2024-06-01T04:36:41.823Z"
   },
   {
    "duration": 5,
    "start_time": "2024-06-01T04:36:41.833Z"
   },
   {
    "duration": 5,
    "start_time": "2024-06-01T04:36:41.842Z"
   },
   {
    "duration": 15,
    "start_time": "2024-06-01T04:36:41.851Z"
   },
   {
    "duration": 14,
    "start_time": "2024-06-01T04:36:41.914Z"
   },
   {
    "duration": 14,
    "start_time": "2024-06-01T04:36:41.932Z"
   },
   {
    "duration": 64,
    "start_time": "2024-06-01T04:36:41.949Z"
   },
   {
    "duration": 17,
    "start_time": "2024-06-01T04:36:42.016Z"
   },
   {
    "duration": 34,
    "start_time": "2024-06-01T04:36:42.036Z"
   },
   {
    "duration": 75,
    "start_time": "2024-06-01T04:36:42.073Z"
   },
   {
    "duration": 15,
    "start_time": "2024-06-01T04:36:42.152Z"
   },
   {
    "duration": 151,
    "start_time": "2024-06-01T04:36:42.169Z"
   },
   {
    "duration": 10,
    "start_time": "2024-06-01T04:36:42.323Z"
   },
   {
    "duration": 14,
    "start_time": "2024-06-01T04:36:42.411Z"
   },
   {
    "duration": 7,
    "start_time": "2024-06-01T04:36:42.428Z"
   },
   {
    "duration": 16,
    "start_time": "2024-06-01T04:36:42.513Z"
   },
   {
    "duration": 88,
    "start_time": "2024-06-01T04:36:42.532Z"
   },
   {
    "duration": 14,
    "start_time": "2024-06-01T04:36:42.624Z"
   },
   {
    "duration": 186,
    "start_time": "2024-06-01T04:36:42.647Z"
   },
   {
    "duration": 7,
    "start_time": "2024-06-01T04:36:42.836Z"
   },
   {
    "duration": 10,
    "start_time": "2024-06-01T04:36:42.847Z"
   },
   {
    "duration": 8,
    "start_time": "2024-06-01T04:36:42.859Z"
   },
   {
    "duration": 46,
    "start_time": "2024-06-01T04:36:42.871Z"
   },
   {
    "duration": 12,
    "start_time": "2024-06-01T04:36:42.919Z"
   },
   {
    "duration": 11,
    "start_time": "2024-06-01T04:36:42.935Z"
   },
   {
    "duration": 1088,
    "start_time": "2024-06-01T04:36:42.949Z"
   },
   {
    "duration": 7,
    "start_time": "2024-06-01T04:36:44.040Z"
   },
   {
    "duration": 81,
    "start_time": "2024-06-01T04:36:44.051Z"
   },
   {
    "duration": 8,
    "start_time": "2024-06-01T04:36:44.135Z"
   },
   {
    "duration": 9,
    "start_time": "2024-06-01T04:36:44.146Z"
   },
   {
    "duration": 11,
    "start_time": "2024-06-01T04:36:44.161Z"
   },
   {
    "duration": 57,
    "start_time": "2024-06-01T04:36:44.213Z"
   },
   {
    "duration": 6,
    "start_time": "2024-06-01T04:36:44.273Z"
   },
   {
    "duration": 259,
    "start_time": "2024-06-01T04:36:44.283Z"
   },
   {
    "duration": 18428,
    "start_time": "2024-06-01T04:36:44.545Z"
   },
   {
    "duration": 28869,
    "start_time": "2024-06-01T04:37:02.976Z"
   },
   {
    "duration": 13,
    "start_time": "2024-06-01T04:37:31.849Z"
   },
   {
    "duration": 87,
    "start_time": "2024-06-01T04:37:31.865Z"
   },
   {
    "duration": 12,
    "start_time": "2024-06-01T04:37:31.956Z"
   },
   {
    "duration": 9,
    "start_time": "2024-06-01T04:37:31.971Z"
   },
   {
    "duration": 12,
    "start_time": "2024-06-01T04:37:32.012Z"
   },
   {
    "duration": 214,
    "start_time": "2024-06-01T04:37:32.026Z"
   },
   {
    "duration": 217,
    "start_time": "2024-06-01T04:37:32.243Z"
   },
   {
    "duration": 8,
    "start_time": "2024-06-01T04:37:32.463Z"
   },
   {
    "duration": 1494,
    "start_time": "2024-06-01T04:45:26.908Z"
   },
   {
    "duration": 36,
    "start_time": "2024-06-01T04:45:28.405Z"
   },
   {
    "duration": 20,
    "start_time": "2024-06-01T04:45:28.445Z"
   },
   {
    "duration": 5,
    "start_time": "2024-06-01T04:45:28.470Z"
   },
   {
    "duration": 35,
    "start_time": "2024-06-01T04:45:28.479Z"
   },
   {
    "duration": 6,
    "start_time": "2024-06-01T04:45:28.518Z"
   },
   {
    "duration": 12,
    "start_time": "2024-06-01T04:45:28.527Z"
   },
   {
    "duration": 118,
    "start_time": "2024-06-01T04:45:28.542Z"
   },
   {
    "duration": 9,
    "start_time": "2024-06-01T04:45:28.663Z"
   },
   {
    "duration": 7,
    "start_time": "2024-06-01T04:45:28.679Z"
   },
   {
    "duration": 5,
    "start_time": "2024-06-01T04:45:28.713Z"
   },
   {
    "duration": 5,
    "start_time": "2024-06-01T04:45:28.722Z"
   },
   {
    "duration": 14,
    "start_time": "2024-06-01T04:45:28.730Z"
   },
   {
    "duration": 15,
    "start_time": "2024-06-01T04:45:28.747Z"
   },
   {
    "duration": 13,
    "start_time": "2024-06-01T04:45:28.813Z"
   },
   {
    "duration": 27,
    "start_time": "2024-06-01T04:45:28.829Z"
   },
   {
    "duration": 16,
    "start_time": "2024-06-01T04:45:28.859Z"
   },
   {
    "duration": 65,
    "start_time": "2024-06-01T04:45:28.877Z"
   },
   {
    "duration": 66,
    "start_time": "2024-06-01T04:45:28.946Z"
   },
   {
    "duration": 14,
    "start_time": "2024-06-01T04:45:29.015Z"
   },
   {
    "duration": 86,
    "start_time": "2024-06-01T04:45:29.032Z"
   },
   {
    "duration": 15,
    "start_time": "2024-06-01T04:45:29.122Z"
   },
   {
    "duration": 80,
    "start_time": "2024-06-01T04:45:29.141Z"
   },
   {
    "duration": 7,
    "start_time": "2024-06-01T04:45:29.224Z"
   },
   {
    "duration": 85,
    "start_time": "2024-06-01T04:45:29.234Z"
   },
   {
    "duration": 10,
    "start_time": "2024-06-01T04:45:29.322Z"
   },
   {
    "duration": 83,
    "start_time": "2024-06-01T04:45:29.334Z"
   },
   {
    "duration": 191,
    "start_time": "2024-06-01T04:45:29.427Z"
   },
   {
    "duration": 7,
    "start_time": "2024-06-01T04:45:29.622Z"
   },
   {
    "duration": 10,
    "start_time": "2024-06-01T04:45:29.632Z"
   },
   {
    "duration": 9,
    "start_time": "2024-06-01T04:45:29.645Z"
   },
   {
    "duration": 9,
    "start_time": "2024-06-01T04:45:29.657Z"
   },
   {
    "duration": 51,
    "start_time": "2024-06-01T04:45:29.669Z"
   },
   {
    "duration": 11,
    "start_time": "2024-06-01T04:45:29.723Z"
   },
   {
    "duration": 1053,
    "start_time": "2024-06-01T04:45:29.737Z"
   },
   {
    "duration": 21,
    "start_time": "2024-06-01T04:45:30.792Z"
   },
   {
    "duration": 53,
    "start_time": "2024-06-01T04:45:30.816Z"
   },
   {
    "duration": 8,
    "start_time": "2024-06-01T04:45:30.872Z"
   },
   {
    "duration": 34,
    "start_time": "2024-06-01T04:45:30.884Z"
   },
   {
    "duration": 13,
    "start_time": "2024-06-01T04:45:30.921Z"
   },
   {
    "duration": 85,
    "start_time": "2024-06-01T04:45:30.937Z"
   },
   {
    "duration": 6,
    "start_time": "2024-06-01T04:45:31.025Z"
   },
   {
    "duration": 209,
    "start_time": "2024-06-01T04:45:31.034Z"
   },
   {
    "duration": 18617,
    "start_time": "2024-06-01T04:45:31.249Z"
   },
   {
    "duration": 28038,
    "start_time": "2024-06-01T04:45:49.869Z"
   },
   {
    "duration": 15,
    "start_time": "2024-06-01T04:46:17.913Z"
   },
   {
    "duration": 82,
    "start_time": "2024-06-01T04:46:17.930Z"
   },
   {
    "duration": 10,
    "start_time": "2024-06-01T04:46:18.016Z"
   },
   {
    "duration": 9,
    "start_time": "2024-06-01T04:46:18.030Z"
   },
   {
    "duration": 11,
    "start_time": "2024-06-01T04:46:18.042Z"
   },
   {
    "duration": 227,
    "start_time": "2024-06-01T04:46:18.056Z"
   },
   {
    "duration": 200,
    "start_time": "2024-06-01T04:46:18.286Z"
   },
   {
    "duration": 8,
    "start_time": "2024-06-01T04:46:18.489Z"
   },
   {
    "duration": 333,
    "start_time": "2024-06-01T18:29:41.038Z"
   },
   {
    "duration": 5344,
    "start_time": "2024-06-01T18:29:48.380Z"
   },
   {
    "duration": 47,
    "start_time": "2024-06-01T18:29:53.727Z"
   },
   {
    "duration": 21,
    "start_time": "2024-06-01T18:29:53.777Z"
   },
   {
    "duration": 6,
    "start_time": "2024-06-01T18:29:53.823Z"
   },
   {
    "duration": 6,
    "start_time": "2024-06-01T18:29:53.832Z"
   },
   {
    "duration": 7,
    "start_time": "2024-06-01T18:29:53.841Z"
   },
   {
    "duration": 13,
    "start_time": "2024-06-01T18:29:53.851Z"
   },
   {
    "duration": 65,
    "start_time": "2024-06-01T18:29:53.867Z"
   },
   {
    "duration": 9,
    "start_time": "2024-06-01T18:29:53.935Z"
   },
   {
    "duration": 7,
    "start_time": "2024-06-01T18:29:53.952Z"
   },
   {
    "duration": 6,
    "start_time": "2024-06-01T18:29:53.963Z"
   },
   {
    "duration": 51,
    "start_time": "2024-06-01T18:29:53.973Z"
   },
   {
    "duration": 14,
    "start_time": "2024-06-01T18:29:54.028Z"
   },
   {
    "duration": 13,
    "start_time": "2024-06-01T18:29:54.045Z"
   },
   {
    "duration": 15,
    "start_time": "2024-06-01T18:29:54.061Z"
   },
   {
    "duration": 29,
    "start_time": "2024-06-01T18:29:54.122Z"
   },
   {
    "duration": 17,
    "start_time": "2024-06-01T18:29:54.155Z"
   },
   {
    "duration": 70,
    "start_time": "2024-06-01T18:29:54.176Z"
   },
   {
    "duration": 40,
    "start_time": "2024-06-01T18:29:54.249Z"
   },
   {
    "duration": 39,
    "start_time": "2024-06-01T18:29:54.292Z"
   },
   {
    "duration": 96,
    "start_time": "2024-06-01T18:29:54.334Z"
   },
   {
    "duration": 10,
    "start_time": "2024-06-01T18:29:54.433Z"
   },
   {
    "duration": 84,
    "start_time": "2024-06-01T18:29:54.445Z"
   },
   {
    "duration": 7,
    "start_time": "2024-06-01T18:29:54.532Z"
   },
   {
    "duration": 85,
    "start_time": "2024-06-01T18:29:54.542Z"
   },
   {
    "duration": 11,
    "start_time": "2024-06-01T18:29:54.630Z"
   },
   {
    "duration": 84,
    "start_time": "2024-06-01T18:29:54.644Z"
   },
   {
    "duration": 196,
    "start_time": "2024-06-01T18:29:54.737Z"
   },
   {
    "duration": 8,
    "start_time": "2024-06-01T18:29:54.936Z"
   },
   {
    "duration": 11,
    "start_time": "2024-06-01T18:29:54.947Z"
   },
   {
    "duration": 7,
    "start_time": "2024-06-01T18:29:54.961Z"
   },
   {
    "duration": 53,
    "start_time": "2024-06-01T18:29:54.971Z"
   },
   {
    "duration": 12,
    "start_time": "2024-06-01T18:29:55.027Z"
   },
   {
    "duration": 10,
    "start_time": "2024-06-01T18:29:55.042Z"
   },
   {
    "duration": 1059,
    "start_time": "2024-06-01T18:29:55.056Z"
   },
   {
    "duration": 7,
    "start_time": "2024-06-01T18:29:56.122Z"
   },
   {
    "duration": 57,
    "start_time": "2024-06-01T18:29:56.134Z"
   },
   {
    "duration": 33,
    "start_time": "2024-06-01T18:29:56.194Z"
   },
   {
    "duration": 12,
    "start_time": "2024-06-01T18:29:56.230Z"
   },
   {
    "duration": 15,
    "start_time": "2024-06-01T18:29:56.245Z"
   },
   {
    "duration": 98,
    "start_time": "2024-06-01T18:29:56.264Z"
   },
   {
    "duration": 5,
    "start_time": "2024-06-01T18:29:56.365Z"
   },
   {
    "duration": 262,
    "start_time": "2024-06-01T18:29:56.374Z"
   },
   {
    "duration": 19212,
    "start_time": "2024-06-01T18:29:56.639Z"
   },
   {
    "duration": 29857,
    "start_time": "2024-06-01T18:30:15.855Z"
   },
   {
    "duration": 19,
    "start_time": "2024-06-01T18:30:45.715Z"
   },
   {
    "duration": 63,
    "start_time": "2024-06-01T18:30:45.736Z"
   },
   {
    "duration": 10,
    "start_time": "2024-06-01T18:30:45.824Z"
   },
   {
    "duration": 9,
    "start_time": "2024-06-01T18:30:45.837Z"
   },
   {
    "duration": 14,
    "start_time": "2024-06-01T18:30:45.850Z"
   },
   {
    "duration": 231,
    "start_time": "2024-06-01T18:30:45.867Z"
   },
   {
    "duration": 205,
    "start_time": "2024-06-01T18:30:46.102Z"
   },
   {
    "duration": 17,
    "start_time": "2024-06-01T18:30:46.311Z"
   },
   {
    "duration": 34,
    "start_time": "2024-06-01T18:43:03.957Z"
   },
   {
    "duration": 5,
    "start_time": "2024-06-01T18:44:09.357Z"
   },
   {
    "duration": 34,
    "start_time": "2024-06-01T18:44:16.019Z"
   },
   {
    "duration": 45,
    "start_time": "2024-06-01T18:47:39.671Z"
   },
   {
    "duration": 1631,
    "start_time": "2024-06-01T18:48:01.555Z"
   },
   {
    "duration": 39,
    "start_time": "2024-06-01T18:48:03.189Z"
   },
   {
    "duration": 25,
    "start_time": "2024-06-01T18:48:03.232Z"
   },
   {
    "duration": 5,
    "start_time": "2024-06-01T18:48:03.264Z"
   },
   {
    "duration": 8,
    "start_time": "2024-06-01T18:48:03.273Z"
   },
   {
    "duration": 43,
    "start_time": "2024-06-01T18:48:03.285Z"
   },
   {
    "duration": 16,
    "start_time": "2024-06-01T18:48:03.334Z"
   },
   {
    "duration": 130,
    "start_time": "2024-06-01T18:48:03.353Z"
   },
   {
    "duration": 15,
    "start_time": "2024-06-01T18:48:03.487Z"
   },
   {
    "duration": 20,
    "start_time": "2024-06-01T18:48:03.508Z"
   },
   {
    "duration": 5,
    "start_time": "2024-06-01T18:48:03.531Z"
   },
   {
    "duration": 5,
    "start_time": "2024-06-01T18:48:03.540Z"
   },
   {
    "duration": 16,
    "start_time": "2024-06-01T18:48:03.548Z"
   },
   {
    "duration": 68,
    "start_time": "2024-06-01T18:48:03.568Z"
   },
   {
    "duration": 18,
    "start_time": "2024-06-01T18:48:03.641Z"
   },
   {
    "duration": 69,
    "start_time": "2024-06-01T18:48:03.662Z"
   },
   {
    "duration": 25,
    "start_time": "2024-06-01T18:48:03.735Z"
   },
   {
    "duration": 14,
    "start_time": "2024-06-01T18:48:03.764Z"
   },
   {
    "duration": 73,
    "start_time": "2024-06-01T18:48:03.781Z"
   },
   {
    "duration": 73,
    "start_time": "2024-06-01T18:48:03.859Z"
   },
   {
    "duration": 21,
    "start_time": "2024-06-01T18:48:03.936Z"
   },
   {
    "duration": 165,
    "start_time": "2024-06-01T18:48:03.964Z"
   },
   {
    "duration": 14,
    "start_time": "2024-06-01T18:48:04.132Z"
   },
   {
    "duration": 93,
    "start_time": "2024-06-01T18:48:04.149Z"
   },
   {
    "duration": 75,
    "start_time": "2024-06-01T18:48:04.251Z"
   },
   {
    "duration": 19,
    "start_time": "2024-06-01T18:48:04.334Z"
   },
   {
    "duration": 11,
    "start_time": "2024-06-01T18:48:04.425Z"
   },
   {
    "duration": 12,
    "start_time": "2024-06-01T18:48:04.448Z"
   },
   {
    "duration": 183,
    "start_time": "2024-06-01T18:48:04.464Z"
   },
   {
    "duration": 7,
    "start_time": "2024-06-01T18:48:04.651Z"
   },
   {
    "duration": 11,
    "start_time": "2024-06-01T18:48:04.662Z"
   },
   {
    "duration": 47,
    "start_time": "2024-06-01T18:48:04.676Z"
   },
   {
    "duration": 10,
    "start_time": "2024-06-01T18:48:04.728Z"
   },
   {
    "duration": 13,
    "start_time": "2024-06-01T18:48:04.742Z"
   },
   {
    "duration": 11,
    "start_time": "2024-06-01T18:48:04.758Z"
   },
   {
    "duration": 1097,
    "start_time": "2024-06-01T18:48:04.773Z"
   },
   {
    "duration": 7,
    "start_time": "2024-06-01T18:48:05.874Z"
   },
   {
    "duration": 87,
    "start_time": "2024-06-01T18:48:05.885Z"
   },
   {
    "duration": 7,
    "start_time": "2024-06-01T18:48:05.976Z"
   },
   {
    "duration": 10,
    "start_time": "2024-06-01T18:48:05.985Z"
   },
   {
    "duration": 18,
    "start_time": "2024-06-01T18:48:06.023Z"
   },
   {
    "duration": 107,
    "start_time": "2024-06-01T18:48:06.045Z"
   },
   {
    "duration": 7,
    "start_time": "2024-06-01T18:48:06.155Z"
   },
   {
    "duration": 297,
    "start_time": "2024-06-01T18:48:06.166Z"
   },
   {
    "duration": 20370,
    "start_time": "2024-06-01T18:48:06.466Z"
   },
   {
    "duration": 1550,
    "start_time": "2024-06-01T18:48:35.913Z"
   },
   {
    "duration": 33,
    "start_time": "2024-06-01T18:48:37.466Z"
   },
   {
    "duration": 37,
    "start_time": "2024-06-01T18:48:37.505Z"
   },
   {
    "duration": 7,
    "start_time": "2024-06-01T18:48:37.547Z"
   },
   {
    "duration": 6,
    "start_time": "2024-06-01T18:48:37.557Z"
   },
   {
    "duration": 6,
    "start_time": "2024-06-01T18:48:37.566Z"
   },
   {
    "duration": 55,
    "start_time": "2024-06-01T18:48:37.576Z"
   },
   {
    "duration": 103,
    "start_time": "2024-06-01T18:48:37.634Z"
   },
   {
    "duration": 15,
    "start_time": "2024-06-01T18:48:37.740Z"
   },
   {
    "duration": 9,
    "start_time": "2024-06-01T18:48:37.761Z"
   },
   {
    "duration": 7,
    "start_time": "2024-06-01T18:48:37.773Z"
   },
   {
    "duration": 6,
    "start_time": "2024-06-01T18:48:37.823Z"
   },
   {
    "duration": 21,
    "start_time": "2024-06-01T18:48:37.835Z"
   },
   {
    "duration": 16,
    "start_time": "2024-06-01T18:48:37.862Z"
   },
   {
    "duration": 47,
    "start_time": "2024-06-01T18:48:37.881Z"
   },
   {
    "duration": 31,
    "start_time": "2024-06-01T18:48:37.932Z"
   },
   {
    "duration": 58,
    "start_time": "2024-06-01T18:48:37.967Z"
   },
   {
    "duration": 4,
    "start_time": "2024-06-01T18:48:38.029Z"
   },
   {
    "duration": 48,
    "start_time": "2024-06-01T18:48:38.039Z"
   },
   {
    "duration": 72,
    "start_time": "2024-06-01T18:48:38.092Z"
   },
   {
    "duration": 19,
    "start_time": "2024-06-01T18:48:38.168Z"
   },
   {
    "duration": 205,
    "start_time": "2024-06-01T18:48:38.222Z"
   },
   {
    "duration": 15,
    "start_time": "2024-06-01T18:48:38.436Z"
   },
   {
    "duration": 14,
    "start_time": "2024-06-01T18:48:38.524Z"
   },
   {
    "duration": 8,
    "start_time": "2024-06-01T18:48:38.542Z"
   },
   {
    "duration": 69,
    "start_time": "2024-06-01T18:48:38.554Z"
   },
   {
    "duration": 19,
    "start_time": "2024-06-01T18:48:38.630Z"
   },
   {
    "duration": 14,
    "start_time": "2024-06-01T18:48:38.723Z"
   },
   {
    "duration": 115,
    "start_time": "2024-06-01T18:48:38.740Z"
   },
   {
    "duration": 68,
    "start_time": "2024-06-01T18:48:38.859Z"
   },
   {
    "duration": 14,
    "start_time": "2024-06-01T18:48:38.930Z"
   },
   {
    "duration": 8,
    "start_time": "2024-06-01T18:48:38.948Z"
   },
   {
    "duration": 10,
    "start_time": "2024-06-01T18:48:38.959Z"
   },
   {
    "duration": 62,
    "start_time": "2024-06-01T18:48:38.972Z"
   },
   {
    "duration": 12,
    "start_time": "2024-06-01T18:48:39.037Z"
   },
   {
    "duration": 1137,
    "start_time": "2024-06-01T18:48:39.052Z"
   },
   {
    "duration": 7,
    "start_time": "2024-06-01T18:48:40.193Z"
   },
   {
    "duration": 80,
    "start_time": "2024-06-01T18:48:40.204Z"
   },
   {
    "duration": 8,
    "start_time": "2024-06-01T18:48:40.289Z"
   },
   {
    "duration": 29,
    "start_time": "2024-06-01T18:48:40.300Z"
   },
   {
    "duration": 13,
    "start_time": "2024-06-01T18:48:40.331Z"
   },
   {
    "duration": 80,
    "start_time": "2024-06-01T18:48:40.351Z"
   },
   {
    "duration": 7,
    "start_time": "2024-06-01T18:48:40.435Z"
   },
   {
    "duration": 226,
    "start_time": "2024-06-01T18:48:40.446Z"
   },
   {
    "duration": 19900,
    "start_time": "2024-06-01T18:48:40.677Z"
   },
   {
    "duration": 31179,
    "start_time": "2024-06-01T18:49:00.580Z"
   },
   {
    "duration": 17,
    "start_time": "2024-06-01T18:49:31.764Z"
   },
   {
    "duration": 72,
    "start_time": "2024-06-01T18:49:31.790Z"
   },
   {
    "duration": 12,
    "start_time": "2024-06-01T18:49:31.868Z"
   },
   {
    "duration": 16,
    "start_time": "2024-06-01T18:49:31.884Z"
   },
   {
    "duration": 14,
    "start_time": "2024-06-01T18:49:31.925Z"
   },
   {
    "duration": 228,
    "start_time": "2024-06-01T18:49:31.942Z"
   },
   {
    "duration": 225,
    "start_time": "2024-06-01T18:49:32.174Z"
   },
   {
    "duration": 29,
    "start_time": "2024-06-01T18:49:32.403Z"
   },
   {
    "duration": 41,
    "start_time": "2024-06-01T18:57:35.112Z"
   },
   {
    "duration": 1850,
    "start_time": "2024-06-01T18:57:46.763Z"
   },
   {
    "duration": 50,
    "start_time": "2024-06-01T18:57:48.617Z"
   },
   {
    "duration": 26,
    "start_time": "2024-06-01T18:57:48.671Z"
   },
   {
    "duration": 22,
    "start_time": "2024-06-01T18:57:48.703Z"
   },
   {
    "duration": 7,
    "start_time": "2024-06-01T18:57:48.729Z"
   },
   {
    "duration": 6,
    "start_time": "2024-06-01T18:57:48.740Z"
   },
   {
    "duration": 14,
    "start_time": "2024-06-01T18:57:48.750Z"
   },
   {
    "duration": 131,
    "start_time": "2024-06-01T18:57:48.768Z"
   },
   {
    "duration": 20,
    "start_time": "2024-06-01T18:57:48.902Z"
   },
   {
    "duration": 8,
    "start_time": "2024-06-01T18:57:48.929Z"
   },
   {
    "duration": 6,
    "start_time": "2024-06-01T18:57:48.940Z"
   },
   {
    "duration": 5,
    "start_time": "2024-06-01T18:57:48.949Z"
   },
   {
    "duration": 17,
    "start_time": "2024-06-01T18:57:48.958Z"
   },
   {
    "duration": 58,
    "start_time": "2024-06-01T18:57:48.978Z"
   },
   {
    "duration": 17,
    "start_time": "2024-06-01T18:57:49.040Z"
   },
   {
    "duration": 66,
    "start_time": "2024-06-01T18:57:49.060Z"
   },
   {
    "duration": 23,
    "start_time": "2024-06-01T18:57:49.131Z"
   },
   {
    "duration": 4,
    "start_time": "2024-06-01T18:57:49.158Z"
   },
   {
    "duration": 85,
    "start_time": "2024-06-01T18:57:49.166Z"
   },
   {
    "duration": 50,
    "start_time": "2024-06-01T18:57:49.253Z"
   },
   {
    "duration": 19,
    "start_time": "2024-06-01T18:57:49.324Z"
   },
   {
    "duration": 110,
    "start_time": "2024-06-01T18:57:49.347Z"
   },
   {
    "duration": 63,
    "start_time": "2024-06-01T18:57:49.461Z"
   },
   {
    "duration": 19,
    "start_time": "2024-06-01T18:57:49.529Z"
   },
   {
    "duration": 12,
    "start_time": "2024-06-01T18:57:49.552Z"
   },
   {
    "duration": 67,
    "start_time": "2024-06-01T18:57:49.569Z"
   },
   {
    "duration": 31,
    "start_time": "2024-06-01T18:57:49.641Z"
   },
   {
    "duration": 52,
    "start_time": "2024-06-01T18:57:49.689Z"
   },
   {
    "duration": 146,
    "start_time": "2024-06-01T18:57:49.747Z"
   },
   {
    "duration": 8,
    "start_time": "2024-06-01T18:57:49.927Z"
   },
   {
    "duration": 12,
    "start_time": "2024-06-01T18:57:49.939Z"
   },
   {
    "duration": 11,
    "start_time": "2024-06-01T18:57:49.955Z"
   },
   {
    "duration": 10,
    "start_time": "2024-06-01T18:57:49.969Z"
   },
   {
    "duration": 50,
    "start_time": "2024-06-01T18:57:49.982Z"
   },
   {
    "duration": 16,
    "start_time": "2024-06-01T18:57:50.038Z"
   },
   {
    "duration": 1280,
    "start_time": "2024-06-01T18:57:50.057Z"
   },
   {
    "duration": 10,
    "start_time": "2024-06-01T18:57:51.341Z"
   },
   {
    "duration": 79,
    "start_time": "2024-06-01T18:57:51.356Z"
   },
   {
    "duration": 9,
    "start_time": "2024-06-01T18:57:51.439Z"
   },
   {
    "duration": 9,
    "start_time": "2024-06-01T18:57:51.452Z"
   },
   {
    "duration": 13,
    "start_time": "2024-06-01T18:57:51.465Z"
   },
   {
    "duration": 103,
    "start_time": "2024-06-01T18:57:51.481Z"
   },
   {
    "duration": 8,
    "start_time": "2024-06-01T18:57:51.587Z"
   },
   {
    "duration": 262,
    "start_time": "2024-06-01T18:57:51.598Z"
   },
   {
    "duration": 25097,
    "start_time": "2024-06-01T18:57:51.866Z"
   },
   {
    "duration": 34746,
    "start_time": "2024-06-01T18:58:16.967Z"
   },
   {
    "duration": 17,
    "start_time": "2024-06-01T18:58:51.725Z"
   },
   {
    "duration": 89,
    "start_time": "2024-06-01T18:58:51.747Z"
   },
   {
    "duration": 11,
    "start_time": "2024-06-01T18:58:51.842Z"
   },
   {
    "duration": 9,
    "start_time": "2024-06-01T18:58:51.856Z"
   },
   {
    "duration": 14,
    "start_time": "2024-06-01T18:58:51.868Z"
   },
   {
    "duration": 233,
    "start_time": "2024-06-01T18:58:51.924Z"
   },
   {
    "duration": 213,
    "start_time": "2024-06-01T18:58:52.160Z"
   },
   {
    "duration": 8,
    "start_time": "2024-06-01T18:58:52.377Z"
   },
   {
    "duration": 17,
    "start_time": "2024-06-01T19:56:39.650Z"
   },
   {
    "duration": 1528,
    "start_time": "2024-06-01T19:57:32.547Z"
   },
   {
    "duration": 34,
    "start_time": "2024-06-01T19:57:34.079Z"
   },
   {
    "duration": 20,
    "start_time": "2024-06-01T19:57:34.124Z"
   },
   {
    "duration": 6,
    "start_time": "2024-06-01T19:57:34.149Z"
   },
   {
    "duration": 6,
    "start_time": "2024-06-01T19:57:34.159Z"
   },
   {
    "duration": 5,
    "start_time": "2024-06-01T19:57:34.169Z"
   },
   {
    "duration": 12,
    "start_time": "2024-06-01T19:57:34.225Z"
   },
   {
    "duration": 98,
    "start_time": "2024-06-01T19:57:34.240Z"
   },
   {
    "duration": 11,
    "start_time": "2024-06-01T19:57:34.341Z"
   },
   {
    "duration": 7,
    "start_time": "2024-06-01T19:57:34.359Z"
   },
   {
    "duration": 5,
    "start_time": "2024-06-01T19:57:34.369Z"
   },
   {
    "duration": 47,
    "start_time": "2024-06-01T19:57:34.376Z"
   },
   {
    "duration": 14,
    "start_time": "2024-06-01T19:57:34.426Z"
   },
   {
    "duration": 19,
    "start_time": "2024-06-01T19:57:34.446Z"
   },
   {
    "duration": 17,
    "start_time": "2024-06-01T19:57:34.469Z"
   },
   {
    "duration": 33,
    "start_time": "2024-06-01T19:57:34.525Z"
   },
   {
    "duration": 16,
    "start_time": "2024-06-01T19:57:34.561Z"
   },
   {
    "duration": 70,
    "start_time": "2024-06-01T19:57:34.580Z"
   },
   {
    "duration": 458,
    "start_time": "2024-06-01T19:57:34.653Z"
   },
   {
    "duration": 0,
    "start_time": "2024-06-01T19:57:35.117Z"
   },
   {
    "duration": 0,
    "start_time": "2024-06-01T19:57:35.123Z"
   },
   {
    "duration": 0,
    "start_time": "2024-06-01T19:57:35.127Z"
   },
   {
    "duration": 0,
    "start_time": "2024-06-01T19:57:35.129Z"
   },
   {
    "duration": 0,
    "start_time": "2024-06-01T19:57:35.132Z"
   },
   {
    "duration": 0,
    "start_time": "2024-06-01T19:57:35.135Z"
   },
   {
    "duration": 0,
    "start_time": "2024-06-01T19:57:35.139Z"
   },
   {
    "duration": 0,
    "start_time": "2024-06-01T19:57:35.141Z"
   },
   {
    "duration": 0,
    "start_time": "2024-06-01T19:57:35.144Z"
   },
   {
    "duration": 0,
    "start_time": "2024-06-01T19:57:35.146Z"
   },
   {
    "duration": 0,
    "start_time": "2024-06-01T19:57:35.148Z"
   },
   {
    "duration": 0,
    "start_time": "2024-06-01T19:57:35.150Z"
   },
   {
    "duration": 0,
    "start_time": "2024-06-01T19:57:35.153Z"
   },
   {
    "duration": 0,
    "start_time": "2024-06-01T19:57:35.156Z"
   },
   {
    "duration": 0,
    "start_time": "2024-06-01T19:57:35.157Z"
   },
   {
    "duration": 0,
    "start_time": "2024-06-01T19:57:35.159Z"
   },
   {
    "duration": 0,
    "start_time": "2024-06-01T19:57:35.223Z"
   },
   {
    "duration": 0,
    "start_time": "2024-06-01T19:57:35.225Z"
   },
   {
    "duration": 0,
    "start_time": "2024-06-01T19:57:35.228Z"
   },
   {
    "duration": 0,
    "start_time": "2024-06-01T19:57:35.230Z"
   },
   {
    "duration": 0,
    "start_time": "2024-06-01T19:57:35.233Z"
   },
   {
    "duration": 1,
    "start_time": "2024-06-01T19:57:35.235Z"
   },
   {
    "duration": 0,
    "start_time": "2024-06-01T19:57:35.238Z"
   },
   {
    "duration": 0,
    "start_time": "2024-06-01T19:57:35.240Z"
   },
   {
    "duration": 0,
    "start_time": "2024-06-01T19:57:35.243Z"
   },
   {
    "duration": 0,
    "start_time": "2024-06-01T19:57:35.246Z"
   },
   {
    "duration": 0,
    "start_time": "2024-06-01T19:57:35.250Z"
   },
   {
    "duration": 0,
    "start_time": "2024-06-01T19:57:35.252Z"
   },
   {
    "duration": 0,
    "start_time": "2024-06-01T19:57:35.254Z"
   },
   {
    "duration": 0,
    "start_time": "2024-06-01T19:57:35.257Z"
   },
   {
    "duration": 0,
    "start_time": "2024-06-01T19:57:35.259Z"
   },
   {
    "duration": 0,
    "start_time": "2024-06-01T19:57:35.261Z"
   },
   {
    "duration": 0,
    "start_time": "2024-06-01T19:57:35.263Z"
   },
   {
    "duration": 0,
    "start_time": "2024-06-01T19:57:35.264Z"
   },
   {
    "duration": 19,
    "start_time": "2024-06-01T19:58:57.250Z"
   },
   {
    "duration": 42,
    "start_time": "2024-06-01T20:01:23.365Z"
   },
   {
    "duration": 157,
    "start_time": "2024-06-01T20:08:56.167Z"
   },
   {
    "duration": 20,
    "start_time": "2024-06-01T20:11:36.822Z"
   },
   {
    "duration": 36,
    "start_time": "2024-06-01T20:11:54.876Z"
   },
   {
    "duration": 16,
    "start_time": "2024-06-01T20:12:06.301Z"
   },
   {
    "duration": 1629,
    "start_time": "2024-06-01T20:12:59.306Z"
   },
   {
    "duration": 35,
    "start_time": "2024-06-01T20:13:00.939Z"
   },
   {
    "duration": 20,
    "start_time": "2024-06-01T20:13:00.977Z"
   },
   {
    "duration": 6,
    "start_time": "2024-06-01T20:13:01.023Z"
   },
   {
    "duration": 6,
    "start_time": "2024-06-01T20:13:01.033Z"
   },
   {
    "duration": 5,
    "start_time": "2024-06-01T20:13:01.043Z"
   },
   {
    "duration": 14,
    "start_time": "2024-06-01T20:13:01.052Z"
   },
   {
    "duration": 144,
    "start_time": "2024-06-01T20:13:01.068Z"
   },
   {
    "duration": 13,
    "start_time": "2024-06-01T20:13:01.225Z"
   },
   {
    "duration": 9,
    "start_time": "2024-06-01T20:13:01.244Z"
   },
   {
    "duration": 6,
    "start_time": "2024-06-01T20:13:01.256Z"
   },
   {
    "duration": 5,
    "start_time": "2024-06-01T20:13:01.266Z"
   },
   {
    "duration": 15,
    "start_time": "2024-06-01T20:13:01.324Z"
   },
   {
    "duration": 14,
    "start_time": "2024-06-01T20:13:01.342Z"
   },
   {
    "duration": 16,
    "start_time": "2024-06-01T20:13:01.359Z"
   },
   {
    "duration": 66,
    "start_time": "2024-06-01T20:13:01.378Z"
   },
   {
    "duration": 16,
    "start_time": "2024-06-01T20:13:01.448Z"
   },
   {
    "duration": 69,
    "start_time": "2024-06-01T20:13:01.467Z"
   },
   {
    "duration": 18,
    "start_time": "2024-06-01T20:13:01.540Z"
   },
   {
    "duration": 24,
    "start_time": "2024-06-01T20:13:01.561Z"
   },
   {
    "duration": 59,
    "start_time": "2024-06-01T20:13:01.588Z"
   },
   {
    "duration": 563,
    "start_time": "2024-06-01T20:13:01.650Z"
   },
   {
    "duration": 0,
    "start_time": "2024-06-01T20:13:02.223Z"
   },
   {
    "duration": 0,
    "start_time": "2024-06-01T20:13:02.225Z"
   },
   {
    "duration": 0,
    "start_time": "2024-06-01T20:13:02.227Z"
   },
   {
    "duration": 0,
    "start_time": "2024-06-01T20:13:02.229Z"
   },
   {
    "duration": 0,
    "start_time": "2024-06-01T20:13:02.231Z"
   },
   {
    "duration": 0,
    "start_time": "2024-06-01T20:13:02.233Z"
   },
   {
    "duration": 0,
    "start_time": "2024-06-01T20:13:02.236Z"
   },
   {
    "duration": 0,
    "start_time": "2024-06-01T20:13:02.238Z"
   },
   {
    "duration": 0,
    "start_time": "2024-06-01T20:13:02.240Z"
   },
   {
    "duration": 0,
    "start_time": "2024-06-01T20:13:02.242Z"
   },
   {
    "duration": 0,
    "start_time": "2024-06-01T20:13:02.245Z"
   },
   {
    "duration": 0,
    "start_time": "2024-06-01T20:13:02.247Z"
   },
   {
    "duration": 0,
    "start_time": "2024-06-01T20:13:02.249Z"
   },
   {
    "duration": 0,
    "start_time": "2024-06-01T20:13:02.251Z"
   },
   {
    "duration": 0,
    "start_time": "2024-06-01T20:13:02.253Z"
   },
   {
    "duration": 0,
    "start_time": "2024-06-01T20:13:02.257Z"
   },
   {
    "duration": 0,
    "start_time": "2024-06-01T20:13:02.258Z"
   },
   {
    "duration": 0,
    "start_time": "2024-06-01T20:13:02.260Z"
   },
   {
    "duration": 0,
    "start_time": "2024-06-01T20:13:02.262Z"
   },
   {
    "duration": 0,
    "start_time": "2024-06-01T20:13:02.324Z"
   },
   {
    "duration": 0,
    "start_time": "2024-06-01T20:13:02.326Z"
   },
   {
    "duration": 0,
    "start_time": "2024-06-01T20:13:02.328Z"
   },
   {
    "duration": 0,
    "start_time": "2024-06-01T20:13:02.331Z"
   },
   {
    "duration": 0,
    "start_time": "2024-06-01T20:13:02.333Z"
   },
   {
    "duration": 0,
    "start_time": "2024-06-01T20:13:02.335Z"
   },
   {
    "duration": 0,
    "start_time": "2024-06-01T20:13:02.337Z"
   },
   {
    "duration": 0,
    "start_time": "2024-06-01T20:13:02.339Z"
   },
   {
    "duration": 0,
    "start_time": "2024-06-01T20:13:02.341Z"
   },
   {
    "duration": 0,
    "start_time": "2024-06-01T20:13:02.344Z"
   },
   {
    "duration": 0,
    "start_time": "2024-06-01T20:13:02.356Z"
   },
   {
    "duration": 0,
    "start_time": "2024-06-01T20:13:02.357Z"
   },
   {
    "duration": 34,
    "start_time": "2024-06-01T20:14:48.186Z"
   },
   {
    "duration": 1622,
    "start_time": "2024-06-01T20:15:04.049Z"
   },
   {
    "duration": 36,
    "start_time": "2024-06-01T20:15:05.679Z"
   },
   {
    "duration": 19,
    "start_time": "2024-06-01T20:15:05.723Z"
   },
   {
    "duration": 6,
    "start_time": "2024-06-01T20:15:05.748Z"
   },
   {
    "duration": 6,
    "start_time": "2024-06-01T20:15:05.758Z"
   },
   {
    "duration": 6,
    "start_time": "2024-06-01T20:15:05.768Z"
   },
   {
    "duration": 14,
    "start_time": "2024-06-01T20:15:05.825Z"
   },
   {
    "duration": 108,
    "start_time": "2024-06-01T20:15:05.843Z"
   },
   {
    "duration": 12,
    "start_time": "2024-06-01T20:15:05.955Z"
   },
   {
    "duration": 8,
    "start_time": "2024-06-01T20:15:05.974Z"
   },
   {
    "duration": 39,
    "start_time": "2024-06-01T20:15:05.987Z"
   },
   {
    "duration": 6,
    "start_time": "2024-06-01T20:15:06.030Z"
   },
   {
    "duration": 15,
    "start_time": "2024-06-01T20:15:06.040Z"
   },
   {
    "duration": 14,
    "start_time": "2024-06-01T20:15:06.058Z"
   },
   {
    "duration": 59,
    "start_time": "2024-06-01T20:15:06.075Z"
   },
   {
    "duration": 28,
    "start_time": "2024-06-01T20:15:06.137Z"
   },
   {
    "duration": 55,
    "start_time": "2024-06-01T20:15:06.168Z"
   },
   {
    "duration": 34,
    "start_time": "2024-06-01T20:15:06.226Z"
   },
   {
    "duration": 19,
    "start_time": "2024-06-01T20:15:06.263Z"
   },
   {
    "duration": 74,
    "start_time": "2024-06-01T20:15:06.285Z"
   },
   {
    "duration": 78,
    "start_time": "2024-06-01T20:15:06.362Z"
   },
   {
    "duration": 88,
    "start_time": "2024-06-01T20:15:06.443Z"
   },
   {
    "duration": 91,
    "start_time": "2024-06-01T20:15:06.540Z"
   },
   {
    "duration": 86,
    "start_time": "2024-06-01T20:15:06.637Z"
   },
   {
    "duration": 10,
    "start_time": "2024-06-01T20:15:06.727Z"
   },
   {
    "duration": 12,
    "start_time": "2024-06-01T20:15:06.740Z"
   },
   {
    "duration": 75,
    "start_time": "2024-06-01T20:15:06.755Z"
   },
   {
    "duration": 352,
    "start_time": "2024-06-01T20:15:06.842Z"
   },
   {
    "duration": 0,
    "start_time": "2024-06-01T20:15:07.198Z"
   },
   {
    "duration": 0,
    "start_time": "2024-06-01T20:15:07.201Z"
   },
   {
    "duration": 0,
    "start_time": "2024-06-01T20:15:07.222Z"
   },
   {
    "duration": 0,
    "start_time": "2024-06-01T20:15:07.225Z"
   },
   {
    "duration": 0,
    "start_time": "2024-06-01T20:15:07.228Z"
   },
   {
    "duration": 0,
    "start_time": "2024-06-01T20:15:07.230Z"
   },
   {
    "duration": 0,
    "start_time": "2024-06-01T20:15:07.232Z"
   },
   {
    "duration": 0,
    "start_time": "2024-06-01T20:15:07.235Z"
   },
   {
    "duration": 0,
    "start_time": "2024-06-01T20:15:07.237Z"
   },
   {
    "duration": 0,
    "start_time": "2024-06-01T20:15:07.240Z"
   },
   {
    "duration": 0,
    "start_time": "2024-06-01T20:15:07.243Z"
   },
   {
    "duration": 0,
    "start_time": "2024-06-01T20:15:07.246Z"
   },
   {
    "duration": 0,
    "start_time": "2024-06-01T20:15:07.248Z"
   },
   {
    "duration": 0,
    "start_time": "2024-06-01T20:15:07.251Z"
   },
   {
    "duration": 0,
    "start_time": "2024-06-01T20:15:07.253Z"
   },
   {
    "duration": 0,
    "start_time": "2024-06-01T20:15:07.256Z"
   },
   {
    "duration": 0,
    "start_time": "2024-06-01T20:15:07.259Z"
   },
   {
    "duration": 0,
    "start_time": "2024-06-01T20:15:07.261Z"
   },
   {
    "duration": 0,
    "start_time": "2024-06-01T20:15:07.263Z"
   },
   {
    "duration": 0,
    "start_time": "2024-06-01T20:15:07.323Z"
   },
   {
    "duration": 0,
    "start_time": "2024-06-01T20:15:07.325Z"
   },
   {
    "duration": 0,
    "start_time": "2024-06-01T20:15:07.328Z"
   },
   {
    "duration": 0,
    "start_time": "2024-06-01T20:15:07.331Z"
   },
   {
    "duration": 1,
    "start_time": "2024-06-01T20:15:07.333Z"
   },
   {
    "duration": 0,
    "start_time": "2024-06-01T20:15:07.336Z"
   },
   {
    "duration": 41,
    "start_time": "2024-06-01T20:17:56.222Z"
   },
   {
    "duration": 32,
    "start_time": "2024-06-01T20:18:08.909Z"
   },
   {
    "duration": 8,
    "start_time": "2024-06-01T20:18:10.328Z"
   },
   {
    "duration": 17,
    "start_time": "2024-06-01T20:18:12.549Z"
   },
   {
    "duration": 8,
    "start_time": "2024-06-01T20:18:15.202Z"
   },
   {
    "duration": 13,
    "start_time": "2024-06-01T20:18:20.129Z"
   },
   {
    "duration": 13,
    "start_time": "2024-06-01T20:18:20.941Z"
   },
   {
    "duration": 14,
    "start_time": "2024-06-01T20:18:26.069Z"
   },
   {
    "duration": 57,
    "start_time": "2024-06-01T20:18:31.950Z"
   },
   {
    "duration": 304,
    "start_time": "2024-06-01T22:01:45.095Z"
   },
   {
    "duration": 694,
    "start_time": "2024-06-01T22:04:30.620Z"
   },
   {
    "duration": 68,
    "start_time": "2024-06-01T22:05:05.883Z"
   },
   {
    "duration": 73,
    "start_time": "2024-06-01T22:05:21.114Z"
   },
   {
    "duration": 48,
    "start_time": "2024-06-01T22:06:26.144Z"
   },
   {
    "duration": 1519,
    "start_time": "2024-06-01T22:06:41.386Z"
   },
   {
    "duration": 36,
    "start_time": "2024-06-01T22:06:42.911Z"
   },
   {
    "duration": 23,
    "start_time": "2024-06-01T22:06:42.950Z"
   },
   {
    "duration": 6,
    "start_time": "2024-06-01T22:06:42.979Z"
   },
   {
    "duration": 36,
    "start_time": "2024-06-01T22:06:42.989Z"
   },
   {
    "duration": 6,
    "start_time": "2024-06-01T22:06:43.030Z"
   },
   {
    "duration": 16,
    "start_time": "2024-06-01T22:06:43.041Z"
   },
   {
    "duration": 131,
    "start_time": "2024-06-01T22:06:43.060Z"
   },
   {
    "duration": 31,
    "start_time": "2024-06-01T22:06:43.194Z"
   },
   {
    "duration": 8,
    "start_time": "2024-06-01T22:06:43.233Z"
   },
   {
    "duration": 5,
    "start_time": "2024-06-01T22:06:43.247Z"
   },
   {
    "duration": 5,
    "start_time": "2024-06-01T22:06:43.256Z"
   },
   {
    "duration": 16,
    "start_time": "2024-06-01T22:06:43.264Z"
   },
   {
    "duration": 19,
    "start_time": "2024-06-01T22:06:43.323Z"
   },
   {
    "duration": 17,
    "start_time": "2024-06-01T22:06:43.345Z"
   },
   {
    "duration": 69,
    "start_time": "2024-06-01T22:06:43.366Z"
   },
   {
    "duration": 21,
    "start_time": "2024-06-01T22:06:43.439Z"
   },
   {
    "duration": 66,
    "start_time": "2024-06-01T22:06:43.463Z"
   },
   {
    "duration": 21,
    "start_time": "2024-06-01T22:06:43.533Z"
   },
   {
    "duration": 81,
    "start_time": "2024-06-01T22:06:43.558Z"
   },
   {
    "duration": 205,
    "start_time": "2024-06-01T22:06:43.643Z"
   },
   {
    "duration": 9,
    "start_time": "2024-06-01T22:06:43.924Z"
   },
   {
    "duration": 16,
    "start_time": "2024-06-01T22:06:43.936Z"
   },
   {
    "duration": 11,
    "start_time": "2024-06-01T22:06:44.022Z"
   },
   {
    "duration": 12,
    "start_time": "2024-06-01T22:06:44.036Z"
   },
   {
    "duration": 79,
    "start_time": "2024-06-01T22:06:44.051Z"
   },
   {
    "duration": 11,
    "start_time": "2024-06-01T22:06:44.133Z"
   },
   {
    "duration": 392,
    "start_time": "2024-06-01T22:06:44.153Z"
   },
   {
    "duration": 0,
    "start_time": "2024-06-01T22:06:44.548Z"
   },
   {
    "duration": 1,
    "start_time": "2024-06-01T22:06:44.550Z"
   },
   {
    "duration": 0,
    "start_time": "2024-06-01T22:06:44.553Z"
   },
   {
    "duration": 0,
    "start_time": "2024-06-01T22:06:44.556Z"
   },
   {
    "duration": 0,
    "start_time": "2024-06-01T22:06:44.558Z"
   },
   {
    "duration": 0,
    "start_time": "2024-06-01T22:06:44.562Z"
   },
   {
    "duration": 0,
    "start_time": "2024-06-01T22:06:44.564Z"
   },
   {
    "duration": 0,
    "start_time": "2024-06-01T22:06:44.566Z"
   },
   {
    "duration": 0,
    "start_time": "2024-06-01T22:06:44.568Z"
   },
   {
    "duration": 0,
    "start_time": "2024-06-01T22:06:44.570Z"
   },
   {
    "duration": 0,
    "start_time": "2024-06-01T22:06:44.573Z"
   },
   {
    "duration": 0,
    "start_time": "2024-06-01T22:06:44.575Z"
   },
   {
    "duration": 0,
    "start_time": "2024-06-01T22:06:44.578Z"
   },
   {
    "duration": 0,
    "start_time": "2024-06-01T22:06:44.581Z"
   },
   {
    "duration": 0,
    "start_time": "2024-06-01T22:06:44.624Z"
   },
   {
    "duration": 0,
    "start_time": "2024-06-01T22:06:44.627Z"
   },
   {
    "duration": 0,
    "start_time": "2024-06-01T22:06:44.634Z"
   },
   {
    "duration": 0,
    "start_time": "2024-06-01T22:06:44.637Z"
   },
   {
    "duration": 0,
    "start_time": "2024-06-01T22:06:44.640Z"
   },
   {
    "duration": 0,
    "start_time": "2024-06-01T22:06:44.642Z"
   },
   {
    "duration": 0,
    "start_time": "2024-06-01T22:06:44.645Z"
   },
   {
    "duration": 0,
    "start_time": "2024-06-01T22:06:44.648Z"
   },
   {
    "duration": 0,
    "start_time": "2024-06-01T22:06:44.651Z"
   },
   {
    "duration": 0,
    "start_time": "2024-06-01T22:06:44.653Z"
   },
   {
    "duration": 0,
    "start_time": "2024-06-01T22:06:44.656Z"
   },
   {
    "duration": 1635,
    "start_time": "2024-06-01T22:08:19.749Z"
   },
   {
    "duration": 42,
    "start_time": "2024-06-01T22:08:21.388Z"
   },
   {
    "duration": 20,
    "start_time": "2024-06-01T22:08:21.433Z"
   },
   {
    "duration": 6,
    "start_time": "2024-06-01T22:08:21.456Z"
   },
   {
    "duration": 5,
    "start_time": "2024-06-01T22:08:21.469Z"
   },
   {
    "duration": 45,
    "start_time": "2024-06-01T22:08:21.479Z"
   },
   {
    "duration": 13,
    "start_time": "2024-06-01T22:08:21.528Z"
   },
   {
    "duration": 104,
    "start_time": "2024-06-01T22:08:21.545Z"
   },
   {
    "duration": 11,
    "start_time": "2024-06-01T22:08:21.652Z"
   },
   {
    "duration": 6,
    "start_time": "2024-06-01T22:08:21.667Z"
   },
   {
    "duration": 47,
    "start_time": "2024-06-01T22:08:21.677Z"
   },
   {
    "duration": 6,
    "start_time": "2024-06-01T22:08:21.727Z"
   },
   {
    "duration": 20,
    "start_time": "2024-06-01T22:08:21.736Z"
   },
   {
    "duration": 14,
    "start_time": "2024-06-01T22:08:21.766Z"
   },
   {
    "duration": 15,
    "start_time": "2024-06-01T22:08:21.824Z"
   },
   {
    "duration": 28,
    "start_time": "2024-06-01T22:08:21.842Z"
   },
   {
    "duration": 54,
    "start_time": "2024-06-01T22:08:21.874Z"
   },
   {
    "duration": 34,
    "start_time": "2024-06-01T22:08:21.931Z"
   },
   {
    "duration": 75,
    "start_time": "2024-06-01T22:08:21.968Z"
   },
   {
    "duration": 17,
    "start_time": "2024-06-01T22:08:22.046Z"
   },
   {
    "duration": 72,
    "start_time": "2024-06-01T22:08:22.066Z"
   },
   {
    "duration": 91,
    "start_time": "2024-06-01T22:08:22.144Z"
   },
   {
    "duration": 87,
    "start_time": "2024-06-01T22:08:22.242Z"
   },
   {
    "duration": 13,
    "start_time": "2024-06-01T22:08:22.333Z"
   },
   {
    "duration": 78,
    "start_time": "2024-06-01T22:08:22.350Z"
   },
   {
    "duration": 11,
    "start_time": "2024-06-01T22:08:22.431Z"
   },
   {
    "duration": 15,
    "start_time": "2024-06-01T22:08:22.445Z"
   },
   {
    "duration": 323,
    "start_time": "2024-06-01T22:08:22.522Z"
   },
   {
    "duration": 0,
    "start_time": "2024-06-01T22:08:22.850Z"
   },
   {
    "duration": 0,
    "start_time": "2024-06-01T22:08:22.855Z"
   },
   {
    "duration": 0,
    "start_time": "2024-06-01T22:08:22.858Z"
   },
   {
    "duration": 0,
    "start_time": "2024-06-01T22:08:22.861Z"
   },
   {
    "duration": 0,
    "start_time": "2024-06-01T22:08:22.863Z"
   },
   {
    "duration": 0,
    "start_time": "2024-06-01T22:08:22.866Z"
   },
   {
    "duration": 0,
    "start_time": "2024-06-01T22:08:22.868Z"
   },
   {
    "duration": 0,
    "start_time": "2024-06-01T22:08:22.869Z"
   },
   {
    "duration": 0,
    "start_time": "2024-06-01T22:08:22.872Z"
   },
   {
    "duration": 0,
    "start_time": "2024-06-01T22:08:22.875Z"
   },
   {
    "duration": 0,
    "start_time": "2024-06-01T22:08:22.877Z"
   },
   {
    "duration": 0,
    "start_time": "2024-06-01T22:08:22.879Z"
   },
   {
    "duration": 0,
    "start_time": "2024-06-01T22:08:22.924Z"
   },
   {
    "duration": 0,
    "start_time": "2024-06-01T22:08:22.927Z"
   },
   {
    "duration": 0,
    "start_time": "2024-06-01T22:08:22.929Z"
   },
   {
    "duration": 0,
    "start_time": "2024-06-01T22:08:22.932Z"
   },
   {
    "duration": 0,
    "start_time": "2024-06-01T22:08:22.935Z"
   },
   {
    "duration": 0,
    "start_time": "2024-06-01T22:08:22.939Z"
   },
   {
    "duration": 0,
    "start_time": "2024-06-01T22:08:22.942Z"
   },
   {
    "duration": 0,
    "start_time": "2024-06-01T22:08:22.944Z"
   },
   {
    "duration": 0,
    "start_time": "2024-06-01T22:08:22.947Z"
   },
   {
    "duration": 0,
    "start_time": "2024-06-01T22:08:22.949Z"
   },
   {
    "duration": 0,
    "start_time": "2024-06-01T22:08:22.952Z"
   },
   {
    "duration": 0,
    "start_time": "2024-06-01T22:08:22.955Z"
   },
   {
    "duration": 0,
    "start_time": "2024-06-01T22:08:22.958Z"
   },
   {
    "duration": 14,
    "start_time": "2024-06-01T22:09:48.598Z"
   },
   {
    "duration": 1558,
    "start_time": "2024-06-01T22:10:00.091Z"
   },
   {
    "duration": 37,
    "start_time": "2024-06-01T22:10:01.653Z"
   },
   {
    "duration": 46,
    "start_time": "2024-06-01T22:10:01.693Z"
   },
   {
    "duration": 14,
    "start_time": "2024-06-01T22:10:01.744Z"
   },
   {
    "duration": 6,
    "start_time": "2024-06-01T22:10:01.762Z"
   },
   {
    "duration": 7,
    "start_time": "2024-06-01T22:10:01.772Z"
   },
   {
    "duration": 52,
    "start_time": "2024-06-01T22:10:01.784Z"
   },
   {
    "duration": 110,
    "start_time": "2024-06-01T22:10:01.840Z"
   },
   {
    "duration": 12,
    "start_time": "2024-06-01T22:10:01.953Z"
   },
   {
    "duration": 7,
    "start_time": "2024-06-01T22:10:01.973Z"
   },
   {
    "duration": 42,
    "start_time": "2024-06-01T22:10:01.983Z"
   },
   {
    "duration": 6,
    "start_time": "2024-06-01T22:10:02.029Z"
   },
   {
    "duration": 17,
    "start_time": "2024-06-01T22:10:02.038Z"
   },
   {
    "duration": 14,
    "start_time": "2024-06-01T22:10:02.058Z"
   },
   {
    "duration": 60,
    "start_time": "2024-06-01T22:10:02.075Z"
   },
   {
    "duration": 38,
    "start_time": "2024-06-01T22:10:02.138Z"
   },
   {
    "duration": 58,
    "start_time": "2024-06-01T22:10:02.179Z"
   },
   {
    "duration": 51,
    "start_time": "2024-06-01T22:10:02.242Z"
   },
   {
    "duration": 80,
    "start_time": "2024-06-01T22:10:02.297Z"
   },
   {
    "duration": 16,
    "start_time": "2024-06-01T22:10:02.380Z"
   },
   {
    "duration": 126,
    "start_time": "2024-06-01T22:10:02.399Z"
   },
   {
    "duration": 17,
    "start_time": "2024-06-01T22:10:02.528Z"
   },
   {
    "duration": 93,
    "start_time": "2024-06-01T22:10:02.548Z"
   },
   {
    "duration": 10,
    "start_time": "2024-06-01T22:10:02.644Z"
   },
   {
    "duration": 12,
    "start_time": "2024-06-01T22:10:02.722Z"
   },
   {
    "duration": 85,
    "start_time": "2024-06-01T22:10:02.738Z"
   },
   {
    "duration": 20,
    "start_time": "2024-06-01T22:10:02.827Z"
   },
   {
    "duration": 177,
    "start_time": "2024-06-01T22:10:02.861Z"
   },
   {
    "duration": 7,
    "start_time": "2024-06-01T22:10:03.042Z"
   },
   {
    "duration": 11,
    "start_time": "2024-06-01T22:10:03.053Z"
   },
   {
    "duration": 7,
    "start_time": "2024-06-01T22:10:03.068Z"
   },
   {
    "duration": 50,
    "start_time": "2024-06-01T22:10:03.078Z"
   },
   {
    "duration": 12,
    "start_time": "2024-06-01T22:10:03.131Z"
   },
   {
    "duration": 11,
    "start_time": "2024-06-01T22:10:03.146Z"
   },
   {
    "duration": 1137,
    "start_time": "2024-06-01T22:10:03.161Z"
   },
   {
    "duration": 22,
    "start_time": "2024-06-01T22:10:04.301Z"
   },
   {
    "duration": 56,
    "start_time": "2024-06-01T22:10:04.326Z"
   },
   {
    "duration": 8,
    "start_time": "2024-06-01T22:10:04.385Z"
   },
   {
    "duration": 34,
    "start_time": "2024-06-01T22:10:04.396Z"
   },
   {
    "duration": 12,
    "start_time": "2024-06-01T22:10:04.433Z"
   },
   {
    "duration": 89,
    "start_time": "2024-06-01T22:10:04.449Z"
   },
   {
    "duration": 7,
    "start_time": "2024-06-01T22:10:04.542Z"
   },
   {
    "duration": 197,
    "start_time": "2024-06-01T22:10:04.551Z"
   },
   {
    "duration": 19741,
    "start_time": "2024-06-01T22:10:04.751Z"
   },
   {
    "duration": 29052,
    "start_time": "2024-06-01T22:10:24.495Z"
   },
   {
    "duration": 16,
    "start_time": "2024-06-01T22:10:53.550Z"
   },
   {
    "duration": 84,
    "start_time": "2024-06-01T22:10:53.569Z"
   },
   {
    "duration": 10,
    "start_time": "2024-06-01T22:10:53.656Z"
   },
   {
    "duration": 10,
    "start_time": "2024-06-01T22:10:53.669Z"
   },
   {
    "duration": 45,
    "start_time": "2024-06-01T22:10:53.683Z"
   },
   {
    "duration": 215,
    "start_time": "2024-06-01T22:10:53.731Z"
   },
   {
    "duration": 207,
    "start_time": "2024-06-01T22:10:53.950Z"
   },
   {
    "duration": 7,
    "start_time": "2024-06-01T22:10:54.161Z"
   },
   {
    "duration": 5216,
    "start_time": "2024-06-02T15:06:20.885Z"
   },
   {
    "duration": 47,
    "start_time": "2024-06-02T15:06:26.105Z"
   },
   {
    "duration": 19,
    "start_time": "2024-06-02T15:06:26.156Z"
   },
   {
    "duration": 6,
    "start_time": "2024-06-02T15:06:26.179Z"
   },
   {
    "duration": 6,
    "start_time": "2024-06-02T15:06:26.188Z"
   },
   {
    "duration": 5,
    "start_time": "2024-06-02T15:06:26.232Z"
   },
   {
    "duration": 11,
    "start_time": "2024-06-02T15:06:26.241Z"
   },
   {
    "duration": 16,
    "start_time": "2024-06-02T15:06:26.255Z"
   },
   {
    "duration": 10,
    "start_time": "2024-06-02T15:06:26.275Z"
   },
   {
    "duration": 7,
    "start_time": "2024-06-02T15:06:26.334Z"
   },
   {
    "duration": 6,
    "start_time": "2024-06-02T15:06:26.344Z"
   },
   {
    "duration": 4,
    "start_time": "2024-06-02T15:06:26.353Z"
   },
   {
    "duration": 15,
    "start_time": "2024-06-02T15:06:26.360Z"
   },
   {
    "duration": 62,
    "start_time": "2024-06-02T15:06:26.378Z"
   },
   {
    "duration": 14,
    "start_time": "2024-06-02T15:06:26.443Z"
   },
   {
    "duration": 25,
    "start_time": "2024-06-02T15:06:26.460Z"
   },
   {
    "duration": 48,
    "start_time": "2024-06-02T15:06:26.488Z"
   },
   {
    "duration": 33,
    "start_time": "2024-06-02T15:06:26.539Z"
   },
   {
    "duration": 69,
    "start_time": "2024-06-02T15:06:26.574Z"
   },
   {
    "duration": 17,
    "start_time": "2024-06-02T15:06:26.646Z"
   },
   {
    "duration": 86,
    "start_time": "2024-06-02T15:06:26.665Z"
   },
   {
    "duration": 89,
    "start_time": "2024-06-02T15:06:26.758Z"
   },
   {
    "duration": 91,
    "start_time": "2024-06-02T15:06:26.855Z"
   },
   {
    "duration": 11,
    "start_time": "2024-06-02T15:06:26.949Z"
   },
   {
    "duration": 79,
    "start_time": "2024-06-02T15:06:26.962Z"
   },
   {
    "duration": 90,
    "start_time": "2024-06-02T15:06:27.044Z"
   },
   {
    "duration": 21,
    "start_time": "2024-06-02T15:06:27.137Z"
   },
   {
    "duration": 174,
    "start_time": "2024-06-02T15:06:27.171Z"
   },
   {
    "duration": 9,
    "start_time": "2024-06-02T15:06:27.349Z"
   },
   {
    "duration": 14,
    "start_time": "2024-06-02T15:06:27.361Z"
   },
   {
    "duration": 14,
    "start_time": "2024-06-02T15:06:27.379Z"
   },
   {
    "duration": 9,
    "start_time": "2024-06-02T15:06:27.432Z"
   },
   {
    "duration": 12,
    "start_time": "2024-06-02T15:06:27.446Z"
   },
   {
    "duration": 13,
    "start_time": "2024-06-02T15:06:27.462Z"
   },
   {
    "duration": 1064,
    "start_time": "2024-06-02T15:06:27.478Z"
   },
   {
    "duration": 7,
    "start_time": "2024-06-02T15:06:28.544Z"
   },
   {
    "duration": 81,
    "start_time": "2024-06-02T15:06:28.555Z"
   },
   {
    "duration": 9,
    "start_time": "2024-06-02T15:06:28.639Z"
   },
   {
    "duration": 9,
    "start_time": "2024-06-02T15:06:28.651Z"
   },
   {
    "duration": 13,
    "start_time": "2024-06-02T15:06:28.662Z"
   },
   {
    "duration": 94,
    "start_time": "2024-06-02T15:06:28.678Z"
   },
   {
    "duration": 6,
    "start_time": "2024-06-02T15:06:28.775Z"
   },
   {
    "duration": 261,
    "start_time": "2024-06-02T15:06:28.783Z"
   },
   {
    "duration": 18638,
    "start_time": "2024-06-02T15:06:29.046Z"
   },
   {
    "duration": 28929,
    "start_time": "2024-06-02T15:06:47.687Z"
   },
   {
    "duration": 23,
    "start_time": "2024-06-02T15:07:16.620Z"
   },
   {
    "duration": 67,
    "start_time": "2024-06-02T15:07:16.646Z"
   },
   {
    "duration": 27,
    "start_time": "2024-06-02T15:07:16.715Z"
   },
   {
    "duration": 8,
    "start_time": "2024-06-02T15:07:16.747Z"
   },
   {
    "duration": 12,
    "start_time": "2024-06-02T15:07:16.758Z"
   },
   {
    "duration": 228,
    "start_time": "2024-06-02T15:07:16.773Z"
   },
   {
    "duration": 214,
    "start_time": "2024-06-02T15:07:17.004Z"
   },
   {
    "duration": 16,
    "start_time": "2024-06-02T15:07:17.222Z"
   },
   {
    "duration": 184,
    "start_time": "2024-06-02T15:12:10.570Z"
   },
   {
    "duration": 19902,
    "start_time": "2024-06-02T15:14:21.556Z"
   },
   {
    "duration": 19203,
    "start_time": "2024-06-02T15:15:03.225Z"
   },
   {
    "duration": 19238,
    "start_time": "2024-06-02T15:17:52.037Z"
   },
   {
    "duration": 29753,
    "start_time": "2024-06-02T15:20:03.445Z"
   },
   {
    "duration": 1437,
    "start_time": "2024-06-02T15:33:49.195Z"
   },
   {
    "duration": 34,
    "start_time": "2024-06-02T15:33:50.636Z"
   },
   {
    "duration": 18,
    "start_time": "2024-06-02T15:33:50.673Z"
   },
   {
    "duration": 6,
    "start_time": "2024-06-02T15:33:50.695Z"
   },
   {
    "duration": 6,
    "start_time": "2024-06-02T15:33:50.734Z"
   },
   {
    "duration": 5,
    "start_time": "2024-06-02T15:33:50.743Z"
   },
   {
    "duration": 11,
    "start_time": "2024-06-02T15:33:50.752Z"
   },
   {
    "duration": 127,
    "start_time": "2024-06-02T15:33:50.767Z"
   },
   {
    "duration": 10,
    "start_time": "2024-06-02T15:33:50.897Z"
   },
   {
    "duration": 7,
    "start_time": "2024-06-02T15:33:50.933Z"
   },
   {
    "duration": 6,
    "start_time": "2024-06-02T15:33:50.943Z"
   },
   {
    "duration": 5,
    "start_time": "2024-06-02T15:33:50.952Z"
   },
   {
    "duration": 16,
    "start_time": "2024-06-02T15:33:50.961Z"
   },
   {
    "duration": 16,
    "start_time": "2024-06-02T15:33:51.032Z"
   },
   {
    "duration": 15,
    "start_time": "2024-06-02T15:33:51.052Z"
   },
   {
    "duration": 73,
    "start_time": "2024-06-02T15:33:51.071Z"
   },
   {
    "duration": 17,
    "start_time": "2024-06-02T15:33:51.147Z"
   },
   {
    "duration": 66,
    "start_time": "2024-06-02T15:33:51.167Z"
   },
   {
    "duration": 40,
    "start_time": "2024-06-02T15:33:51.236Z"
   },
   {
    "duration": 16,
    "start_time": "2024-06-02T15:33:51.279Z"
   },
   {
    "duration": 114,
    "start_time": "2024-06-02T15:33:51.333Z"
   },
   {
    "duration": 9,
    "start_time": "2024-06-02T15:33:51.449Z"
   },
   {
    "duration": 78,
    "start_time": "2024-06-02T15:33:51.461Z"
   },
   {
    "duration": 15,
    "start_time": "2024-06-02T15:33:51.542Z"
   },
   {
    "duration": 9,
    "start_time": "2024-06-02T15:33:51.633Z"
   },
   {
    "duration": 13,
    "start_time": "2024-06-02T15:33:51.645Z"
   },
   {
    "duration": 19,
    "start_time": "2024-06-02T15:33:51.733Z"
   },
   {
    "duration": 193,
    "start_time": "2024-06-02T15:33:51.762Z"
   },
   {
    "duration": 8,
    "start_time": "2024-06-02T15:33:51.958Z"
   },
   {
    "duration": 10,
    "start_time": "2024-06-02T15:33:51.969Z"
   },
   {
    "duration": 51,
    "start_time": "2024-06-02T15:33:51.982Z"
   },
   {
    "duration": 13,
    "start_time": "2024-06-02T15:33:52.037Z"
   },
   {
    "duration": 11,
    "start_time": "2024-06-02T15:33:52.053Z"
   },
   {
    "duration": 11,
    "start_time": "2024-06-02T15:33:52.067Z"
   },
   {
    "duration": 1073,
    "start_time": "2024-06-02T15:33:52.083Z"
   },
   {
    "duration": 7,
    "start_time": "2024-06-02T15:33:53.158Z"
   },
   {
    "duration": 87,
    "start_time": "2024-06-02T15:33:53.169Z"
   },
   {
    "duration": 9,
    "start_time": "2024-06-02T15:33:53.259Z"
   },
   {
    "duration": 9,
    "start_time": "2024-06-02T15:33:53.272Z"
   },
   {
    "duration": 52,
    "start_time": "2024-06-02T15:33:53.284Z"
   },
   {
    "duration": 61,
    "start_time": "2024-06-02T15:33:53.340Z"
   },
   {
    "duration": 32,
    "start_time": "2024-06-02T15:33:53.404Z"
   },
   {
    "duration": 215,
    "start_time": "2024-06-02T15:33:53.439Z"
   },
   {
    "duration": 19300,
    "start_time": "2024-06-02T15:33:53.657Z"
   },
   {
    "duration": 29269,
    "start_time": "2024-06-02T15:34:12.960Z"
   },
   {
    "duration": 15,
    "start_time": "2024-06-02T15:34:42.233Z"
   },
   {
    "duration": 83,
    "start_time": "2024-06-02T15:34:42.250Z"
   },
   {
    "duration": 11,
    "start_time": "2024-06-02T15:34:42.336Z"
   },
   {
    "duration": 10,
    "start_time": "2024-06-02T15:34:42.350Z"
   },
   {
    "duration": 13,
    "start_time": "2024-06-02T15:34:42.363Z"
   },
   {
    "duration": 224,
    "start_time": "2024-06-02T15:34:42.379Z"
   },
   {
    "duration": 205,
    "start_time": "2024-06-02T15:34:42.606Z"
   },
   {
    "duration": 20,
    "start_time": "2024-06-02T15:34:42.814Z"
   },
   {
    "duration": 5769,
    "start_time": "2024-06-03T19:39:24.794Z"
   },
   {
    "duration": 50,
    "start_time": "2024-06-03T19:39:30.567Z"
   },
   {
    "duration": 23,
    "start_time": "2024-06-03T19:39:30.621Z"
   },
   {
    "duration": 7,
    "start_time": "2024-06-03T19:39:30.648Z"
   },
   {
    "duration": 6,
    "start_time": "2024-06-03T19:39:30.661Z"
   },
   {
    "duration": 51,
    "start_time": "2024-06-03T19:39:30.671Z"
   },
   {
    "duration": 16,
    "start_time": "2024-06-03T19:39:30.726Z"
   },
   {
    "duration": 18,
    "start_time": "2024-06-03T19:39:30.745Z"
   },
   {
    "duration": 12,
    "start_time": "2024-06-03T19:39:30.767Z"
   },
   {
    "duration": 9,
    "start_time": "2024-06-03T19:39:30.824Z"
   },
   {
    "duration": 7,
    "start_time": "2024-06-03T19:39:30.837Z"
   },
   {
    "duration": 6,
    "start_time": "2024-06-03T19:39:30.848Z"
   },
   {
    "duration": 65,
    "start_time": "2024-06-03T19:39:30.859Z"
   },
   {
    "duration": 14,
    "start_time": "2024-06-03T19:39:30.935Z"
   },
   {
    "duration": 15,
    "start_time": "2024-06-03T19:39:30.953Z"
   },
   {
    "duration": 78,
    "start_time": "2024-06-03T19:39:30.972Z"
   },
   {
    "duration": 19,
    "start_time": "2024-06-03T19:39:31.054Z"
   },
   {
    "duration": 68,
    "start_time": "2024-06-03T19:39:31.077Z"
   },
   {
    "duration": 41,
    "start_time": "2024-06-03T19:39:31.149Z"
   },
   {
    "duration": 37,
    "start_time": "2024-06-03T19:39:31.194Z"
   },
   {
    "duration": 97,
    "start_time": "2024-06-03T19:39:31.234Z"
   },
   {
    "duration": 12,
    "start_time": "2024-06-03T19:39:31.334Z"
   },
   {
    "duration": 17,
    "start_time": "2024-06-03T19:39:31.428Z"
   },
   {
    "duration": 33,
    "start_time": "2024-06-03T19:39:31.523Z"
   },
   {
    "duration": 12,
    "start_time": "2024-06-03T19:39:31.625Z"
   },
   {
    "duration": 12,
    "start_time": "2024-06-03T19:39:31.640Z"
   },
   {
    "duration": 67,
    "start_time": "2024-06-03T19:39:31.656Z"
   },
   {
    "duration": 132,
    "start_time": "2024-06-03T19:39:31.727Z"
   },
   {
    "duration": 11,
    "start_time": "2024-06-03T19:39:31.863Z"
   },
   {
    "duration": 14,
    "start_time": "2024-06-03T19:39:31.878Z"
   },
   {
    "duration": 8,
    "start_time": "2024-06-03T19:39:31.925Z"
   },
   {
    "duration": 10,
    "start_time": "2024-06-03T19:39:31.937Z"
   },
   {
    "duration": 13,
    "start_time": "2024-06-03T19:39:31.950Z"
   },
   {
    "duration": 62,
    "start_time": "2024-06-03T19:39:31.966Z"
   },
   {
    "duration": 1123,
    "start_time": "2024-06-03T19:39:32.032Z"
   },
   {
    "duration": 13,
    "start_time": "2024-06-03T19:39:33.159Z"
   },
   {
    "duration": 85,
    "start_time": "2024-06-03T19:39:33.176Z"
   },
   {
    "duration": 10,
    "start_time": "2024-06-03T19:39:33.265Z"
   },
   {
    "duration": 18,
    "start_time": "2024-06-03T19:39:33.281Z"
   },
   {
    "duration": 16,
    "start_time": "2024-06-03T19:39:33.322Z"
   },
   {
    "duration": 89,
    "start_time": "2024-06-03T19:39:33.348Z"
   },
   {
    "duration": 7,
    "start_time": "2024-06-03T19:39:33.440Z"
   },
   {
    "duration": 313,
    "start_time": "2024-06-03T19:39:33.451Z"
   },
   {
    "duration": 20151,
    "start_time": "2024-06-03T19:39:33.774Z"
   },
   {
    "duration": 30154,
    "start_time": "2024-06-03T19:39:53.928Z"
   },
   {
    "duration": 18,
    "start_time": "2024-06-03T19:40:24.086Z"
   },
   {
    "duration": 65,
    "start_time": "2024-06-03T19:40:24.125Z"
   },
   {
    "duration": 35,
    "start_time": "2024-06-03T19:40:24.193Z"
   },
   {
    "duration": 10,
    "start_time": "2024-06-03T19:40:24.232Z"
   },
   {
    "duration": 12,
    "start_time": "2024-06-03T19:40:24.245Z"
   },
   {
    "duration": 246,
    "start_time": "2024-06-03T19:40:24.261Z"
   },
   {
    "duration": 290,
    "start_time": "2024-06-03T19:40:24.510Z"
   },
   {
    "duration": 20,
    "start_time": "2024-06-03T19:40:24.804Z"
   },
   {
    "duration": 17,
    "start_time": "2024-06-03T19:45:37.978Z"
   },
   {
    "duration": 39,
    "start_time": "2024-06-03T19:46:39.711Z"
   },
   {
    "duration": 34,
    "start_time": "2024-06-03T19:47:47.998Z"
   },
   {
    "duration": 1523,
    "start_time": "2024-06-03T19:48:06.278Z"
   },
   {
    "duration": 53,
    "start_time": "2024-06-03T19:48:07.804Z"
   },
   {
    "duration": 26,
    "start_time": "2024-06-03T19:48:07.864Z"
   },
   {
    "duration": 6,
    "start_time": "2024-06-03T19:48:07.895Z"
   },
   {
    "duration": 7,
    "start_time": "2024-06-03T19:48:07.926Z"
   },
   {
    "duration": 6,
    "start_time": "2024-06-03T19:48:07.937Z"
   },
   {
    "duration": 16,
    "start_time": "2024-06-03T19:48:07.946Z"
   },
   {
    "duration": 121,
    "start_time": "2024-06-03T19:48:07.966Z"
   },
   {
    "duration": 33,
    "start_time": "2024-06-03T19:48:08.090Z"
   },
   {
    "duration": 7,
    "start_time": "2024-06-03T19:48:08.128Z"
   },
   {
    "duration": 6,
    "start_time": "2024-06-03T19:48:08.138Z"
   },
   {
    "duration": 5,
    "start_time": "2024-06-03T19:48:08.147Z"
   },
   {
    "duration": 16,
    "start_time": "2024-06-03T19:48:08.155Z"
   },
   {
    "duration": 59,
    "start_time": "2024-06-03T19:48:08.174Z"
   },
   {
    "duration": 16,
    "start_time": "2024-06-03T19:48:08.237Z"
   },
   {
    "duration": 23,
    "start_time": "2024-06-03T19:48:08.256Z"
   },
   {
    "duration": 68,
    "start_time": "2024-06-03T19:48:08.283Z"
   },
   {
    "duration": 456,
    "start_time": "2024-06-03T19:48:08.354Z"
   },
   {
    "duration": 0,
    "start_time": "2024-06-03T19:48:08.817Z"
   },
   {
    "duration": 0,
    "start_time": "2024-06-03T19:48:08.823Z"
   },
   {
    "duration": 0,
    "start_time": "2024-06-03T19:48:08.826Z"
   },
   {
    "duration": 0,
    "start_time": "2024-06-03T19:48:08.828Z"
   },
   {
    "duration": 0,
    "start_time": "2024-06-03T19:48:08.830Z"
   },
   {
    "duration": 0,
    "start_time": "2024-06-03T19:48:08.833Z"
   },
   {
    "duration": 0,
    "start_time": "2024-06-03T19:48:08.834Z"
   },
   {
    "duration": 0,
    "start_time": "2024-06-03T19:48:08.836Z"
   },
   {
    "duration": 0,
    "start_time": "2024-06-03T19:48:08.839Z"
   },
   {
    "duration": 0,
    "start_time": "2024-06-03T19:48:08.841Z"
   },
   {
    "duration": 0,
    "start_time": "2024-06-03T19:48:08.843Z"
   },
   {
    "duration": 0,
    "start_time": "2024-06-03T19:48:08.846Z"
   },
   {
    "duration": 0,
    "start_time": "2024-06-03T19:48:08.850Z"
   },
   {
    "duration": 0,
    "start_time": "2024-06-03T19:48:08.852Z"
   },
   {
    "duration": 0,
    "start_time": "2024-06-03T19:48:08.855Z"
   },
   {
    "duration": 0,
    "start_time": "2024-06-03T19:48:08.857Z"
   },
   {
    "duration": 0,
    "start_time": "2024-06-03T19:48:08.859Z"
   },
   {
    "duration": 0,
    "start_time": "2024-06-03T19:48:08.862Z"
   },
   {
    "duration": 0,
    "start_time": "2024-06-03T19:48:08.923Z"
   },
   {
    "duration": 1,
    "start_time": "2024-06-03T19:48:08.925Z"
   },
   {
    "duration": 0,
    "start_time": "2024-06-03T19:48:08.928Z"
   },
   {
    "duration": 0,
    "start_time": "2024-06-03T19:48:08.929Z"
   },
   {
    "duration": 0,
    "start_time": "2024-06-03T19:48:08.931Z"
   },
   {
    "duration": 0,
    "start_time": "2024-06-03T19:48:08.934Z"
   },
   {
    "duration": 0,
    "start_time": "2024-06-03T19:48:08.937Z"
   },
   {
    "duration": 0,
    "start_time": "2024-06-03T19:48:08.938Z"
   },
   {
    "duration": 0,
    "start_time": "2024-06-03T19:48:08.940Z"
   },
   {
    "duration": 0,
    "start_time": "2024-06-03T19:48:08.942Z"
   },
   {
    "duration": 0,
    "start_time": "2024-06-03T19:48:08.944Z"
   },
   {
    "duration": 0,
    "start_time": "2024-06-03T19:48:08.947Z"
   },
   {
    "duration": 0,
    "start_time": "2024-06-03T19:48:08.948Z"
   },
   {
    "duration": 0,
    "start_time": "2024-06-03T19:48:08.950Z"
   },
   {
    "duration": 0,
    "start_time": "2024-06-03T19:48:08.952Z"
   },
   {
    "duration": 0,
    "start_time": "2024-06-03T19:48:08.955Z"
   },
   {
    "duration": 0,
    "start_time": "2024-06-03T19:48:08.957Z"
   },
   {
    "duration": 37,
    "start_time": "2024-06-03T19:49:23.639Z"
   },
   {
    "duration": 42,
    "start_time": "2024-06-03T19:50:44.502Z"
   },
   {
    "duration": 72,
    "start_time": "2024-06-03T19:58:10.231Z"
   },
   {
    "duration": 99,
    "start_time": "2024-06-03T19:59:01.948Z"
   },
   {
    "duration": 391,
    "start_time": "2024-06-03T19:59:52.668Z"
   },
   {
    "duration": 97,
    "start_time": "2024-06-03T20:01:59.473Z"
   },
   {
    "duration": 99,
    "start_time": "2024-06-03T20:03:03.945Z"
   },
   {
    "duration": 84,
    "start_time": "2024-06-03T20:04:25.286Z"
   },
   {
    "duration": 69,
    "start_time": "2024-06-03T20:06:31.837Z"
   },
   {
    "duration": 89,
    "start_time": "2024-06-03T20:07:05.711Z"
   },
   {
    "duration": 80,
    "start_time": "2024-06-03T20:08:07.038Z"
   },
   {
    "duration": 63,
    "start_time": "2024-06-03T20:10:47.511Z"
   },
   {
    "duration": 51,
    "start_time": "2024-06-03T20:16:01.572Z"
   },
   {
    "duration": 15,
    "start_time": "2024-06-03T20:17:54.728Z"
   },
   {
    "duration": 1640,
    "start_time": "2024-06-03T20:20:30.734Z"
   },
   {
    "duration": 35,
    "start_time": "2024-06-03T20:20:32.378Z"
   },
   {
    "duration": 25,
    "start_time": "2024-06-03T20:20:32.416Z"
   },
   {
    "duration": 7,
    "start_time": "2024-06-03T20:20:32.444Z"
   },
   {
    "duration": 6,
    "start_time": "2024-06-03T20:20:32.456Z"
   },
   {
    "duration": 6,
    "start_time": "2024-06-03T20:20:32.466Z"
   },
   {
    "duration": 14,
    "start_time": "2024-06-03T20:20:32.525Z"
   },
   {
    "duration": 114,
    "start_time": "2024-06-03T20:20:32.542Z"
   },
   {
    "duration": 11,
    "start_time": "2024-06-03T20:20:32.660Z"
   },
   {
    "duration": 13,
    "start_time": "2024-06-03T20:20:32.676Z"
   },
   {
    "duration": 32,
    "start_time": "2024-06-03T20:20:32.693Z"
   },
   {
    "duration": 6,
    "start_time": "2024-06-03T20:20:32.731Z"
   },
   {
    "duration": 17,
    "start_time": "2024-06-03T20:20:32.740Z"
   },
   {
    "duration": 63,
    "start_time": "2024-06-03T20:20:32.766Z"
   },
   {
    "duration": 16,
    "start_time": "2024-06-03T20:20:32.833Z"
   },
   {
    "duration": 20,
    "start_time": "2024-06-03T20:20:32.853Z"
   },
   {
    "duration": 68,
    "start_time": "2024-06-03T20:20:32.877Z"
   },
   {
    "duration": 109,
    "start_time": "2024-06-03T20:20:32.948Z"
   },
   {
    "duration": 71,
    "start_time": "2024-06-03T20:20:33.060Z"
   },
   {
    "duration": 581,
    "start_time": "2024-06-03T20:20:33.135Z"
   },
   {
    "duration": 0,
    "start_time": "2024-06-03T20:20:33.725Z"
   },
   {
    "duration": 0,
    "start_time": "2024-06-03T20:20:33.727Z"
   },
   {
    "duration": 0,
    "start_time": "2024-06-03T20:20:33.730Z"
   },
   {
    "duration": 0,
    "start_time": "2024-06-03T20:20:33.732Z"
   },
   {
    "duration": 0,
    "start_time": "2024-06-03T20:20:33.734Z"
   },
   {
    "duration": 0,
    "start_time": "2024-06-03T20:20:33.737Z"
   },
   {
    "duration": 0,
    "start_time": "2024-06-03T20:20:33.739Z"
   },
   {
    "duration": 0,
    "start_time": "2024-06-03T20:20:33.751Z"
   },
   {
    "duration": 0,
    "start_time": "2024-06-03T20:20:33.755Z"
   },
   {
    "duration": 0,
    "start_time": "2024-06-03T20:20:33.759Z"
   },
   {
    "duration": 0,
    "start_time": "2024-06-03T20:20:33.762Z"
   },
   {
    "duration": 0,
    "start_time": "2024-06-03T20:20:33.764Z"
   },
   {
    "duration": 0,
    "start_time": "2024-06-03T20:20:33.767Z"
   },
   {
    "duration": 0,
    "start_time": "2024-06-03T20:20:33.770Z"
   },
   {
    "duration": 0,
    "start_time": "2024-06-03T20:20:33.823Z"
   },
   {
    "duration": 0,
    "start_time": "2024-06-03T20:20:33.826Z"
   },
   {
    "duration": 0,
    "start_time": "2024-06-03T20:20:33.828Z"
   },
   {
    "duration": 0,
    "start_time": "2024-06-03T20:20:33.830Z"
   },
   {
    "duration": 0,
    "start_time": "2024-06-03T20:20:33.833Z"
   },
   {
    "duration": 0,
    "start_time": "2024-06-03T20:20:33.837Z"
   },
   {
    "duration": 0,
    "start_time": "2024-06-03T20:20:33.840Z"
   },
   {
    "duration": 0,
    "start_time": "2024-06-03T20:20:33.843Z"
   },
   {
    "duration": 0,
    "start_time": "2024-06-03T20:20:33.847Z"
   },
   {
    "duration": 0,
    "start_time": "2024-06-03T20:20:33.850Z"
   },
   {
    "duration": 0,
    "start_time": "2024-06-03T20:20:33.853Z"
   },
   {
    "duration": 0,
    "start_time": "2024-06-03T20:20:33.856Z"
   },
   {
    "duration": 0,
    "start_time": "2024-06-03T20:20:33.860Z"
   },
   {
    "duration": 0,
    "start_time": "2024-06-03T20:20:33.864Z"
   },
   {
    "duration": 0,
    "start_time": "2024-06-03T20:20:33.867Z"
   },
   {
    "duration": 0,
    "start_time": "2024-06-03T20:20:33.868Z"
   },
   {
    "duration": 0,
    "start_time": "2024-06-03T20:20:33.869Z"
   },
   {
    "duration": 17,
    "start_time": "2024-06-03T20:21:25.263Z"
   },
   {
    "duration": 20,
    "start_time": "2024-06-03T20:22:51.758Z"
   },
   {
    "duration": 11,
    "start_time": "2024-06-03T20:23:23.385Z"
   },
   {
    "duration": 10,
    "start_time": "2024-06-03T20:23:42.241Z"
   },
   {
    "duration": 17,
    "start_time": "2024-06-03T20:23:57.892Z"
   },
   {
    "duration": 26,
    "start_time": "2024-06-03T20:24:15.933Z"
   },
   {
    "duration": 16,
    "start_time": "2024-06-03T20:24:29.459Z"
   },
   {
    "duration": 52,
    "start_time": "2024-06-03T20:24:51.296Z"
   },
   {
    "duration": 5,
    "start_time": "2024-06-03T20:25:09.253Z"
   },
   {
    "duration": 13,
    "start_time": "2024-06-03T20:25:25.145Z"
   },
   {
    "duration": 8,
    "start_time": "2024-06-03T20:25:31.329Z"
   },
   {
    "duration": 10,
    "start_time": "2024-06-03T20:25:35.397Z"
   },
   {
    "duration": 14,
    "start_time": "2024-06-03T20:25:37.335Z"
   },
   {
    "duration": 12,
    "start_time": "2024-06-03T20:25:58.047Z"
   },
   {
    "duration": 1031,
    "start_time": "2024-06-03T20:26:14.953Z"
   },
   {
    "duration": 5,
    "start_time": "2024-06-03T20:26:27.084Z"
   },
   {
    "duration": 56,
    "start_time": "2024-06-03T20:26:31.454Z"
   },
   {
    "duration": 9,
    "start_time": "2024-06-03T20:26:40.579Z"
   },
   {
    "duration": 9,
    "start_time": "2024-06-03T20:26:49.559Z"
   },
   {
    "duration": 12,
    "start_time": "2024-06-03T20:26:50.727Z"
   },
   {
    "duration": 58,
    "start_time": "2024-06-03T20:27:00.920Z"
   },
   {
    "duration": 6,
    "start_time": "2024-06-03T20:27:26.338Z"
   },
   {
    "duration": 254,
    "start_time": "2024-06-03T20:28:43.789Z"
   },
   {
    "duration": 20839,
    "start_time": "2024-06-03T20:29:01.624Z"
   },
   {
    "duration": 30952,
    "start_time": "2024-06-03T20:29:34.397Z"
   },
   {
    "duration": 32,
    "start_time": "2024-06-03T20:30:42.271Z"
   },
   {
    "duration": 76,
    "start_time": "2024-06-03T20:30:43.350Z"
   },
   {
    "duration": 34,
    "start_time": "2024-06-03T20:32:43.477Z"
   },
   {
    "duration": 20,
    "start_time": "2024-06-03T20:33:18.477Z"
   },
   {
    "duration": 18,
    "start_time": "2024-06-03T20:35:48.626Z"
   },
   {
    "duration": 16,
    "start_time": "2024-06-03T20:35:49.858Z"
   },
   {
    "duration": 26,
    "start_time": "2024-06-03T20:35:52.853Z"
   },
   {
    "duration": 845,
    "start_time": "2024-06-03T20:37:38.179Z"
   },
   {
    "duration": 27,
    "start_time": "2024-06-03T20:38:21.916Z"
   },
   {
    "duration": 22,
    "start_time": "2024-06-03T20:38:48.074Z"
   },
   {
    "duration": 17,
    "start_time": "2024-06-03T20:39:00.054Z"
   },
   {
    "duration": 20,
    "start_time": "2024-06-03T20:39:34.827Z"
   },
   {
    "duration": 18,
    "start_time": "2024-06-03T20:39:37.388Z"
   },
   {
    "duration": 23,
    "start_time": "2024-06-03T20:40:03.770Z"
   },
   {
    "duration": 20,
    "start_time": "2024-06-03T20:40:06.178Z"
   },
   {
    "duration": 4,
    "start_time": "2024-06-03T20:41:16.223Z"
   },
   {
    "duration": 19,
    "start_time": "2024-06-03T20:42:05.909Z"
   },
   {
    "duration": 6,
    "start_time": "2024-06-03T20:42:06.485Z"
   },
   {
    "duration": 20,
    "start_time": "2024-06-03T20:42:47.136Z"
   },
   {
    "duration": 82,
    "start_time": "2024-06-03T20:42:49.160Z"
   },
   {
    "duration": 11,
    "start_time": "2024-06-03T20:44:25.790Z"
   },
   {
    "duration": 10,
    "start_time": "2024-06-03T20:44:29.136Z"
   },
   {
    "duration": 16,
    "start_time": "2024-06-03T20:44:29.686Z"
   },
   {
    "duration": 217,
    "start_time": "2024-06-03T20:44:31.673Z"
   },
   {
    "duration": 200,
    "start_time": "2024-06-03T20:44:34.284Z"
   },
   {
    "duration": 10,
    "start_time": "2024-06-03T20:44:40.765Z"
   },
   {
    "duration": 20,
    "start_time": "2024-06-03T20:47:27.571Z"
   },
   {
    "duration": 28,
    "start_time": "2024-06-03T20:48:11.872Z"
   },
   {
    "duration": 20,
    "start_time": "2024-06-03T20:48:15.745Z"
   },
   {
    "duration": 68,
    "start_time": "2024-06-03T20:48:27.801Z"
   },
   {
    "duration": 10,
    "start_time": "2024-06-03T20:50:38.808Z"
   },
   {
    "duration": 6,
    "start_time": "2024-06-03T20:50:50.400Z"
   },
   {
    "duration": 21,
    "start_time": "2024-06-03T20:51:02.719Z"
   },
   {
    "duration": 22,
    "start_time": "2024-06-03T20:51:05.664Z"
   },
   {
    "duration": 79,
    "start_time": "2024-06-03T20:51:10.903Z"
   },
   {
    "duration": 24,
    "start_time": "2024-06-03T20:57:12.091Z"
   },
   {
    "duration": 16,
    "start_time": "2024-06-03T20:57:12.699Z"
   },
   {
    "duration": 82,
    "start_time": "2024-06-03T20:57:17.689Z"
   },
   {
    "duration": 47,
    "start_time": "2024-06-03T20:58:27.293Z"
   },
   {
    "duration": 21,
    "start_time": "2024-06-03T20:59:11.624Z"
   },
   {
    "duration": 1600,
    "start_time": "2024-06-03T20:59:27.304Z"
   },
   {
    "duration": 38,
    "start_time": "2024-06-03T20:59:28.908Z"
   },
   {
    "duration": 20,
    "start_time": "2024-06-03T20:59:28.948Z"
   },
   {
    "duration": 6,
    "start_time": "2024-06-03T20:59:28.972Z"
   },
   {
    "duration": 40,
    "start_time": "2024-06-03T20:59:28.985Z"
   },
   {
    "duration": 7,
    "start_time": "2024-06-03T20:59:29.029Z"
   },
   {
    "duration": 16,
    "start_time": "2024-06-03T20:59:29.039Z"
   },
   {
    "duration": 132,
    "start_time": "2024-06-03T20:59:29.058Z"
   },
   {
    "duration": 11,
    "start_time": "2024-06-03T20:59:29.193Z"
   },
   {
    "duration": 8,
    "start_time": "2024-06-03T20:59:29.224Z"
   },
   {
    "duration": 6,
    "start_time": "2024-06-03T20:59:29.235Z"
   },
   {
    "duration": 5,
    "start_time": "2024-06-03T20:59:29.244Z"
   },
   {
    "duration": 15,
    "start_time": "2024-06-03T20:59:29.252Z"
   },
   {
    "duration": 13,
    "start_time": "2024-06-03T20:59:29.323Z"
   },
   {
    "duration": 16,
    "start_time": "2024-06-03T20:59:29.339Z"
   },
   {
    "duration": 17,
    "start_time": "2024-06-03T20:59:29.358Z"
   },
   {
    "duration": 70,
    "start_time": "2024-06-03T20:59:29.378Z"
   },
   {
    "duration": 105,
    "start_time": "2024-06-03T20:59:29.451Z"
   },
   {
    "duration": 75,
    "start_time": "2024-06-03T20:59:29.559Z"
   },
   {
    "duration": 87,
    "start_time": "2024-06-03T20:59:29.640Z"
   },
   {
    "duration": 96,
    "start_time": "2024-06-03T20:59:29.731Z"
   },
   {
    "duration": 16,
    "start_time": "2024-06-03T20:59:29.831Z"
   },
   {
    "duration": 13,
    "start_time": "2024-06-03T20:59:29.925Z"
   },
   {
    "duration": 14,
    "start_time": "2024-06-03T20:59:29.943Z"
   },
   {
    "duration": 73,
    "start_time": "2024-06-03T20:59:29.961Z"
   },
   {
    "duration": 131,
    "start_time": "2024-06-03T20:59:30.039Z"
   },
   {
    "duration": 8,
    "start_time": "2024-06-03T20:59:30.174Z"
   },
   {
    "duration": 37,
    "start_time": "2024-06-03T20:59:30.186Z"
   },
   {
    "duration": 11,
    "start_time": "2024-06-03T20:59:30.231Z"
   },
   {
    "duration": 11,
    "start_time": "2024-06-03T20:59:30.247Z"
   },
   {
    "duration": 16,
    "start_time": "2024-06-03T20:59:30.262Z"
   },
   {
    "duration": 14,
    "start_time": "2024-06-03T20:59:30.326Z"
   },
   {
    "duration": 1080,
    "start_time": "2024-06-03T20:59:30.344Z"
   },
   {
    "duration": 5,
    "start_time": "2024-06-03T20:59:31.427Z"
   },
   {
    "duration": 57,
    "start_time": "2024-06-03T20:59:31.436Z"
   },
   {
    "duration": 34,
    "start_time": "2024-06-03T20:59:31.496Z"
   },
   {
    "duration": 12,
    "start_time": "2024-06-03T20:59:31.533Z"
   },
   {
    "duration": 14,
    "start_time": "2024-06-03T20:59:31.547Z"
   },
   {
    "duration": 104,
    "start_time": "2024-06-03T20:59:31.565Z"
   },
   {
    "duration": 8,
    "start_time": "2024-06-03T20:59:31.672Z"
   },
   {
    "duration": 267,
    "start_time": "2024-06-03T20:59:31.691Z"
   },
   {
    "duration": 21034,
    "start_time": "2024-06-03T20:59:31.961Z"
   },
   {
    "duration": 31330,
    "start_time": "2024-06-03T20:59:52.998Z"
   },
   {
    "duration": 7,
    "start_time": "2024-06-03T21:00:24.331Z"
   },
   {
    "duration": 446,
    "start_time": "2024-06-03T21:00:24.341Z"
   },
   {
    "duration": 0,
    "start_time": "2024-06-03T21:00:24.791Z"
   },
   {
    "duration": 0,
    "start_time": "2024-06-03T21:00:24.793Z"
   },
   {
    "duration": 0,
    "start_time": "2024-06-03T21:00:24.797Z"
   },
   {
    "duration": 0,
    "start_time": "2024-06-03T21:00:24.799Z"
   },
   {
    "duration": 0,
    "start_time": "2024-06-03T21:00:24.801Z"
   },
   {
    "duration": 0,
    "start_time": "2024-06-03T21:00:24.823Z"
   },
   {
    "duration": 0,
    "start_time": "2024-06-03T21:00:24.826Z"
   },
   {
    "duration": 4,
    "start_time": "2024-06-03T21:00:46.042Z"
   },
   {
    "duration": 45,
    "start_time": "2024-06-03T21:01:08.509Z"
   },
   {
    "duration": 29,
    "start_time": "2024-06-03T21:51:25.451Z"
   },
   {
    "duration": 19,
    "start_time": "2024-06-03T21:51:27.848Z"
   },
   {
    "duration": 65,
    "start_time": "2024-06-03T21:51:33.609Z"
   },
   {
    "duration": 28,
    "start_time": "2024-06-03T21:54:01.748Z"
   },
   {
    "duration": 17,
    "start_time": "2024-06-03T21:54:02.481Z"
   },
   {
    "duration": 71,
    "start_time": "2024-06-03T21:54:04.687Z"
   },
   {
    "duration": 24,
    "start_time": "2024-06-03T21:54:20.383Z"
   },
   {
    "duration": 15,
    "start_time": "2024-06-03T21:54:22.406Z"
   },
   {
    "duration": 54,
    "start_time": "2024-06-03T21:54:24.935Z"
   },
   {
    "duration": 12,
    "start_time": "2024-06-03T21:55:56.544Z"
   },
   {
    "duration": 12,
    "start_time": "2024-06-03T21:56:17.300Z"
   },
   {
    "duration": 12,
    "start_time": "2024-06-03T21:56:25.805Z"
   },
   {
    "duration": 357,
    "start_time": "2024-06-03T21:57:00.809Z"
   },
   {
    "duration": 232,
    "start_time": "2024-06-03T21:57:09.645Z"
   },
   {
    "duration": 11,
    "start_time": "2024-06-03T21:57:18.996Z"
   },
   {
    "duration": 1564,
    "start_time": "2024-06-03T21:57:40.746Z"
   },
   {
    "duration": 39,
    "start_time": "2024-06-03T21:57:42.317Z"
   },
   {
    "duration": 22,
    "start_time": "2024-06-03T21:57:42.359Z"
   },
   {
    "duration": 35,
    "start_time": "2024-06-03T21:57:42.387Z"
   },
   {
    "duration": 6,
    "start_time": "2024-06-03T21:57:42.426Z"
   },
   {
    "duration": 8,
    "start_time": "2024-06-03T21:57:42.436Z"
   },
   {
    "duration": 15,
    "start_time": "2024-06-03T21:57:42.447Z"
   },
   {
    "duration": 132,
    "start_time": "2024-06-03T21:57:42.466Z"
   },
   {
    "duration": 23,
    "start_time": "2024-06-03T21:57:42.602Z"
   },
   {
    "duration": 7,
    "start_time": "2024-06-03T21:57:42.633Z"
   },
   {
    "duration": 7,
    "start_time": "2024-06-03T21:57:42.645Z"
   },
   {
    "duration": 5,
    "start_time": "2024-06-03T21:57:42.656Z"
   },
   {
    "duration": 64,
    "start_time": "2024-06-03T21:57:42.665Z"
   },
   {
    "duration": 18,
    "start_time": "2024-06-03T21:57:42.732Z"
   },
   {
    "duration": 16,
    "start_time": "2024-06-03T21:57:42.754Z"
   },
   {
    "duration": 54,
    "start_time": "2024-06-03T21:57:42.773Z"
   },
   {
    "duration": 31,
    "start_time": "2024-06-03T21:57:42.830Z"
   },
   {
    "duration": 109,
    "start_time": "2024-06-03T21:57:42.865Z"
   },
   {
    "duration": 72,
    "start_time": "2024-06-03T21:57:42.978Z"
   },
   {
    "duration": 76,
    "start_time": "2024-06-03T21:57:43.054Z"
   },
   {
    "duration": 18,
    "start_time": "2024-06-03T21:57:43.133Z"
   },
   {
    "duration": 71,
    "start_time": "2024-06-03T21:57:43.154Z"
   },
   {
    "duration": 17,
    "start_time": "2024-06-03T21:57:43.231Z"
   },
   {
    "duration": 79,
    "start_time": "2024-06-03T21:57:43.252Z"
   },
   {
    "duration": 19,
    "start_time": "2024-06-03T21:57:43.335Z"
   },
   {
    "duration": 198,
    "start_time": "2024-06-03T21:57:43.358Z"
   },
   {
    "duration": 6,
    "start_time": "2024-06-03T21:57:43.560Z"
   },
   {
    "duration": 16,
    "start_time": "2024-06-03T21:57:43.579Z"
   },
   {
    "duration": 8,
    "start_time": "2024-06-03T21:57:43.624Z"
   },
   {
    "duration": 11,
    "start_time": "2024-06-03T21:57:43.634Z"
   },
   {
    "duration": 13,
    "start_time": "2024-06-03T21:57:43.648Z"
   },
   {
    "duration": 57,
    "start_time": "2024-06-03T21:57:43.665Z"
   },
   {
    "duration": 1062,
    "start_time": "2024-06-03T21:57:43.726Z"
   },
   {
    "duration": 6,
    "start_time": "2024-06-03T21:57:44.792Z"
   },
   {
    "duration": 81,
    "start_time": "2024-06-03T21:57:44.802Z"
   },
   {
    "duration": 10,
    "start_time": "2024-06-03T21:57:44.887Z"
   },
   {
    "duration": 30,
    "start_time": "2024-06-03T21:57:44.901Z"
   },
   {
    "duration": 17,
    "start_time": "2024-06-03T21:57:44.934Z"
   },
   {
    "duration": 85,
    "start_time": "2024-06-03T21:57:44.955Z"
   },
   {
    "duration": 6,
    "start_time": "2024-06-03T21:57:45.046Z"
   },
   {
    "duration": 284,
    "start_time": "2024-06-03T21:57:45.056Z"
   },
   {
    "duration": 21270,
    "start_time": "2024-06-03T21:57:45.343Z"
   },
   {
    "duration": 31532,
    "start_time": "2024-06-03T21:58:06.624Z"
   },
   {
    "duration": 26,
    "start_time": "2024-06-03T21:58:38.159Z"
   },
   {
    "duration": 36,
    "start_time": "2024-06-03T21:58:38.188Z"
   },
   {
    "duration": 64,
    "start_time": "2024-06-03T21:58:38.230Z"
   },
   {
    "duration": 26,
    "start_time": "2024-06-03T21:58:38.299Z"
   },
   {
    "duration": 10,
    "start_time": "2024-06-03T21:58:38.329Z"
   },
   {
    "duration": 14,
    "start_time": "2024-06-03T21:58:38.342Z"
   },
   {
    "duration": 245,
    "start_time": "2024-06-03T21:58:38.361Z"
   },
   {
    "duration": 217,
    "start_time": "2024-06-03T21:58:38.610Z"
   },
   {
    "duration": 9,
    "start_time": "2024-06-03T21:58:38.830Z"
   },
   {
    "duration": 44,
    "start_time": "2024-06-03T22:08:04.642Z"
   },
   {
    "duration": 17,
    "start_time": "2024-06-03T22:09:11.450Z"
   },
   {
    "duration": 76,
    "start_time": "2024-06-03T22:29:10.669Z"
   },
   {
    "duration": 1720,
    "start_time": "2024-06-03T22:33:05.296Z"
   },
   {
    "duration": 48,
    "start_time": "2024-06-03T22:33:07.023Z"
   },
   {
    "duration": 25,
    "start_time": "2024-06-03T22:33:07.074Z"
   },
   {
    "duration": 7,
    "start_time": "2024-06-03T22:33:07.125Z"
   },
   {
    "duration": 7,
    "start_time": "2024-06-03T22:33:07.136Z"
   },
   {
    "duration": 7,
    "start_time": "2024-06-03T22:33:07.148Z"
   },
   {
    "duration": 63,
    "start_time": "2024-06-03T22:33:07.160Z"
   },
   {
    "duration": 102,
    "start_time": "2024-06-03T22:33:07.227Z"
   },
   {
    "duration": 18,
    "start_time": "2024-06-03T22:33:07.333Z"
   },
   {
    "duration": 9,
    "start_time": "2024-06-03T22:33:07.359Z"
   },
   {
    "duration": 14,
    "start_time": "2024-06-03T22:33:07.376Z"
   },
   {
    "duration": 26,
    "start_time": "2024-06-03T22:33:07.398Z"
   },
   {
    "duration": 17,
    "start_time": "2024-06-03T22:33:07.430Z"
   },
   {
    "duration": 18,
    "start_time": "2024-06-03T22:33:07.451Z"
   },
   {
    "duration": 65,
    "start_time": "2024-06-03T22:33:07.477Z"
   },
   {
    "duration": 36,
    "start_time": "2024-06-03T22:33:07.547Z"
   },
   {
    "duration": 133,
    "start_time": "2024-06-03T22:33:07.590Z"
   },
   {
    "duration": 125,
    "start_time": "2024-06-03T22:33:07.730Z"
   },
   {
    "duration": 15,
    "start_time": "2024-06-03T22:33:07.924Z"
   },
   {
    "duration": 88,
    "start_time": "2024-06-03T22:33:07.943Z"
   },
   {
    "duration": 12,
    "start_time": "2024-06-03T22:33:08.035Z"
   },
   {
    "duration": 76,
    "start_time": "2024-06-03T22:33:08.049Z"
   },
   {
    "duration": 18,
    "start_time": "2024-06-03T22:33:08.128Z"
   },
   {
    "duration": 79,
    "start_time": "2024-06-03T22:33:08.149Z"
   },
   {
    "duration": 127,
    "start_time": "2024-06-03T22:33:08.233Z"
   },
   {
    "duration": 6,
    "start_time": "2024-06-03T22:33:08.363Z"
   },
   {
    "duration": 50,
    "start_time": "2024-06-03T22:33:08.374Z"
   },
   {
    "duration": 8,
    "start_time": "2024-06-03T22:33:08.434Z"
   },
   {
    "duration": 11,
    "start_time": "2024-06-03T22:33:08.446Z"
   },
   {
    "duration": 65,
    "start_time": "2024-06-03T22:33:08.461Z"
   },
   {
    "duration": 14,
    "start_time": "2024-06-03T22:33:08.530Z"
   },
   {
    "duration": 1102,
    "start_time": "2024-06-03T22:33:08.547Z"
   },
   {
    "duration": 7,
    "start_time": "2024-06-03T22:33:09.655Z"
   },
   {
    "duration": 97,
    "start_time": "2024-06-03T22:33:09.666Z"
   },
   {
    "duration": 17,
    "start_time": "2024-06-03T22:33:09.767Z"
   },
   {
    "duration": 12,
    "start_time": "2024-06-03T22:33:09.788Z"
   },
   {
    "duration": 17,
    "start_time": "2024-06-03T22:33:09.824Z"
   },
   {
    "duration": 84,
    "start_time": "2024-06-03T22:33:09.845Z"
   },
   {
    "duration": 7,
    "start_time": "2024-06-03T22:33:09.935Z"
   },
   {
    "duration": 321,
    "start_time": "2024-06-03T22:33:09.947Z"
   },
   {
    "duration": 21973,
    "start_time": "2024-06-03T22:33:10.273Z"
   },
   {
    "duration": 31049,
    "start_time": "2024-06-03T22:33:32.250Z"
   },
   {
    "duration": 39,
    "start_time": "2024-06-03T22:34:03.302Z"
   },
   {
    "duration": 17,
    "start_time": "2024-06-03T22:34:03.344Z"
   },
   {
    "duration": 82,
    "start_time": "2024-06-03T22:34:03.365Z"
   },
   {
    "duration": 12,
    "start_time": "2024-06-03T22:34:03.450Z"
   },
   {
    "duration": 10,
    "start_time": "2024-06-03T22:34:03.466Z"
   },
   {
    "duration": 36,
    "start_time": "2024-06-03T22:34:03.492Z"
   },
   {
    "duration": 209,
    "start_time": "2024-06-03T22:34:03.532Z"
   },
   {
    "duration": 233,
    "start_time": "2024-06-03T22:34:03.746Z"
   },
   {
    "duration": 10,
    "start_time": "2024-06-03T22:34:03.982Z"
   },
   {
    "duration": 64,
    "start_time": "2024-06-03T22:37:01.454Z"
   },
   {
    "duration": 86,
    "start_time": "2024-06-03T22:37:25.956Z"
   },
   {
    "duration": 66,
    "start_time": "2024-06-03T22:38:01.775Z"
   },
   {
    "duration": 72,
    "start_time": "2024-06-03T22:39:27.176Z"
   },
   {
    "duration": 1520,
    "start_time": "2024-06-03T22:39:35.897Z"
   },
   {
    "duration": 34,
    "start_time": "2024-06-03T22:39:37.421Z"
   },
   {
    "duration": 19,
    "start_time": "2024-06-03T22:39:37.459Z"
   },
   {
    "duration": 6,
    "start_time": "2024-06-03T22:39:37.484Z"
   },
   {
    "duration": 6,
    "start_time": "2024-06-03T22:39:37.524Z"
   },
   {
    "duration": 6,
    "start_time": "2024-06-03T22:39:37.534Z"
   },
   {
    "duration": 12,
    "start_time": "2024-06-03T22:39:37.544Z"
   },
   {
    "duration": 129,
    "start_time": "2024-06-03T22:39:37.559Z"
   },
   {
    "duration": 13,
    "start_time": "2024-06-03T22:39:37.692Z"
   },
   {
    "duration": 7,
    "start_time": "2024-06-03T22:39:37.723Z"
   },
   {
    "duration": 7,
    "start_time": "2024-06-03T22:39:37.733Z"
   },
   {
    "duration": 5,
    "start_time": "2024-06-03T22:39:37.745Z"
   },
   {
    "duration": 17,
    "start_time": "2024-06-03T22:39:37.753Z"
   },
   {
    "duration": 16,
    "start_time": "2024-06-03T22:39:37.822Z"
   },
   {
    "duration": 16,
    "start_time": "2024-06-03T22:39:37.841Z"
   },
   {
    "duration": 61,
    "start_time": "2024-06-03T22:39:37.862Z"
   },
   {
    "duration": 79,
    "start_time": "2024-06-03T22:39:37.926Z"
   },
   {
    "duration": 102,
    "start_time": "2024-06-03T22:39:38.024Z"
   },
   {
    "duration": 90,
    "start_time": "2024-06-03T22:39:38.132Z"
   },
   {
    "duration": 13,
    "start_time": "2024-06-03T22:39:38.226Z"
   },
   {
    "duration": 8,
    "start_time": "2024-06-03T22:39:38.243Z"
   },
   {
    "duration": 72,
    "start_time": "2024-06-03T22:39:38.254Z"
   },
   {
    "duration": 93,
    "start_time": "2024-06-03T22:39:38.330Z"
   },
   {
    "duration": 12,
    "start_time": "2024-06-03T22:39:38.427Z"
   },
   {
    "duration": 194,
    "start_time": "2024-06-03T22:39:38.443Z"
   },
   {
    "duration": 5,
    "start_time": "2024-06-03T22:39:38.641Z"
   },
   {
    "duration": 13,
    "start_time": "2024-06-03T22:39:38.650Z"
   },
   {
    "duration": 51,
    "start_time": "2024-06-03T22:39:38.673Z"
   },
   {
    "duration": 10,
    "start_time": "2024-06-03T22:39:38.729Z"
   },
   {
    "duration": 16,
    "start_time": "2024-06-03T22:39:38.742Z"
   },
   {
    "duration": 13,
    "start_time": "2024-06-03T22:39:38.763Z"
   },
   {
    "duration": 1114,
    "start_time": "2024-06-03T22:39:38.780Z"
   },
   {
    "duration": 6,
    "start_time": "2024-06-03T22:39:39.898Z"
   },
   {
    "duration": 62,
    "start_time": "2024-06-03T22:39:39.925Z"
   },
   {
    "duration": 36,
    "start_time": "2024-06-03T22:39:39.991Z"
   },
   {
    "duration": 11,
    "start_time": "2024-06-03T22:39:40.032Z"
   },
   {
    "duration": 15,
    "start_time": "2024-06-03T22:39:40.047Z"
   },
   {
    "duration": 108,
    "start_time": "2024-06-03T22:39:40.065Z"
   },
   {
    "duration": 7,
    "start_time": "2024-06-03T22:39:40.176Z"
   },
   {
    "duration": 272,
    "start_time": "2024-06-03T22:39:40.187Z"
   },
   {
    "duration": 20908,
    "start_time": "2024-06-03T22:39:40.463Z"
   },
   {
    "duration": 31533,
    "start_time": "2024-06-03T22:40:01.375Z"
   },
   {
    "duration": 31,
    "start_time": "2024-06-03T22:40:32.911Z"
   },
   {
    "duration": 17,
    "start_time": "2024-06-03T22:40:32.945Z"
   },
   {
    "duration": 90,
    "start_time": "2024-06-03T22:40:32.966Z"
   },
   {
    "duration": 12,
    "start_time": "2024-06-03T22:40:33.060Z"
   },
   {
    "duration": 10,
    "start_time": "2024-06-03T22:40:33.076Z"
   },
   {
    "duration": 48,
    "start_time": "2024-06-03T22:40:33.089Z"
   },
   {
    "duration": 233,
    "start_time": "2024-06-03T22:40:33.141Z"
   },
   {
    "duration": 231,
    "start_time": "2024-06-03T22:40:33.377Z"
   },
   {
    "duration": 18,
    "start_time": "2024-06-03T22:40:33.611Z"
   },
   {
    "duration": 10,
    "start_time": "2024-06-03T22:41:45.464Z"
   },
   {
    "duration": 9,
    "start_time": "2024-06-03T22:42:11.391Z"
   },
   {
    "duration": 12,
    "start_time": "2024-06-03T22:42:14.397Z"
   },
   {
    "duration": 13,
    "start_time": "2024-06-03T22:42:51.932Z"
   },
   {
    "duration": 50,
    "start_time": "2024-06-03T22:43:47.465Z"
   },
   {
    "duration": 6,
    "start_time": "2024-06-03T22:44:11.014Z"
   },
   {
    "duration": 11,
    "start_time": "2024-06-03T22:44:21.940Z"
   },
   {
    "duration": 8,
    "start_time": "2024-06-03T22:44:37.547Z"
   },
   {
    "duration": 10,
    "start_time": "2024-06-03T22:44:41.921Z"
   },
   {
    "duration": 12,
    "start_time": "2024-06-03T22:46:16.481Z"
   },
   {
    "duration": 13,
    "start_time": "2024-06-03T22:46:46.675Z"
   },
   {
    "duration": 1055,
    "start_time": "2024-06-03T22:48:19.107Z"
   },
   {
    "duration": 5,
    "start_time": "2024-06-03T22:48:55.482Z"
   },
   {
    "duration": 55,
    "start_time": "2024-06-03T22:49:04.089Z"
   },
   {
    "duration": 9,
    "start_time": "2024-06-03T22:49:30.824Z"
   },
   {
    "duration": 17,
    "start_time": "2024-06-03T22:49:59.687Z"
   },
   {
    "duration": 12,
    "start_time": "2024-06-03T22:50:16.183Z"
   },
   {
    "duration": 58,
    "start_time": "2024-06-03T22:51:13.804Z"
   },
   {
    "duration": 7,
    "start_time": "2024-06-03T22:52:31.865Z"
   },
   {
    "duration": 262,
    "start_time": "2024-06-03T22:52:45.383Z"
   },
   {
    "duration": 20773,
    "start_time": "2024-06-03T22:52:59.253Z"
   },
   {
    "duration": 30605,
    "start_time": "2024-06-03T22:53:31.592Z"
   },
   {
    "duration": 25,
    "start_time": "2024-06-03T22:57:41.381Z"
   },
   {
    "duration": 18,
    "start_time": "2024-06-03T22:57:44.502Z"
   },
   {
    "duration": 11,
    "start_time": "2024-06-03T22:58:07.942Z"
   },
   {
    "duration": 13,
    "start_time": "2024-06-03T22:58:42.150Z"
   },
   {
    "duration": 55,
    "start_time": "2024-06-03T22:58:47.603Z"
   },
   {
    "duration": 12,
    "start_time": "2024-06-03T22:59:12.371Z"
   },
   {
    "duration": 10,
    "start_time": "2024-06-03T22:59:37.364Z"
   },
   {
    "duration": 13,
    "start_time": "2024-06-03T22:59:42.549Z"
   },
   {
    "duration": 177,
    "start_time": "2024-06-03T23:00:51.335Z"
   },
   {
    "duration": 190,
    "start_time": "2024-06-03T23:00:59.099Z"
   },
   {
    "duration": 8,
    "start_time": "2024-06-03T23:01:14.866Z"
   },
   {
    "duration": 1486,
    "start_time": "2024-06-03T23:04:27.984Z"
   },
   {
    "duration": 39,
    "start_time": "2024-06-03T23:04:29.473Z"
   },
   {
    "duration": 25,
    "start_time": "2024-06-03T23:04:29.515Z"
   },
   {
    "duration": 6,
    "start_time": "2024-06-03T23:04:29.544Z"
   },
   {
    "duration": 6,
    "start_time": "2024-06-03T23:04:29.555Z"
   },
   {
    "duration": 5,
    "start_time": "2024-06-03T23:04:29.566Z"
   },
   {
    "duration": 13,
    "start_time": "2024-06-03T23:04:29.622Z"
   },
   {
    "duration": 120,
    "start_time": "2024-06-03T23:04:29.638Z"
   },
   {
    "duration": 11,
    "start_time": "2024-06-03T23:04:29.761Z"
   },
   {
    "duration": 7,
    "start_time": "2024-06-03T23:04:29.776Z"
   },
   {
    "duration": 40,
    "start_time": "2024-06-03T23:04:29.787Z"
   },
   {
    "duration": 5,
    "start_time": "2024-06-03T23:04:29.833Z"
   },
   {
    "duration": 14,
    "start_time": "2024-06-03T23:04:29.842Z"
   },
   {
    "duration": 14,
    "start_time": "2024-06-03T23:04:29.864Z"
   },
   {
    "duration": 17,
    "start_time": "2024-06-03T23:04:29.926Z"
   },
   {
    "duration": 18,
    "start_time": "2024-06-03T23:04:29.946Z"
   },
   {
    "duration": 110,
    "start_time": "2024-06-03T23:04:29.970Z"
   },
   {
    "duration": 151,
    "start_time": "2024-06-03T23:04:30.083Z"
   },
   {
    "duration": 13,
    "start_time": "2024-06-03T23:04:30.238Z"
   },
   {
    "duration": 13,
    "start_time": "2024-06-03T23:04:30.324Z"
   },
   {
    "duration": 86,
    "start_time": "2024-06-03T23:04:30.342Z"
   },
   {
    "duration": 13,
    "start_time": "2024-06-03T23:04:30.433Z"
   },
   {
    "duration": 82,
    "start_time": "2024-06-03T23:04:30.449Z"
   },
   {
    "duration": 17,
    "start_time": "2024-06-03T23:04:30.535Z"
   },
   {
    "duration": 185,
    "start_time": "2024-06-03T23:04:30.559Z"
   },
   {
    "duration": 6,
    "start_time": "2024-06-03T23:04:30.747Z"
   },
   {
    "duration": 12,
    "start_time": "2024-06-03T23:04:30.756Z"
   },
   {
    "duration": 10,
    "start_time": "2024-06-03T23:04:30.771Z"
   },
   {
    "duration": 49,
    "start_time": "2024-06-03T23:04:30.783Z"
   },
   {
    "duration": 13,
    "start_time": "2024-06-03T23:04:30.835Z"
   },
   {
    "duration": 11,
    "start_time": "2024-06-03T23:04:30.851Z"
   },
   {
    "duration": 1083,
    "start_time": "2024-06-03T23:04:30.865Z"
   },
   {
    "duration": 6,
    "start_time": "2024-06-03T23:04:31.951Z"
   },
   {
    "duration": 80,
    "start_time": "2024-06-03T23:04:31.961Z"
   },
   {
    "duration": 7,
    "start_time": "2024-06-03T23:04:32.044Z"
   },
   {
    "duration": 10,
    "start_time": "2024-06-03T23:04:32.055Z"
   },
   {
    "duration": 54,
    "start_time": "2024-06-03T23:04:32.069Z"
   },
   {
    "duration": 58,
    "start_time": "2024-06-03T23:04:32.126Z"
   },
   {
    "duration": 6,
    "start_time": "2024-06-03T23:04:32.186Z"
   },
   {
    "duration": 238,
    "start_time": "2024-06-03T23:04:32.223Z"
   },
   {
    "duration": 20487,
    "start_time": "2024-06-03T23:04:32.469Z"
   },
   {
    "duration": 30642,
    "start_time": "2024-06-03T23:04:52.959Z"
   },
   {
    "duration": 35,
    "start_time": "2024-06-03T23:05:23.604Z"
   },
   {
    "duration": 10,
    "start_time": "2024-06-03T23:05:23.642Z"
   },
   {
    "duration": 77,
    "start_time": "2024-06-03T23:05:23.656Z"
   },
   {
    "duration": 12,
    "start_time": "2024-06-03T23:05:23.736Z"
   },
   {
    "duration": 9,
    "start_time": "2024-06-03T23:05:23.752Z"
   },
   {
    "duration": 12,
    "start_time": "2024-06-03T23:05:23.764Z"
   },
   {
    "duration": 251,
    "start_time": "2024-06-03T23:05:23.779Z"
   },
   {
    "duration": 211,
    "start_time": "2024-06-03T23:05:24.033Z"
   },
   {
    "duration": 8,
    "start_time": "2024-06-03T23:05:24.247Z"
   },
   {
    "duration": 1507,
    "start_time": "2024-06-04T03:35:35.199Z"
   },
   {
    "duration": 33,
    "start_time": "2024-06-04T03:35:36.709Z"
   },
   {
    "duration": 18,
    "start_time": "2024-06-04T03:35:36.745Z"
   },
   {
    "duration": 6,
    "start_time": "2024-06-04T03:35:36.767Z"
   },
   {
    "duration": 6,
    "start_time": "2024-06-04T03:35:36.807Z"
   },
   {
    "duration": 6,
    "start_time": "2024-06-04T03:35:36.816Z"
   },
   {
    "duration": 11,
    "start_time": "2024-06-04T03:35:36.825Z"
   },
   {
    "duration": 123,
    "start_time": "2024-06-04T03:35:36.838Z"
   },
   {
    "duration": 10,
    "start_time": "2024-06-04T03:35:36.964Z"
   },
   {
    "duration": 26,
    "start_time": "2024-06-04T03:35:36.981Z"
   },
   {
    "duration": 5,
    "start_time": "2024-06-04T03:35:37.011Z"
   },
   {
    "duration": 4,
    "start_time": "2024-06-04T03:35:37.019Z"
   },
   {
    "duration": 14,
    "start_time": "2024-06-04T03:35:37.027Z"
   },
   {
    "duration": 13,
    "start_time": "2024-06-04T03:35:37.044Z"
   },
   {
    "duration": 60,
    "start_time": "2024-06-04T03:35:37.060Z"
   },
   {
    "duration": 16,
    "start_time": "2024-06-04T03:35:37.123Z"
   },
   {
    "duration": 109,
    "start_time": "2024-06-04T03:35:37.142Z"
   },
   {
    "duration": 69,
    "start_time": "2024-06-04T03:35:37.254Z"
   },
   {
    "duration": 81,
    "start_time": "2024-06-04T03:35:37.326Z"
   },
   {
    "duration": 16,
    "start_time": "2024-06-04T03:35:37.411Z"
   },
   {
    "duration": 85,
    "start_time": "2024-06-04T03:35:37.430Z"
   },
   {
    "duration": 87,
    "start_time": "2024-06-04T03:35:37.519Z"
   },
   {
    "duration": 10,
    "start_time": "2024-06-04T03:35:37.610Z"
   },
   {
    "duration": 15,
    "start_time": "2024-06-04T03:35:37.623Z"
   },
   {
    "duration": 196,
    "start_time": "2024-06-04T03:35:37.641Z"
   },
   {
    "duration": 5,
    "start_time": "2024-06-04T03:35:37.841Z"
   },
   {
    "duration": 13,
    "start_time": "2024-06-04T03:35:37.849Z"
   },
   {
    "duration": 47,
    "start_time": "2024-06-04T03:35:37.869Z"
   },
   {
    "duration": 11,
    "start_time": "2024-06-04T03:35:37.920Z"
   },
   {
    "duration": 12,
    "start_time": "2024-06-04T03:35:37.941Z"
   },
   {
    "duration": 11,
    "start_time": "2024-06-04T03:35:37.956Z"
   },
   {
    "duration": 1367,
    "start_time": "2024-06-04T03:35:37.971Z"
   },
   {
    "duration": 6,
    "start_time": "2024-06-04T03:35:39.341Z"
   },
   {
    "duration": 61,
    "start_time": "2024-06-04T03:35:39.349Z"
   },
   {
    "duration": 10,
    "start_time": "2024-06-04T03:35:39.413Z"
   },
   {
    "duration": 11,
    "start_time": "2024-06-04T03:35:39.426Z"
   },
   {
    "duration": 13,
    "start_time": "2024-06-04T03:35:39.440Z"
   },
   {
    "duration": 88,
    "start_time": "2024-06-04T03:35:39.457Z"
   },
   {
    "duration": 7,
    "start_time": "2024-06-04T03:35:39.547Z"
   },
   {
    "duration": 267,
    "start_time": "2024-06-04T03:35:39.557Z"
   },
   {
    "duration": 20014,
    "start_time": "2024-06-04T03:35:39.827Z"
   },
   {
    "duration": 32462,
    "start_time": "2024-06-04T03:35:59.844Z"
   },
   {
    "duration": 26,
    "start_time": "2024-06-04T03:36:32.309Z"
   },
   {
    "duration": 10,
    "start_time": "2024-06-04T03:36:32.338Z"
   },
   {
    "duration": 95,
    "start_time": "2024-06-04T03:36:32.352Z"
   },
   {
    "duration": 12,
    "start_time": "2024-06-04T03:36:32.450Z"
   },
   {
    "duration": 8,
    "start_time": "2024-06-04T03:36:32.466Z"
   },
   {
    "duration": 40,
    "start_time": "2024-06-04T03:36:32.478Z"
   },
   {
    "duration": 212,
    "start_time": "2024-06-04T03:36:32.521Z"
   },
   {
    "duration": 197,
    "start_time": "2024-06-04T03:36:32.736Z"
   },
   {
    "duration": 8,
    "start_time": "2024-06-04T03:36:32.936Z"
   },
   {
    "duration": 62,
    "start_time": "2024-06-04T03:37:06.676Z"
   },
   {
    "duration": 62,
    "start_time": "2024-06-04T03:37:18.089Z"
   },
   {
    "duration": 18,
    "start_time": "2024-06-04T03:37:50.646Z"
   },
   {
    "duration": 1454,
    "start_time": "2024-06-04T03:37:57.574Z"
   },
   {
    "duration": 34,
    "start_time": "2024-06-04T03:37:59.031Z"
   },
   {
    "duration": 40,
    "start_time": "2024-06-04T03:37:59.068Z"
   },
   {
    "duration": 7,
    "start_time": "2024-06-04T03:37:59.113Z"
   },
   {
    "duration": 7,
    "start_time": "2024-06-04T03:37:59.123Z"
   },
   {
    "duration": 6,
    "start_time": "2024-06-04T03:37:59.133Z"
   },
   {
    "duration": 12,
    "start_time": "2024-06-04T03:37:59.142Z"
   },
   {
    "duration": 127,
    "start_time": "2024-06-04T03:37:59.156Z"
   },
   {
    "duration": 23,
    "start_time": "2024-06-04T03:37:59.290Z"
   },
   {
    "duration": 6,
    "start_time": "2024-06-04T03:37:59.321Z"
   },
   {
    "duration": 5,
    "start_time": "2024-06-04T03:37:59.330Z"
   },
   {
    "duration": 5,
    "start_time": "2024-06-04T03:37:59.338Z"
   },
   {
    "duration": 16,
    "start_time": "2024-06-04T03:37:59.345Z"
   },
   {
    "duration": 20,
    "start_time": "2024-06-04T03:37:59.408Z"
   },
   {
    "duration": 19,
    "start_time": "2024-06-04T03:37:59.432Z"
   },
   {
    "duration": 18,
    "start_time": "2024-06-04T03:37:59.455Z"
   },
   {
    "duration": 73,
    "start_time": "2024-06-04T03:37:59.507Z"
   },
   {
    "duration": 48,
    "start_time": "2024-06-04T03:37:59.582Z"
   },
   {
    "duration": 77,
    "start_time": "2024-06-04T03:37:59.632Z"
   },
   {
    "duration": 97,
    "start_time": "2024-06-04T03:37:59.711Z"
   },
   {
    "duration": 12,
    "start_time": "2024-06-04T03:37:59.815Z"
   },
   {
    "duration": 82,
    "start_time": "2024-06-04T03:37:59.832Z"
   },
   {
    "duration": 10,
    "start_time": "2024-06-04T03:37:59.918Z"
   },
   {
    "duration": 11,
    "start_time": "2024-06-04T03:37:59.931Z"
   },
   {
    "duration": 176,
    "start_time": "2024-06-04T03:37:59.945Z"
   },
   {
    "duration": 6,
    "start_time": "2024-06-04T03:38:00.123Z"
   },
   {
    "duration": 11,
    "start_time": "2024-06-04T03:38:00.132Z"
   },
   {
    "duration": 7,
    "start_time": "2024-06-04T03:38:00.150Z"
   },
   {
    "duration": 53,
    "start_time": "2024-06-04T03:38:00.160Z"
   },
   {
    "duration": 11,
    "start_time": "2024-06-04T03:38:00.216Z"
   },
   {
    "duration": 13,
    "start_time": "2024-06-04T03:38:00.231Z"
   },
   {
    "duration": 1041,
    "start_time": "2024-06-04T03:38:00.247Z"
   },
   {
    "duration": 5,
    "start_time": "2024-06-04T03:38:01.291Z"
   },
   {
    "duration": 56,
    "start_time": "2024-06-04T03:38:01.307Z"
   },
   {
    "duration": 7,
    "start_time": "2024-06-04T03:38:01.366Z"
   },
   {
    "duration": 10,
    "start_time": "2024-06-04T03:38:01.405Z"
   },
   {
    "duration": 12,
    "start_time": "2024-06-04T03:38:01.420Z"
   },
   {
    "duration": 84,
    "start_time": "2024-06-04T03:38:01.436Z"
   },
   {
    "duration": 5,
    "start_time": "2024-06-04T03:38:01.526Z"
   },
   {
    "duration": 297,
    "start_time": "2024-06-04T03:38:01.535Z"
   },
   {
    "duration": 20054,
    "start_time": "2024-06-04T03:38:01.836Z"
   },
   {
    "duration": 30287,
    "start_time": "2024-06-04T03:38:21.894Z"
   },
   {
    "duration": 42,
    "start_time": "2024-06-04T03:38:52.185Z"
   },
   {
    "duration": 13,
    "start_time": "2024-06-04T03:38:52.230Z"
   },
   {
    "duration": 81,
    "start_time": "2024-06-04T03:38:52.247Z"
   },
   {
    "duration": 11,
    "start_time": "2024-06-04T03:38:52.331Z"
   },
   {
    "duration": 9,
    "start_time": "2024-06-04T03:38:52.344Z"
   },
   {
    "duration": 11,
    "start_time": "2024-06-04T03:38:52.357Z"
   },
   {
    "duration": 243,
    "start_time": "2024-06-04T03:38:52.371Z"
   },
   {
    "duration": 200,
    "start_time": "2024-06-04T03:38:52.618Z"
   },
   {
    "duration": 8,
    "start_time": "2024-06-04T03:38:52.821Z"
   },
   {
    "duration": 309,
    "start_time": "2024-06-04T12:30:49.453Z"
   },
   {
    "duration": 5147,
    "start_time": "2024-06-04T12:30:59.261Z"
   },
   {
    "duration": 48,
    "start_time": "2024-06-04T12:31:04.412Z"
   },
   {
    "duration": 18,
    "start_time": "2024-06-04T12:31:04.463Z"
   },
   {
    "duration": 16,
    "start_time": "2024-06-04T12:31:04.486Z"
   },
   {
    "duration": 8,
    "start_time": "2024-06-04T12:31:04.505Z"
   },
   {
    "duration": 5,
    "start_time": "2024-06-04T12:31:04.516Z"
   },
   {
    "duration": 12,
    "start_time": "2024-06-04T12:31:04.525Z"
   },
   {
    "duration": 62,
    "start_time": "2024-06-04T12:31:04.540Z"
   },
   {
    "duration": 11,
    "start_time": "2024-06-04T12:31:04.604Z"
   },
   {
    "duration": 6,
    "start_time": "2024-06-04T12:31:04.621Z"
   },
   {
    "duration": 6,
    "start_time": "2024-06-04T12:31:04.630Z"
   },
   {
    "duration": 4,
    "start_time": "2024-06-04T12:31:04.639Z"
   },
   {
    "duration": 62,
    "start_time": "2024-06-04T12:31:04.647Z"
   },
   {
    "duration": 15,
    "start_time": "2024-06-04T12:31:04.712Z"
   },
   {
    "duration": 18,
    "start_time": "2024-06-04T12:31:04.730Z"
   },
   {
    "duration": 56,
    "start_time": "2024-06-04T12:31:04.751Z"
   },
   {
    "duration": 71,
    "start_time": "2024-06-04T12:31:04.811Z"
   },
   {
    "duration": 98,
    "start_time": "2024-06-04T12:31:04.902Z"
   },
   {
    "duration": 13,
    "start_time": "2024-06-04T12:31:05.003Z"
   },
   {
    "duration": 81,
    "start_time": "2024-06-04T12:31:05.020Z"
   },
   {
    "duration": 7,
    "start_time": "2024-06-04T12:31:05.104Z"
   },
   {
    "duration": 90,
    "start_time": "2024-06-04T12:31:05.114Z"
   },
   {
    "duration": 12,
    "start_time": "2024-06-04T12:31:05.208Z"
   },
   {
    "duration": 16,
    "start_time": "2024-06-04T12:31:05.223Z"
   },
   {
    "duration": 188,
    "start_time": "2024-06-04T12:31:05.243Z"
   },
   {
    "duration": 5,
    "start_time": "2024-06-04T12:31:05.435Z"
   },
   {
    "duration": 11,
    "start_time": "2024-06-04T12:31:05.444Z"
   },
   {
    "duration": 38,
    "start_time": "2024-06-04T12:31:05.463Z"
   },
   {
    "duration": 9,
    "start_time": "2024-06-04T12:31:05.505Z"
   },
   {
    "duration": 12,
    "start_time": "2024-06-04T12:31:05.517Z"
   },
   {
    "duration": 12,
    "start_time": "2024-06-04T12:31:05.531Z"
   },
   {
    "duration": 1087,
    "start_time": "2024-06-04T12:31:05.546Z"
   },
   {
    "duration": 6,
    "start_time": "2024-06-04T12:31:06.636Z"
   },
   {
    "duration": 83,
    "start_time": "2024-06-04T12:31:06.645Z"
   },
   {
    "duration": 7,
    "start_time": "2024-06-04T12:31:06.733Z"
   },
   {
    "duration": 10,
    "start_time": "2024-06-04T12:31:06.744Z"
   },
   {
    "duration": 49,
    "start_time": "2024-06-04T12:31:06.757Z"
   },
   {
    "duration": 60,
    "start_time": "2024-06-04T12:31:06.809Z"
   },
   {
    "duration": 6,
    "start_time": "2024-06-04T12:31:06.872Z"
   },
   {
    "duration": 237,
    "start_time": "2024-06-04T12:31:06.903Z"
   },
   {
    "duration": 20111,
    "start_time": "2024-06-04T12:31:07.143Z"
   },
   {
    "duration": 30091,
    "start_time": "2024-06-04T12:31:27.257Z"
   },
   {
    "duration": 26,
    "start_time": "2024-06-04T12:31:57.351Z"
   },
   {
    "duration": 22,
    "start_time": "2024-06-04T12:31:57.380Z"
   },
   {
    "duration": 55,
    "start_time": "2024-06-04T12:31:57.406Z"
   },
   {
    "duration": 10,
    "start_time": "2024-06-04T12:31:57.464Z"
   },
   {
    "duration": 35,
    "start_time": "2024-06-04T12:31:57.476Z"
   },
   {
    "duration": 12,
    "start_time": "2024-06-04T12:31:57.513Z"
   },
   {
    "duration": 227,
    "start_time": "2024-06-04T12:31:57.528Z"
   },
   {
    "duration": 208,
    "start_time": "2024-06-04T12:31:57.758Z"
   },
   {
    "duration": 9,
    "start_time": "2024-06-04T12:31:57.969Z"
   },
   {
    "duration": 1465,
    "start_time": "2024-06-04T12:38:45.957Z"
   },
   {
    "duration": 34,
    "start_time": "2024-06-04T12:38:47.426Z"
   },
   {
    "duration": 38,
    "start_time": "2024-06-04T12:38:47.462Z"
   },
   {
    "duration": 5,
    "start_time": "2024-06-04T12:38:47.506Z"
   },
   {
    "duration": 6,
    "start_time": "2024-06-04T12:38:47.515Z"
   },
   {
    "duration": 6,
    "start_time": "2024-06-04T12:38:47.524Z"
   },
   {
    "duration": 11,
    "start_time": "2024-06-04T12:38:47.533Z"
   },
   {
    "duration": 132,
    "start_time": "2024-06-04T12:38:47.547Z"
   },
   {
    "duration": 23,
    "start_time": "2024-06-04T12:38:47.683Z"
   },
   {
    "duration": 9,
    "start_time": "2024-06-04T12:38:47.713Z"
   },
   {
    "duration": 5,
    "start_time": "2024-06-04T12:38:47.726Z"
   },
   {
    "duration": 6,
    "start_time": "2024-06-04T12:38:47.734Z"
   },
   {
    "duration": 58,
    "start_time": "2024-06-04T12:38:47.743Z"
   },
   {
    "duration": 18,
    "start_time": "2024-06-04T12:38:47.806Z"
   },
   {
    "duration": 18,
    "start_time": "2024-06-04T12:38:47.829Z"
   },
   {
    "duration": 51,
    "start_time": "2024-06-04T12:38:47.851Z"
   },
   {
    "duration": 76,
    "start_time": "2024-06-04T12:38:47.904Z"
   },
   {
    "duration": 99,
    "start_time": "2024-06-04T12:38:48.003Z"
   },
   {
    "duration": 8,
    "start_time": "2024-06-04T12:38:48.105Z"
   },
   {
    "duration": 84,
    "start_time": "2024-06-04T12:38:48.117Z"
   },
   {
    "duration": 7,
    "start_time": "2024-06-04T12:38:48.208Z"
   },
   {
    "duration": 9,
    "start_time": "2024-06-04T12:38:48.219Z"
   },
   {
    "duration": 77,
    "start_time": "2024-06-04T12:38:48.231Z"
   },
   {
    "duration": 11,
    "start_time": "2024-06-04T12:38:48.311Z"
   },
   {
    "duration": 188,
    "start_time": "2024-06-04T12:38:48.325Z"
   },
   {
    "duration": 6,
    "start_time": "2024-06-04T12:38:48.516Z"
   },
   {
    "duration": 11,
    "start_time": "2024-06-04T12:38:48.526Z"
   },
   {
    "duration": 8,
    "start_time": "2024-06-04T12:38:48.545Z"
   },
   {
    "duration": 51,
    "start_time": "2024-06-04T12:38:48.556Z"
   },
   {
    "duration": 11,
    "start_time": "2024-06-04T12:38:48.610Z"
   },
   {
    "duration": 12,
    "start_time": "2024-06-04T12:38:48.623Z"
   },
   {
    "duration": 1057,
    "start_time": "2024-06-04T12:38:48.638Z"
   },
   {
    "duration": 7,
    "start_time": "2024-06-04T12:38:49.697Z"
   },
   {
    "duration": 56,
    "start_time": "2024-06-04T12:38:49.707Z"
   },
   {
    "duration": 38,
    "start_time": "2024-06-04T12:38:49.766Z"
   },
   {
    "duration": 9,
    "start_time": "2024-06-04T12:38:49.807Z"
   },
   {
    "duration": 13,
    "start_time": "2024-06-04T12:38:49.819Z"
   },
   {
    "duration": 92,
    "start_time": "2024-06-04T12:38:49.834Z"
   },
   {
    "duration": 6,
    "start_time": "2024-06-04T12:38:49.930Z"
   },
   {
    "duration": 294,
    "start_time": "2024-06-04T12:38:49.939Z"
   },
   {
    "duration": 20138,
    "start_time": "2024-06-04T12:38:50.236Z"
   },
   {
    "duration": 30021,
    "start_time": "2024-06-04T12:39:10.378Z"
   },
   {
    "duration": 26,
    "start_time": "2024-06-04T12:39:40.403Z"
   },
   {
    "duration": 12,
    "start_time": "2024-06-04T12:39:40.432Z"
   },
   {
    "duration": 91,
    "start_time": "2024-06-04T12:39:40.447Z"
   },
   {
    "duration": 12,
    "start_time": "2024-06-04T12:39:40.541Z"
   },
   {
    "duration": 9,
    "start_time": "2024-06-04T12:39:40.556Z"
   },
   {
    "duration": 44,
    "start_time": "2024-06-04T12:39:40.568Z"
   },
   {
    "duration": 217,
    "start_time": "2024-06-04T12:39:40.616Z"
   },
   {
    "duration": 218,
    "start_time": "2024-06-04T12:39:40.836Z"
   },
   {
    "duration": 9,
    "start_time": "2024-06-04T12:39:41.058Z"
   }
  ],
  "kernelspec": {
   "display_name": "Python 3 (ipykernel)",
   "language": "python",
   "name": "python3"
  },
  "language_info": {
   "codemirror_mode": {
    "name": "ipython",
    "version": 3
   },
   "file_extension": ".py",
   "mimetype": "text/x-python",
   "name": "python",
   "nbconvert_exporter": "python",
   "pygments_lexer": "ipython3",
   "version": "3.12.4"
  },
  "toc": {
   "base_numbering": 1,
   "nav_menu": {},
   "number_sections": true,
   "sideBar": true,
   "skip_h1_title": true,
   "title_cell": "Table of Contents",
   "title_sidebar": "Contents",
   "toc_cell": false,
   "toc_position": {},
   "toc_section_display": true,
   "toc_window_display": false
  }
 },
 "nbformat": 4,
 "nbformat_minor": 2
}
